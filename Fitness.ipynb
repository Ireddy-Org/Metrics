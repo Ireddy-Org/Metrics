{
 "cells": [
  {
   "cell_type": "markdown",
   "id": "9bb5249f",
   "metadata": {},
   "source": [
    "# Fitness - Metric"
   ]
  },
  {
   "cell_type": "markdown",
   "id": "8f49164f",
   "metadata": {},
   "source": [
    "### Replay Fitness quantifies the extent to which the model can reproduce the traces recorded in the log."
   ]
  },
  {
   "cell_type": "markdown",
   "id": "5d8d45cc",
   "metadata": {},
   "source": [
    "### The quality dimension of replay Fitness describes the fraction of the behavior in the event log that can be replayed by the process model."
   ]
  },
  {
   "cell_type": "markdown",
   "id": "14fc77c8",
   "metadata": {},
   "source": [
    "#### Importing Libraries"
   ]
  },
  {
   "cell_type": "code",
   "execution_count": 1,
   "id": "1f203438",
   "metadata": {},
   "outputs": [],
   "source": [
    "import os\n",
    "import configparser\n",
    "from datetime import date\n",
    "import pandas as pd\n",
    "import re\n",
    "import graphviz\n",
    "import math\n",
    "import seaborn as sns\n",
    "import collections\n",
    "import matplotlib.pyplot as plt\n",
    "from matplotlib.pyplot import figure\n",
    "import matplotlib as mpl\n",
    "mpl.rcParams['figure.dpi'] = 100\n",
    "sns.set(style=\"whitegrid\")\n",
    "\n",
    "from tqdm import tqdm\n",
    "from tqdm import trange\n",
    "\n",
    "#pd.set_option('display.max_columns', None)\n",
    "#pd.set_option('display.max_rows', None)"
   ]
  },
  {
   "cell_type": "markdown",
   "id": "4acec1a9",
   "metadata": {},
   "source": [
    "#### Profit Intialization"
   ]
  },
  {
   "cell_type": "code",
   "execution_count": 4,
   "id": "301220ec",
   "metadata": {},
   "outputs": [],
   "source": [
    "PATH = 'C:\\\\Users\\\\ashis\\\\Python Notebooks\\\\ProFIT'# path to ProFIT directory\n",
    "config = configparser.ConfigParser()\n",
    "config.add_section(\"packageLocation\")\n",
    "config.set(\"packageLocation\", \"workingDir\", PATH)\n",
    "config.set(\"packageLocation\", \"packageDir\", PATH+'\\\\profit')\n",
    "\n",
    "\n",
    "import sys\n",
    "sys.path.append(config[\"packageLocation\"][\"workingDir\"])\n",
    "sys.path.append(config[\"packageLocation\"][\"packageDir\"])\n",
    "\n",
    "\n",
    "from profit import ProcessMap\n",
    "pm = ProcessMap()"
   ]
  },
  {
   "cell_type": "markdown",
   "id": "4705232d",
   "metadata": {},
   "source": [
    "### Net Graph GENERATOR "
   ]
  },
  {
   "cell_type": "code",
   "execution_count": 5,
   "id": "19557d1e",
   "metadata": {},
   "outputs": [],
   "source": [
    "def Filter(net):\n",
    "        temp = str(net)\n",
    "        temp = temp.lower()\n",
    "        temp = re.sub(\"\\d\",'', temp)\n",
    "        temp = re.sub('node',' ', temp)\n",
    "        temp = re.sub('\\(', \"\", temp)\n",
    "        temp = re.sub('\\)', \"\", temp)\n",
    "        temp = re.sub('\\[', \"\", temp)\n",
    "        temp = re.sub('\\]', \"\", temp)\n",
    "        temp = re.sub('\\{', \"\", temp)\n",
    "        temp = re.sub('\\}', \"\", temp)\n",
    "        temp = re.sub('connections',' ', temp)\n",
    "        temp = re.sub(' ','', temp)\n",
    "        \n",
    "        temp = re.sub('\\:',' ', temp)\n",
    "        temp = re.sub('\\,',' ', temp)\n",
    "        temp = re.sub('\\'','', temp)\n",
    "        temp = re.sub('\\.',' ', temp)\n",
    "        temp = re.sub(' +', ' ', temp)\n",
    "        temp = re.sub('\"', '', temp)\n",
    "        return temp\n",
    "    \n",
    "def Final(net):\n",
    "        temp = str(net)\n",
    "        temp = temp.lower()\n",
    "        temp = re.sub(\"\\d\",'', temp)\n",
    "        temp = re.sub('node',' ', temp)\n",
    "        temp = re.sub('\\(', \"\", temp)\n",
    "        temp = re.sub('\\)', \"\", temp)\n",
    "        temp = re.sub('\\[', \"\", temp)\n",
    "        temp = re.sub('\\]', \"\", temp)\n",
    "        temp = re.sub('\\{', \"\", temp)\n",
    "        temp = re.sub('\\}', \"\", temp)\n",
    "        temp = re.sub('connections',' ', temp)\n",
    "        temp = re.sub(' ','', temp)\n",
    "        \n",
    "        temp = re.sub('\\:',' ', temp)\n",
    "        temp = re.sub('\\,',' ', temp)\n",
    "        temp = re.sub('\\'',' ', temp)\n",
    "        temp = re.sub('\\.',' ', temp)\n",
    "        temp = re.sub(' +', ' ', temp)\n",
    "        temp = re.sub('\"', ' ', temp)\n",
    "        HT = pd.DataFrame([x.split(' ') for x in temp.split('\\n')])\n",
    "        HT = HT.transpose()\n",
    "        HT = HT.drop([0]).reset_index(drop = True)\n",
    "        HT.columns = ['Task']\n",
    "        HT= HT.drop(index=HT.index[-1])\n",
    "        HT = HT.drop_duplicates(ignore_index=True)\n",
    "        HT = HT.sort_values(\"Task\").reset_index(drop = True)\n",
    "        #print(HT)\n",
    "    \n",
    "        return HT \n",
    "    \n",
    "def START_END_DEL(mainkey, subkey):\n",
    "    \n",
    "    SS = pd.DataFrame(subkey,mainkey).reset_index()\n",
    "    SS.columns = [\"mainkey\", \"subkey\"]\n",
    "    \n",
    "    flag = []\n",
    "\n",
    "    for i in range(len(SS)):\n",
    "        if SS[\"mainkey\"][i]=='start':\n",
    "            flag.append(i)\n",
    "        elif SS[\"subkey\"][i] == 'end':\n",
    "            flag.append(i)\n",
    "    \n",
    "    SS = SS.drop(flag).reset_index(drop = True)\n",
    "    \n",
    "    r_mainkey = list(SS[\"mainkey\"])\n",
    "    r_subkey = list(SS[\"subkey\"])\n",
    "    \n",
    "    return (r_mainkey, r_subkey)\n"
   ]
  },
  {
   "cell_type": "code",
   "execution_count": 6,
   "id": "a2e6d450",
   "metadata": {},
   "outputs": [],
   "source": [
    "def MINER(in_data, act, path):\n",
    "\n",
    "    pm.set_log(data = in_data)\n",
    "          \n",
    "    # Have to change \"Optimize\" State when using Manual Path & Activity Rates\n",
    "    pm.set_params(optimize = False, aggregate = False) # Optimize = TRUE/FALSE # Agg_type = inner/outer\n",
    "        \n",
    "        \n",
    "    # Will be activated only when \"OPTIMIZE\" from above is changed to \"False\"\n",
    "    pm.set_rates(activity_rate = act, path_rate = path ) # Rates = Activity & Path rate only \n",
    "       \n",
    "    # Logic on this (or in % , where 100% means complete utilization & 0% Vice Versa) \n",
    "    # Activity Rate = The precision/clarity of the model/graph being produced (i.e. when at 100 = all events are displayed, when at 5-10 low number of events with the most highest weightage are displayed)\n",
    "    # Path rate = the regulation of paths (i.e. aggregation of path in %)0 = high aggregation of path, 100 % super detailed paths to every case/task\n",
    "        \n",
    "    pm.update() # Updates settings\n",
    "        \n",
    "    # pm.render() # Renders the Final Process Model\n",
    "        \n",
    "    print(pm.get_rates())\n",
    "        \n",
    "    net = pm.get_graph()\n",
    "   \n",
    "    return net### Net Graph GENERATOR "
   ]
  },
  {
   "cell_type": "markdown",
   "id": "c1f070a5",
   "metadata": {},
   "source": [
    "### Datasets"
   ]
  },
  {
   "cell_type": "code",
   "execution_count": 7,
   "id": "8611ce40",
   "metadata": {},
   "outputs": [
    {
     "data": {
      "text/html": [
       "<div>\n",
       "<style scoped>\n",
       "    .dataframe tbody tr th:only-of-type {\n",
       "        vertical-align: middle;\n",
       "    }\n",
       "\n",
       "    .dataframe tbody tr th {\n",
       "        vertical-align: top;\n",
       "    }\n",
       "\n",
       "    .dataframe thead th {\n",
       "        text-align: right;\n",
       "    }\n",
       "</style>\n",
       "<table border=\"1\" class=\"dataframe\">\n",
       "  <thead>\n",
       "    <tr style=\"text-align: right;\">\n",
       "      <th></th>\n",
       "      <th>case_id</th>\n",
       "      <th>task</th>\n",
       "      <th>timestamp</th>\n",
       "    </tr>\n",
       "  </thead>\n",
       "  <tbody>\n",
       "    <tr>\n",
       "      <th>0</th>\n",
       "      <td>4082</td>\n",
       "      <td>Red zone operator</td>\n",
       "      <td>2018-01-10 22:09:21</td>\n",
       "    </tr>\n",
       "    <tr>\n",
       "      <th>1</th>\n",
       "      <td>4082</td>\n",
       "      <td>Red zone doctor FD</td>\n",
       "      <td>2018-01-12 02:44:28</td>\n",
       "    </tr>\n",
       "    <tr>\n",
       "      <th>2</th>\n",
       "      <td>4173</td>\n",
       "      <td>Red zone operator</td>\n",
       "      <td>2018-01-12 11:16:53</td>\n",
       "    </tr>\n",
       "    <tr>\n",
       "      <th>3</th>\n",
       "      <td>4176</td>\n",
       "      <td>Red zone operator</td>\n",
       "      <td>2018-01-12 11:49:30</td>\n",
       "    </tr>\n",
       "    <tr>\n",
       "      <th>4</th>\n",
       "      <td>4176</td>\n",
       "      <td>Red zone doctor FD</td>\n",
       "      <td>2018-01-12 11:49:50</td>\n",
       "    </tr>\n",
       "    <tr>\n",
       "      <th>...</th>\n",
       "      <td>...</td>\n",
       "      <td>...</td>\n",
       "      <td>...</td>\n",
       "    </tr>\n",
       "    <tr>\n",
       "      <th>35353</th>\n",
       "      <td>9155</td>\n",
       "      <td>Notification operator</td>\n",
       "      <td>2018-12-31 09:03:14</td>\n",
       "    </tr>\n",
       "    <tr>\n",
       "      <th>35354</th>\n",
       "      <td>9362</td>\n",
       "      <td>Notification operator</td>\n",
       "      <td>2018-12-31 09:03:16</td>\n",
       "    </tr>\n",
       "    <tr>\n",
       "      <th>35355</th>\n",
       "      <td>9758</td>\n",
       "      <td>Notification operator</td>\n",
       "      <td>2018-12-31 09:03:23</td>\n",
       "    </tr>\n",
       "    <tr>\n",
       "      <th>35356</th>\n",
       "      <td>9938</td>\n",
       "      <td>Notification operator</td>\n",
       "      <td>2018-12-31 09:03:26</td>\n",
       "    </tr>\n",
       "    <tr>\n",
       "      <th>35357</th>\n",
       "      <td>10240</td>\n",
       "      <td>Notification operator</td>\n",
       "      <td>2018-12-31 09:03:31</td>\n",
       "    </tr>\n",
       "  </tbody>\n",
       "</table>\n",
       "<p>35358 rows × 3 columns</p>\n",
       "</div>"
      ],
      "text/plain": [
       "       case_id                   task            timestamp\n",
       "0         4082      Red zone operator  2018-01-10 22:09:21\n",
       "1         4082     Red zone doctor FD  2018-01-12 02:44:28\n",
       "2         4173      Red zone operator  2018-01-12 11:16:53\n",
       "3         4176      Red zone operator  2018-01-12 11:49:30\n",
       "4         4176     Red zone doctor FD  2018-01-12 11:49:50\n",
       "...        ...                    ...                  ...\n",
       "35353     9155  Notification operator  2018-12-31 09:03:14\n",
       "35354     9362  Notification operator  2018-12-31 09:03:16\n",
       "35355     9758  Notification operator  2018-12-31 09:03:23\n",
       "35356     9938  Notification operator  2018-12-31 09:03:26\n",
       "35357    10240  Notification operator  2018-12-31 09:03:31\n",
       "\n",
       "[35358 rows x 3 columns]"
      ]
     },
     "execution_count": 7,
     "metadata": {},
     "output_type": "execute_result"
    }
   ],
   "source": [
    "df = pd.read_csv(\"remote_monitoring_eng.csv\")\n",
    "df1 = df[df['task'] != 'New med program operator']\n",
    "df1 = df1.reset_index(drop = True)\n",
    "df1"
   ]
  },
  {
   "cell_type": "code",
   "execution_count": 8,
   "id": "7628e323",
   "metadata": {},
   "outputs": [
    {
     "data": {
      "text/plain": [
       "array([ 4082,  4173,  4176,  4187,  4191,  4217,  5265,  4388,  4392,\n",
       "        4422,  4454,  4401,  4476,  4553,  4494,  4545,  4521,  4539,\n",
       "        4511,  4562,  4554,  4564,  4583,  4626,  4757,  4838,  4842,\n",
       "        4837,  4844,  4914,  4868,  4960,  4982,  5079,  5095,  5159,\n",
       "        5085,  5298,  5301,  5226,  5335,  5294,  5322,  5329,  5355,\n",
       "        5361,  5389,  5372,  5376,  5441,  5443,  5424,  5457,  5534,\n",
       "        5558,  5568,  5601,  5410,  5706,  5699,  5717,  5750,  5752,\n",
       "         830,  5854,  5834,  5903,  5915,  5924,  5952,  5938,  5961,\n",
       "        6013,  6044,  6061,  6141,  6187,  6233,  6230,  6241,  6293,\n",
       "        6325,  6331,  6343,  6334,  6378,  6338,  6351,  6412,  6457,\n",
       "        6502,  6503,  6522,  6563,  6545,  6616,  6632,  6649,  6659,\n",
       "        6736,  6744,  6718,  6826,  6818,  6840,  6884,  6912,  6943,\n",
       "        7012,  7005,  7025,  7015,  7064,  7054,  7060,  7129,  7125,\n",
       "        7122,  7136,  7144,  7194,  7184,  7188,  7192,  7218,  7277,\n",
       "        7321,  7313,  7429,  7438,  7474,  7485,  7460,  7457,  7450,\n",
       "        7484,  7490,  7479,  7521,  7524,  7513,  7519,  7561,  7585,\n",
       "        7580,  7577,  7619,  7649,  7602,  7661,  7678,  7666,  7652,\n",
       "        7639,  7703,  7685,  7780,  7761,  7801,  7798,  7799,  7776,\n",
       "        7807,  7842,  7890,  7904,  7950,  7975,  7998,  8006,  8092,\n",
       "        8100,  8159,  8152,  8153,  8196,  8187,  8206,  8220,  8254,\n",
       "        8246,  8281,  8300,  8428,  8432,  8472,  8471,  8499,  8718,\n",
       "        8740,  8795,  8806,  8831,  8820,  8902,  9042,  9155,  9191,\n",
       "        9197,  9226,  9269,  9259,  9278,  9315,  9311,  9362,  9366,\n",
       "        9432,  9436,  9450,  9446,  9460,  9470,  9478,  9498,  9566,\n",
       "        9581,  9582,  9625,  9627,  9597,  9596,  9640,  9658,  9670,\n",
       "        9693,  9705,  9758,  9889,  9935,  9938, 10063, 10056, 10093,\n",
       "       10081, 10156, 10169, 10187, 10203, 10214, 10261, 10239, 10240,\n",
       "       10257, 10170, 10301, 10325, 10322, 10352, 10286, 10427, 10448,\n",
       "       10476, 10491, 10503, 10543, 10552, 10566, 10586, 10613, 10612,\n",
       "       10649, 10672, 10670, 10698, 10748, 10765, 10769, 10771, 10783,\n",
       "       10899, 10912], dtype=int64)"
      ]
     },
     "execution_count": 8,
     "metadata": {},
     "output_type": "execute_result"
    }
   ],
   "source": [
    "ids = df1[\"case_id\"].unique()\n",
    "ids"
   ]
  },
  {
   "cell_type": "code",
   "execution_count": 9,
   "id": "20ae05be",
   "metadata": {},
   "outputs": [
    {
     "name": "stdout",
     "output_type": "stream",
     "text": [
      "{'activities': 20, 'paths': 20}\n"
     ]
    },
    {
     "data": {
      "text/plain": [
       "{('Yellow zone doctor', 'Yellow zone doctor FD'): (2415, 229),\n",
       " ('Red zone doctor', 'Red zone operator'): (2269, 228),\n",
       " ('Red zone doctor FD', 'Red zone operator'): (2245, 208),\n",
       " ('Yellow zone doctor FD', 'Notification operator'): (872, 153),\n",
       " ('Red zone doctor FD', 'Notification operator'): (537, 143),\n",
       " ('Red zone doctor FD', 'Yellow zone doctor'): (976, 207),\n",
       " ('Yellow zone doctor FD', 'Yellow zone doctor'): (1073, 168),\n",
       " ('Red zone doctor', 'Red zone doctor FD'): (2305, 244),\n",
       " ('Red zone operator', 'Red zone doctor FD'): (2158, 238),\n",
       " ('Red zone operator', 'Red zone doctor'): (3672, 251),\n",
       " ('Notification operator', 'end'): (131, 131),\n",
       " ('Yellow zone doctor FD', 'Red zone operator'): (642, 154),\n",
       " ('Notification operator', 'Yellow zone doctor'): (633, 133),\n",
       " ('start', 'Red zone operator'): (189, 189),\n",
       " ('Red zone doctor FD', 'Red zone doctor FD'): (1429, 184)}"
      ]
     },
     "execution_count": 9,
     "metadata": {},
     "output_type": "execute_result"
    }
   ],
   "source": [
    "MINER(df1, 20, 20) # The Process Map "
   ]
  },
  {
   "cell_type": "code",
   "execution_count": 10,
   "id": "f7d2a9ce",
   "metadata": {
    "scrolled": false
   },
   "outputs": [
    {
     "data": {
      "image/svg+xml": [
       "<?xml version=\"1.0\" encoding=\"UTF-8\" standalone=\"no\"?>\n",
       "<!DOCTYPE svg PUBLIC \"-//W3C//DTD SVG 1.1//EN\"\n",
       " \"http://www.w3.org/Graphics/SVG/1.1/DTD/svg11.dtd\">\n",
       "<!-- Generated by graphviz version 3.0.0 (20220226.1711)\n",
       " -->\n",
       "<!-- Pages: 1 -->\n",
       "<svg width=\"521pt\" height=\"506pt\"\n",
       " viewBox=\"0.00 0.00 521.40 505.80\" xmlns=\"http://www.w3.org/2000/svg\" xmlns:xlink=\"http://www.w3.org/1999/xlink\">\n",
       "<g id=\"graph0\" class=\"graph\" transform=\"scale(1 1) rotate(0) translate(4 501.8)\">\n",
       "<polygon fill=\"white\" stroke=\"transparent\" points=\"-4,4 -4,-501.8 517.4,-501.8 517.4,4 -4,4\"/>\n",
       "<!-- Yellow zone doctor FD -->\n",
       "<g id=\"node1\" class=\"node\">\n",
       "<title>Yellow zone doctor FD</title>\n",
       "<polygon fill=\"#ffffff\" stroke=\"black\" points=\"438.9,-493.4 265.9,-493.4 265.9,-455.4 438.9,-455.4 438.9,-493.4\"/>\n",
       "<text text-anchor=\"middle\" x=\"352.4\" y=\"-478.2\" font-family=\"Sans Not-Rotated 14\" font-size=\"14.00\">Yellow zone doctor FD</text>\n",
       "<text text-anchor=\"middle\" x=\"352.4\" y=\"-463.2\" font-family=\"Sans Not-Rotated 14\" font-size=\"14.00\">(3493)</text>\n",
       "</g>\n",
       "<!-- Red zone operator -->\n",
       "<g id=\"node2\" class=\"node\">\n",
       "<title>Red zone operator</title>\n",
       "<polygon fill=\"#1d2559\" stroke=\"black\" points=\"298.9,-400 153.9,-400 153.9,-362 298.9,-362 298.9,-400\"/>\n",
       "<text text-anchor=\"middle\" x=\"226.4\" y=\"-384.8\" font-family=\"Sans Not-Rotated 14\" font-size=\"14.00\" fill=\"white\">Red zone operator</text>\n",
       "<text text-anchor=\"middle\" x=\"226.4\" y=\"-369.8\" font-family=\"Sans Not-Rotated 14\" font-size=\"14.00\" fill=\"white\">(6719)</text>\n",
       "</g>\n",
       "<!-- Yellow zone doctor FD&#45;&gt;Red zone operator -->\n",
       "<g id=\"edge12\" class=\"edge\">\n",
       "<title>Yellow zone doctor FD&#45;&gt;Red zone operator</title>\n",
       "<path fill=\"none\" stroke=\"black\" stroke-width=\"1.58\" d=\"M327.5,-455.34C308,-441.2 280.7,-421.39 259.38,-405.93\"/>\n",
       "<polygon fill=\"black\" stroke=\"black\" stroke-width=\"1.58\" points=\"261.39,-403.06 251.24,-400.02 257.28,-408.72 261.39,-403.06\"/>\n",
       "<text text-anchor=\"middle\" x=\"306.4\" y=\"-421.8\" font-family=\"Sans Not-Rotated 14\" font-size=\"14.00\">642</text>\n",
       "</g>\n",
       "<!-- Notification operator -->\n",
       "<g id=\"node3\" class=\"node\">\n",
       "<title>Notification operator</title>\n",
       "<polygon fill=\"#a09dde\" stroke=\"black\" points=\"290.9,-133 131.9,-133 131.9,-95 290.9,-95 290.9,-133\"/>\n",
       "<text text-anchor=\"middle\" x=\"211.4\" y=\"-117.8\" font-family=\"Sans Not-Rotated 14\" font-size=\"14.00\">Notification operator</text>\n",
       "<text text-anchor=\"middle\" x=\"211.4\" y=\"-102.8\" font-family=\"Sans Not-Rotated 14\" font-size=\"14.00\">(4462)</text>\n",
       "</g>\n",
       "<!-- Yellow zone doctor FD&#45;&gt;Notification operator -->\n",
       "<g id=\"edge4\" class=\"edge\">\n",
       "<title>Yellow zone doctor FD&#45;&gt;Notification operator</title>\n",
       "<path fill=\"none\" stroke=\"black\" stroke-width=\"1.84\" d=\"M265.81,-462.68C181.64,-449.76 66.4,-424.35 66.4,-382 66.4,-382 66.4,-382 66.4,-202 66.4,-170.21 92.35,-149.74 122.29,-136.71\"/>\n",
       "<polygon fill=\"black\" stroke=\"black\" stroke-width=\"1.84\" points=\"123.73,-139.91 131.69,-132.9 121.1,-133.42 123.73,-139.91\"/>\n",
       "<text text-anchor=\"middle\" x=\"80.4\" y=\"-288.3\" font-family=\"Sans Not-Rotated 14\" font-size=\"14.00\">872</text>\n",
       "</g>\n",
       "<!-- Yellow zone doctor -->\n",
       "<g id=\"node4\" class=\"node\">\n",
       "<title>Yellow zone doctor</title>\n",
       "<polygon fill=\"#ffffff\" stroke=\"black\" points=\"446.9,-41 297.9,-41 297.9,-3 446.9,-3 446.9,-41\"/>\n",
       "<text text-anchor=\"middle\" x=\"372.4\" y=\"-25.8\" font-family=\"Sans Not-Rotated 14\" font-size=\"14.00\">Yellow zone doctor</text>\n",
       "<text text-anchor=\"middle\" x=\"372.4\" y=\"-10.8\" font-family=\"Sans Not-Rotated 14\" font-size=\"14.00\">(3359)</text>\n",
       "</g>\n",
       "<!-- Yellow zone doctor FD&#45;&gt;Yellow zone doctor -->\n",
       "<g id=\"edge7\" class=\"edge\">\n",
       "<title>Yellow zone doctor FD&#45;&gt;Yellow zone doctor</title>\n",
       "<path fill=\"none\" stroke=\"black\" stroke-width=\"2.06\" d=\"M410.04,-455.33C442.42,-441.2 476.4,-417.84 476.4,-382 476.4,-382 476.4,-382 476.4,-113 476.4,-83.1 451.51,-60.91 426.08,-46.05\"/>\n",
       "<polygon fill=\"black\" stroke=\"black\" stroke-width=\"2.06\" points=\"427.55,-42.87 417.11,-41.1 424.17,-48.99 427.55,-42.87\"/>\n",
       "<text text-anchor=\"middle\" x=\"494.9\" y=\"-243.8\" font-family=\"Sans Not-Rotated 14\" font-size=\"14.00\">1073</text>\n",
       "</g>\n",
       "<!-- Red zone doctor FD -->\n",
       "<g id=\"node5\" class=\"node\">\n",
       "<title>Red zone doctor FD</title>\n",
       "<polygon fill=\"#1d2559\" stroke=\"black\" points=\"287.9,-222 134.9,-222 134.9,-184 287.9,-184 287.9,-222\"/>\n",
       "<text text-anchor=\"middle\" x=\"211.4\" y=\"-206.8\" font-family=\"Sans Not-Rotated 14\" font-size=\"14.00\" fill=\"white\">Red zone doctor FD</text>\n",
       "<text text-anchor=\"middle\" x=\"211.4\" y=\"-191.8\" font-family=\"Sans Not-Rotated 14\" font-size=\"14.00\" fill=\"white\">(6683)</text>\n",
       "</g>\n",
       "<!-- Red zone operator&#45;&gt;Red zone doctor FD -->\n",
       "<g id=\"edge9\" class=\"edge\">\n",
       "<title>Red zone operator&#45;&gt;Red zone doctor FD</title>\n",
       "<path fill=\"none\" stroke=\"black\" stroke-width=\"3.29\" d=\"M222.14,-361.96C219.08,-348.11 215.19,-328.46 213.4,-311 210.67,-284.44 210.37,-253.98 210.64,-232.37\"/>\n",
       "<polygon fill=\"black\" stroke=\"black\" stroke-width=\"3.29\" points=\"214.14,-232.29 210.81,-222.23 207.14,-232.17 214.14,-232.29\"/>\n",
       "<text text-anchor=\"middle\" x=\"231.9\" y=\"-288.3\" font-family=\"Sans Not-Rotated 14\" font-size=\"14.00\">2158</text>\n",
       "</g>\n",
       "<!-- Red zone doctor -->\n",
       "<g id=\"node6\" class=\"node\">\n",
       "<title>Red zone doctor</title>\n",
       "<polygon fill=\"#5661c6\" stroke=\"black\" points=\"387.9,-311 258.9,-311 258.9,-273 387.9,-273 387.9,-311\"/>\n",
       "<text text-anchor=\"middle\" x=\"323.4\" y=\"-295.8\" font-family=\"Sans Not-Rotated 14\" font-size=\"14.00\" fill=\"white\">Red zone doctor</text>\n",
       "<text text-anchor=\"middle\" x=\"323.4\" y=\"-280.8\" font-family=\"Sans Not-Rotated 14\" font-size=\"14.00\" fill=\"white\">(5275)</text>\n",
       "</g>\n",
       "<!-- Red zone operator&#45;&gt;Red zone doctor -->\n",
       "<g id=\"edge10\" class=\"edge\">\n",
       "<title>Red zone operator&#45;&gt;Red zone doctor</title>\n",
       "<path fill=\"none\" stroke=\"black\" stroke-width=\"5\" d=\"M269.53,-361.92C278.39,-356.96 287.21,-350.98 294.4,-344 301.3,-337.3 307.06,-328.6 311.58,-320.29\"/>\n",
       "<polygon fill=\"black\" stroke=\"black\" stroke-width=\"5\" points=\"315.56,-322.1 316.14,-311.2 307.74,-318.17 315.56,-322.1\"/>\n",
       "<text text-anchor=\"middle\" x=\"323.9\" y=\"-332.8\" font-family=\"Sans Not-Rotated 14\" font-size=\"14.00\">3672</text>\n",
       "</g>\n",
       "<!-- Notification operator&#45;&gt;Yellow zone doctor -->\n",
       "<g id=\"edge13\" class=\"edge\">\n",
       "<title>Notification operator&#45;&gt;Yellow zone doctor</title>\n",
       "<path fill=\"none\" stroke=\"black\" stroke-width=\"1.57\" d=\"M243.82,-94.81C261.18,-85.06 282.95,-72.87 302.4,-62 311.69,-56.81 321.69,-51.23 331.13,-45.97\"/>\n",
       "<polygon fill=\"black\" stroke=\"black\" stroke-width=\"1.57\" points=\"332.95,-48.96 339.98,-41.04 329.54,-42.85 332.95,-48.96\"/>\n",
       "<text text-anchor=\"middle\" x=\"316.4\" y=\"-65.8\" font-family=\"Sans Not-Rotated 14\" font-size=\"14.00\">633</text>\n",
       "</g>\n",
       "<!-- end -->\n",
       "<g id=\"node8\" class=\"node\">\n",
       "<title>end</title>\n",
       "<ellipse fill=\"#ea4126\" stroke=\"black\" cx=\"211.4\" cy=\"-22\" rx=\"18\" ry=\"18\"/>\n",
       "<ellipse fill=\"none\" stroke=\"black\" cx=\"211.4\" cy=\"-22\" rx=\"22\" ry=\"22\"/>\n",
       "</g>\n",
       "<!-- Notification operator&#45;&gt;end -->\n",
       "<g id=\"edge11\" class=\"edge\">\n",
       "<title>Notification operator&#45;&gt;end</title>\n",
       "<path fill=\"none\" stroke=\"black\" stroke-dasharray=\"5,2\" d=\"M211.4,-94.79C211.4,-83.2 211.4,-67.88 211.4,-54.37\"/>\n",
       "<polygon fill=\"black\" stroke=\"black\" points=\"214.9,-54.03 211.4,-44.03 207.9,-54.03 214.9,-54.03\"/>\n",
       "<text text-anchor=\"middle\" x=\"225.4\" y=\"-65.8\" font-family=\"Sans Not-Rotated 14\" font-size=\"14.00\">131</text>\n",
       "</g>\n",
       "<!-- Yellow zone doctor&#45;&gt;Yellow zone doctor FD -->\n",
       "<g id=\"edge1\" class=\"edge\">\n",
       "<title>Yellow zone doctor&#45;&gt;Yellow zone doctor FD</title>\n",
       "<path fill=\"none\" stroke=\"black\" stroke-width=\"3.58\" d=\"M387.29,-41.05C400.06,-58.38 416.4,-85.87 416.4,-113 416.4,-382 416.4,-382 416.4,-382 416.4,-407.7 399.21,-431.31 382.64,-448.1\"/>\n",
       "<polygon fill=\"black\" stroke=\"black\" stroke-width=\"3.58\" points=\"379.92,-445.86 375.14,-455.31 384.78,-450.9 379.92,-445.86\"/>\n",
       "<text text-anchor=\"middle\" x=\"434.9\" y=\"-243.8\" font-family=\"Sans Not-Rotated 14\" font-size=\"14.00\">2415</text>\n",
       "</g>\n",
       "<!-- Red zone doctor FD&#45;&gt;Red zone operator -->\n",
       "<g id=\"edge3\" class=\"edge\">\n",
       "<title>Red zone doctor FD&#45;&gt;Red zone operator</title>\n",
       "<path fill=\"none\" stroke=\"black\" stroke-width=\"3.39\" d=\"M185.64,-222.23C170.5,-234.6 152.75,-252.42 144.4,-273 138.05,-288.65 137.27,-295.69 144.4,-311 152.94,-329.36 169.05,-344.58 184.73,-356.01\"/>\n",
       "<polygon fill=\"black\" stroke=\"black\" stroke-width=\"3.39\" points=\"183.14,-359.17 193.36,-361.97 187.12,-353.41 183.14,-359.17\"/>\n",
       "<text text-anchor=\"middle\" x=\"162.9\" y=\"-288.3\" font-family=\"Sans Not-Rotated 14\" font-size=\"14.00\">2245</text>\n",
       "</g>\n",
       "<!-- Red zone doctor FD&#45;&gt;Notification operator -->\n",
       "<g id=\"edge5\" class=\"edge\">\n",
       "<title>Red zone doctor FD&#45;&gt;Notification operator</title>\n",
       "<path fill=\"none\" stroke=\"black\" stroke-width=\"1.46\" d=\"M211.4,-183.97C211.4,-172.19 211.4,-156.56 211.4,-143.16\"/>\n",
       "<polygon fill=\"black\" stroke=\"black\" stroke-width=\"1.46\" points=\"214.9,-143 211.4,-133 207.9,-143 214.9,-143\"/>\n",
       "<text text-anchor=\"middle\" x=\"225.4\" y=\"-154.8\" font-family=\"Sans Not-Rotated 14\" font-size=\"14.00\">537</text>\n",
       "</g>\n",
       "<!-- Red zone doctor FD&#45;&gt;Yellow zone doctor -->\n",
       "<g id=\"edge6\" class=\"edge\">\n",
       "<title>Red zone doctor FD&#45;&gt;Yellow zone doctor</title>\n",
       "<path fill=\"none\" stroke=\"black\" stroke-width=\"1.95\" d=\"M239.44,-183.89C258.02,-171.06 282.23,-152.68 300.4,-133 323.94,-107.5 344.91,-73.49 358.07,-50.07\"/>\n",
       "<polygon fill=\"black\" stroke=\"black\" stroke-width=\"1.95\" points=\"361.28,-51.49 363.05,-41.04 355.15,-48.11 361.28,-51.49\"/>\n",
       "<text text-anchor=\"middle\" x=\"343.4\" y=\"-110.3\" font-family=\"Sans Not-Rotated 14\" font-size=\"14.00\">976</text>\n",
       "</g>\n",
       "<!-- Red zone doctor FD&#45;&gt;Red zone doctor FD -->\n",
       "<g id=\"edge15\" class=\"edge\">\n",
       "<title>Red zone doctor FD&#45;&gt;Red zone doctor FD</title>\n",
       "<path fill=\"none\" stroke=\"black\" stroke-width=\"2.47\" d=\"M288.15,-210.36C298.79,-209.15 305.9,-206.7 305.9,-203 305.9,-200.63 302.98,-198.77 298.09,-197.43\"/>\n",
       "<polygon fill=\"black\" stroke=\"black\" stroke-width=\"2.47\" points=\"298.61,-193.97 288.15,-195.64 297.37,-200.85 298.61,-193.97\"/>\n",
       "<text text-anchor=\"middle\" x=\"324.4\" y=\"-199.3\" font-family=\"Sans Not-Rotated 14\" font-size=\"14.00\">1429</text>\n",
       "</g>\n",
       "<!-- Red zone doctor&#45;&gt;Red zone operator -->\n",
       "<g id=\"edge2\" class=\"edge\">\n",
       "<title>Red zone doctor&#45;&gt;Red zone operator</title>\n",
       "<path fill=\"none\" stroke=\"black\" stroke-width=\"3.42\" d=\"M282.38,-311.01C273.54,-316.04 264.67,-322.06 257.4,-329 250.24,-335.83 244.11,-344.66 239.24,-353.04\"/>\n",
       "<polygon fill=\"black\" stroke=\"black\" stroke-width=\"3.42\" points=\"236.15,-351.4 234.45,-361.86 242.3,-354.74 236.15,-351.4\"/>\n",
       "<text text-anchor=\"middle\" x=\"275.9\" y=\"-332.8\" font-family=\"Sans Not-Rotated 14\" font-size=\"14.00\">2269</text>\n",
       "</g>\n",
       "<!-- Red zone doctor&#45;&gt;Red zone doctor FD -->\n",
       "<g id=\"edge8\" class=\"edge\">\n",
       "<title>Red zone doctor&#45;&gt;Red zone doctor FD</title>\n",
       "<path fill=\"none\" stroke=\"black\" stroke-width=\"3.46\" d=\"M300.19,-272.97C283.52,-260.03 260.87,-242.43 242.61,-228.25\"/>\n",
       "<polygon fill=\"black\" stroke=\"black\" stroke-width=\"3.46\" points=\"244.62,-225.37 234.57,-222 240.32,-230.9 244.62,-225.37\"/>\n",
       "<text text-anchor=\"middle\" x=\"291.9\" y=\"-243.8\" font-family=\"Sans Not-Rotated 14\" font-size=\"14.00\">2305</text>\n",
       "</g>\n",
       "<!-- start -->\n",
       "<g id=\"node7\" class=\"node\">\n",
       "<title>start</title>\n",
       "<ellipse fill=\"#95d600\" stroke=\"black\" cx=\"23.4\" cy=\"-474.4\" rx=\"23.3\" ry=\"23.3\"/>\n",
       "<text text-anchor=\"middle\" x=\"23.4\" y=\"-470.7\" font-family=\"Sans Not-Rotated 14\" font-size=\"14.00\">272</text>\n",
       "</g>\n",
       "<!-- start&#45;&gt;Red zone operator -->\n",
       "<g id=\"edge14\" class=\"edge\">\n",
       "<title>start&#45;&gt;Red zone operator</title>\n",
       "<path fill=\"none\" stroke=\"black\" stroke-dasharray=\"5,2\" d=\"M44.36,-463.96C75.44,-449.97 134.63,-423.32 177.09,-404.2\"/>\n",
       "<polygon fill=\"black\" stroke=\"black\" points=\"178.74,-407.3 186.42,-400 175.86,-400.92 178.74,-407.3\"/>\n",
       "<text text-anchor=\"middle\" x=\"157.4\" y=\"-421.8\" font-family=\"Sans Not-Rotated 14\" font-size=\"14.00\">189</text>\n",
       "</g>\n",
       "</g>\n",
       "</svg>\n"
      ],
      "text/plain": [
       "<graphviz.graphs.Digraph at 0x1f95b74ec10>"
      ]
     },
     "execution_count": 10,
     "metadata": {},
     "output_type": "execute_result"
    }
   ],
   "source": [
    "pm.render()"
   ]
  },
  {
   "cell_type": "markdown",
   "id": "bb28d201",
   "metadata": {},
   "source": [
    "# FINAL EXECUTION HERE...!!!"
   ]
  },
  {
   "cell_type": "markdown",
   "id": "97cc8718",
   "metadata": {},
   "source": [
    "### Activity is Varied (0-100), Path is Constant (0,20,40,60,80,100)"
   ]
  },
  {
   "cell_type": "code",
   "execution_count": 11,
   "id": "aedc194e",
   "metadata": {
    "scrolled": true
   },
   "outputs": [
    {
     "name": "stdout",
     "output_type": "stream",
     "text": [
      "{'activities': 0, 'paths': 5}\n"
     ]
    },
    {
     "name": "stderr",
     "output_type": "stream",
     "text": [
      "C:\\Users\\ashis\\AppData\\Local\\Temp\\ipykernel_20096\\889640330.py:131: SettingWithCopyWarning: \n",
      "A value is trying to be set on a copy of a slice from a DataFrame\n",
      "\n",
      "See the caveats in the documentation: https://pandas.pydata.org/pandas-docs/stable/user_guide/indexing.html#returning-a-view-versus-a-copy\n",
      "  trace[\"task\"][j] = Filter(trace[\"task\"][j]) # FILTEREING THE INDIVIDUAL TRACE INPUT FROM ABOVE\n"
     ]
    },
    {
     "name": "stdout",
     "output_type": "stream",
     "text": [
      "\n",
      "\n",
      "-----------------------------------------------------------------------------------------\n",
      "-----------------------------------NEXT ID OVER HERE-------------------------------------\n",
      "\n",
      "\n",
      "{'activities': 1, 'paths': 5}\n"
     ]
    },
    {
     "name": "stderr",
     "output_type": "stream",
     "text": [
      "C:\\Users\\ashis\\AppData\\Local\\Temp\\ipykernel_20096\\889640330.py:131: SettingWithCopyWarning: \n",
      "A value is trying to be set on a copy of a slice from a DataFrame\n",
      "\n",
      "See the caveats in the documentation: https://pandas.pydata.org/pandas-docs/stable/user_guide/indexing.html#returning-a-view-versus-a-copy\n",
      "  trace[\"task\"][j] = Filter(trace[\"task\"][j]) # FILTEREING THE INDIVIDUAL TRACE INPUT FROM ABOVE\n"
     ]
    },
    {
     "name": "stdout",
     "output_type": "stream",
     "text": [
      "\n",
      "\n",
      "-----------------------------------------------------------------------------------------\n",
      "-----------------------------------NEXT ID OVER HERE-------------------------------------\n",
      "\n",
      "\n",
      "{'activities': 2, 'paths': 5}\n"
     ]
    },
    {
     "name": "stderr",
     "output_type": "stream",
     "text": [
      "C:\\Users\\ashis\\AppData\\Local\\Temp\\ipykernel_20096\\889640330.py:131: SettingWithCopyWarning: \n",
      "A value is trying to be set on a copy of a slice from a DataFrame\n",
      "\n",
      "See the caveats in the documentation: https://pandas.pydata.org/pandas-docs/stable/user_guide/indexing.html#returning-a-view-versus-a-copy\n",
      "  trace[\"task\"][j] = Filter(trace[\"task\"][j]) # FILTEREING THE INDIVIDUAL TRACE INPUT FROM ABOVE\n"
     ]
    },
    {
     "name": "stdout",
     "output_type": "stream",
     "text": [
      "\n",
      "\n",
      "-----------------------------------------------------------------------------------------\n",
      "-----------------------------------NEXT ID OVER HERE-------------------------------------\n",
      "\n",
      "\n",
      "{'activities': 3, 'paths': 5}\n"
     ]
    },
    {
     "name": "stderr",
     "output_type": "stream",
     "text": [
      "C:\\Users\\ashis\\AppData\\Local\\Temp\\ipykernel_20096\\889640330.py:131: SettingWithCopyWarning: \n",
      "A value is trying to be set on a copy of a slice from a DataFrame\n",
      "\n",
      "See the caveats in the documentation: https://pandas.pydata.org/pandas-docs/stable/user_guide/indexing.html#returning-a-view-versus-a-copy\n",
      "  trace[\"task\"][j] = Filter(trace[\"task\"][j]) # FILTEREING THE INDIVIDUAL TRACE INPUT FROM ABOVE\n"
     ]
    },
    {
     "name": "stdout",
     "output_type": "stream",
     "text": [
      "\n",
      "\n",
      "-----------------------------------------------------------------------------------------\n",
      "-----------------------------------NEXT ID OVER HERE-------------------------------------\n",
      "\n",
      "\n",
      "{'activities': 4, 'paths': 5}\n"
     ]
    },
    {
     "name": "stderr",
     "output_type": "stream",
     "text": [
      "C:\\Users\\ashis\\AppData\\Local\\Temp\\ipykernel_20096\\889640330.py:131: SettingWithCopyWarning: \n",
      "A value is trying to be set on a copy of a slice from a DataFrame\n",
      "\n",
      "See the caveats in the documentation: https://pandas.pydata.org/pandas-docs/stable/user_guide/indexing.html#returning-a-view-versus-a-copy\n",
      "  trace[\"task\"][j] = Filter(trace[\"task\"][j]) # FILTEREING THE INDIVIDUAL TRACE INPUT FROM ABOVE\n"
     ]
    },
    {
     "name": "stdout",
     "output_type": "stream",
     "text": [
      "\n",
      "\n",
      "-----------------------------------------------------------------------------------------\n",
      "-----------------------------------NEXT ID OVER HERE-------------------------------------\n",
      "\n",
      "\n",
      "{'activities': 5, 'paths': 5}\n"
     ]
    },
    {
     "name": "stderr",
     "output_type": "stream",
     "text": [
      "C:\\Users\\ashis\\AppData\\Local\\Temp\\ipykernel_20096\\889640330.py:131: SettingWithCopyWarning: \n",
      "A value is trying to be set on a copy of a slice from a DataFrame\n",
      "\n",
      "See the caveats in the documentation: https://pandas.pydata.org/pandas-docs/stable/user_guide/indexing.html#returning-a-view-versus-a-copy\n",
      "  trace[\"task\"][j] = Filter(trace[\"task\"][j]) # FILTEREING THE INDIVIDUAL TRACE INPUT FROM ABOVE\n"
     ]
    },
    {
     "name": "stdout",
     "output_type": "stream",
     "text": [
      "\n",
      "\n",
      "-----------------------------------------------------------------------------------------\n",
      "-----------------------------------NEXT ID OVER HERE-------------------------------------\n",
      "\n",
      "\n",
      "{'activities': 6, 'paths': 5}\n"
     ]
    },
    {
     "name": "stderr",
     "output_type": "stream",
     "text": [
      "C:\\Users\\ashis\\AppData\\Local\\Temp\\ipykernel_20096\\889640330.py:131: SettingWithCopyWarning: \n",
      "A value is trying to be set on a copy of a slice from a DataFrame\n",
      "\n",
      "See the caveats in the documentation: https://pandas.pydata.org/pandas-docs/stable/user_guide/indexing.html#returning-a-view-versus-a-copy\n",
      "  trace[\"task\"][j] = Filter(trace[\"task\"][j]) # FILTEREING THE INDIVIDUAL TRACE INPUT FROM ABOVE\n"
     ]
    },
    {
     "name": "stdout",
     "output_type": "stream",
     "text": [
      "\n",
      "\n",
      "-----------------------------------------------------------------------------------------\n",
      "-----------------------------------NEXT ID OVER HERE-------------------------------------\n",
      "\n",
      "\n",
      "{'activities': 7, 'paths': 5}\n"
     ]
    },
    {
     "name": "stderr",
     "output_type": "stream",
     "text": [
      "C:\\Users\\ashis\\AppData\\Local\\Temp\\ipykernel_20096\\889640330.py:131: SettingWithCopyWarning: \n",
      "A value is trying to be set on a copy of a slice from a DataFrame\n",
      "\n",
      "See the caveats in the documentation: https://pandas.pydata.org/pandas-docs/stable/user_guide/indexing.html#returning-a-view-versus-a-copy\n",
      "  trace[\"task\"][j] = Filter(trace[\"task\"][j]) # FILTEREING THE INDIVIDUAL TRACE INPUT FROM ABOVE\n"
     ]
    },
    {
     "name": "stdout",
     "output_type": "stream",
     "text": [
      "\n",
      "\n",
      "-----------------------------------------------------------------------------------------\n",
      "-----------------------------------NEXT ID OVER HERE-------------------------------------\n",
      "\n",
      "\n",
      "{'activities': 8, 'paths': 5}\n"
     ]
    },
    {
     "name": "stderr",
     "output_type": "stream",
     "text": [
      "C:\\Users\\ashis\\AppData\\Local\\Temp\\ipykernel_20096\\889640330.py:131: SettingWithCopyWarning: \n",
      "A value is trying to be set on a copy of a slice from a DataFrame\n",
      "\n",
      "See the caveats in the documentation: https://pandas.pydata.org/pandas-docs/stable/user_guide/indexing.html#returning-a-view-versus-a-copy\n",
      "  trace[\"task\"][j] = Filter(trace[\"task\"][j]) # FILTEREING THE INDIVIDUAL TRACE INPUT FROM ABOVE\n"
     ]
    },
    {
     "name": "stdout",
     "output_type": "stream",
     "text": [
      "\n",
      "\n",
      "-----------------------------------------------------------------------------------------\n",
      "-----------------------------------NEXT ID OVER HERE-------------------------------------\n",
      "\n",
      "\n",
      "{'activities': 9, 'paths': 5}\n"
     ]
    },
    {
     "name": "stderr",
     "output_type": "stream",
     "text": [
      "C:\\Users\\ashis\\AppData\\Local\\Temp\\ipykernel_20096\\889640330.py:131: SettingWithCopyWarning: \n",
      "A value is trying to be set on a copy of a slice from a DataFrame\n",
      "\n",
      "See the caveats in the documentation: https://pandas.pydata.org/pandas-docs/stable/user_guide/indexing.html#returning-a-view-versus-a-copy\n",
      "  trace[\"task\"][j] = Filter(trace[\"task\"][j]) # FILTEREING THE INDIVIDUAL TRACE INPUT FROM ABOVE\n"
     ]
    },
    {
     "name": "stdout",
     "output_type": "stream",
     "text": [
      "\n",
      "\n",
      "-----------------------------------------------------------------------------------------\n",
      "-----------------------------------NEXT ID OVER HERE-------------------------------------\n",
      "\n",
      "\n",
      "{'activities': 10, 'paths': 5}\n"
     ]
    },
    {
     "name": "stderr",
     "output_type": "stream",
     "text": [
      "C:\\Users\\ashis\\AppData\\Local\\Temp\\ipykernel_20096\\889640330.py:131: SettingWithCopyWarning: \n",
      "A value is trying to be set on a copy of a slice from a DataFrame\n",
      "\n",
      "See the caveats in the documentation: https://pandas.pydata.org/pandas-docs/stable/user_guide/indexing.html#returning-a-view-versus-a-copy\n",
      "  trace[\"task\"][j] = Filter(trace[\"task\"][j]) # FILTEREING THE INDIVIDUAL TRACE INPUT FROM ABOVE\n"
     ]
    },
    {
     "name": "stdout",
     "output_type": "stream",
     "text": [
      "\n",
      "\n",
      "-----------------------------------------------------------------------------------------\n",
      "-----------------------------------NEXT ID OVER HERE-------------------------------------\n",
      "\n",
      "\n",
      "{'activities': 11, 'paths': 5}\n"
     ]
    },
    {
     "name": "stderr",
     "output_type": "stream",
     "text": [
      "C:\\Users\\ashis\\AppData\\Local\\Temp\\ipykernel_20096\\889640330.py:131: SettingWithCopyWarning: \n",
      "A value is trying to be set on a copy of a slice from a DataFrame\n",
      "\n",
      "See the caveats in the documentation: https://pandas.pydata.org/pandas-docs/stable/user_guide/indexing.html#returning-a-view-versus-a-copy\n",
      "  trace[\"task\"][j] = Filter(trace[\"task\"][j]) # FILTEREING THE INDIVIDUAL TRACE INPUT FROM ABOVE\n"
     ]
    },
    {
     "name": "stdout",
     "output_type": "stream",
     "text": [
      "\n",
      "\n",
      "-----------------------------------------------------------------------------------------\n",
      "-----------------------------------NEXT ID OVER HERE-------------------------------------\n",
      "\n",
      "\n",
      "{'activities': 12, 'paths': 5}\n"
     ]
    },
    {
     "name": "stderr",
     "output_type": "stream",
     "text": [
      "C:\\Users\\ashis\\AppData\\Local\\Temp\\ipykernel_20096\\889640330.py:131: SettingWithCopyWarning: \n",
      "A value is trying to be set on a copy of a slice from a DataFrame\n",
      "\n",
      "See the caveats in the documentation: https://pandas.pydata.org/pandas-docs/stable/user_guide/indexing.html#returning-a-view-versus-a-copy\n",
      "  trace[\"task\"][j] = Filter(trace[\"task\"][j]) # FILTEREING THE INDIVIDUAL TRACE INPUT FROM ABOVE\n"
     ]
    },
    {
     "name": "stdout",
     "output_type": "stream",
     "text": [
      "\n",
      "\n",
      "-----------------------------------------------------------------------------------------\n",
      "-----------------------------------NEXT ID OVER HERE-------------------------------------\n",
      "\n",
      "\n",
      "{'activities': 13, 'paths': 5}\n"
     ]
    },
    {
     "name": "stderr",
     "output_type": "stream",
     "text": [
      "C:\\Users\\ashis\\AppData\\Local\\Temp\\ipykernel_20096\\889640330.py:131: SettingWithCopyWarning: \n",
      "A value is trying to be set on a copy of a slice from a DataFrame\n",
      "\n",
      "See the caveats in the documentation: https://pandas.pydata.org/pandas-docs/stable/user_guide/indexing.html#returning-a-view-versus-a-copy\n",
      "  trace[\"task\"][j] = Filter(trace[\"task\"][j]) # FILTEREING THE INDIVIDUAL TRACE INPUT FROM ABOVE\n"
     ]
    },
    {
     "name": "stdout",
     "output_type": "stream",
     "text": [
      "\n",
      "\n",
      "-----------------------------------------------------------------------------------------\n",
      "-----------------------------------NEXT ID OVER HERE-------------------------------------\n",
      "\n",
      "\n",
      "{'activities': 14, 'paths': 5}\n"
     ]
    },
    {
     "name": "stderr",
     "output_type": "stream",
     "text": [
      "C:\\Users\\ashis\\AppData\\Local\\Temp\\ipykernel_20096\\889640330.py:131: SettingWithCopyWarning: \n",
      "A value is trying to be set on a copy of a slice from a DataFrame\n",
      "\n",
      "See the caveats in the documentation: https://pandas.pydata.org/pandas-docs/stable/user_guide/indexing.html#returning-a-view-versus-a-copy\n",
      "  trace[\"task\"][j] = Filter(trace[\"task\"][j]) # FILTEREING THE INDIVIDUAL TRACE INPUT FROM ABOVE\n"
     ]
    },
    {
     "name": "stdout",
     "output_type": "stream",
     "text": [
      "\n",
      "\n",
      "-----------------------------------------------------------------------------------------\n",
      "-----------------------------------NEXT ID OVER HERE-------------------------------------\n",
      "\n",
      "\n",
      "{'activities': 15, 'paths': 5}\n"
     ]
    },
    {
     "name": "stderr",
     "output_type": "stream",
     "text": [
      "C:\\Users\\ashis\\AppData\\Local\\Temp\\ipykernel_20096\\889640330.py:131: SettingWithCopyWarning: \n",
      "A value is trying to be set on a copy of a slice from a DataFrame\n",
      "\n",
      "See the caveats in the documentation: https://pandas.pydata.org/pandas-docs/stable/user_guide/indexing.html#returning-a-view-versus-a-copy\n",
      "  trace[\"task\"][j] = Filter(trace[\"task\"][j]) # FILTEREING THE INDIVIDUAL TRACE INPUT FROM ABOVE\n"
     ]
    },
    {
     "name": "stdout",
     "output_type": "stream",
     "text": [
      "\n",
      "\n",
      "-----------------------------------------------------------------------------------------\n",
      "-----------------------------------NEXT ID OVER HERE-------------------------------------\n",
      "\n",
      "\n",
      "{'activities': 16, 'paths': 5}\n"
     ]
    },
    {
     "name": "stderr",
     "output_type": "stream",
     "text": [
      "C:\\Users\\ashis\\AppData\\Local\\Temp\\ipykernel_20096\\889640330.py:131: SettingWithCopyWarning: \n",
      "A value is trying to be set on a copy of a slice from a DataFrame\n",
      "\n",
      "See the caveats in the documentation: https://pandas.pydata.org/pandas-docs/stable/user_guide/indexing.html#returning-a-view-versus-a-copy\n",
      "  trace[\"task\"][j] = Filter(trace[\"task\"][j]) # FILTEREING THE INDIVIDUAL TRACE INPUT FROM ABOVE\n"
     ]
    },
    {
     "name": "stdout",
     "output_type": "stream",
     "text": [
      "\n",
      "\n",
      "-----------------------------------------------------------------------------------------\n",
      "-----------------------------------NEXT ID OVER HERE-------------------------------------\n",
      "\n",
      "\n",
      "{'activities': 17, 'paths': 5}\n"
     ]
    },
    {
     "name": "stderr",
     "output_type": "stream",
     "text": [
      "C:\\Users\\ashis\\AppData\\Local\\Temp\\ipykernel_20096\\889640330.py:131: SettingWithCopyWarning: \n",
      "A value is trying to be set on a copy of a slice from a DataFrame\n",
      "\n",
      "See the caveats in the documentation: https://pandas.pydata.org/pandas-docs/stable/user_guide/indexing.html#returning-a-view-versus-a-copy\n",
      "  trace[\"task\"][j] = Filter(trace[\"task\"][j]) # FILTEREING THE INDIVIDUAL TRACE INPUT FROM ABOVE\n"
     ]
    },
    {
     "name": "stdout",
     "output_type": "stream",
     "text": [
      "\n",
      "\n",
      "-----------------------------------------------------------------------------------------\n",
      "-----------------------------------NEXT ID OVER HERE-------------------------------------\n",
      "\n",
      "\n",
      "{'activities': 18, 'paths': 5}\n"
     ]
    },
    {
     "name": "stderr",
     "output_type": "stream",
     "text": [
      "C:\\Users\\ashis\\AppData\\Local\\Temp\\ipykernel_20096\\889640330.py:131: SettingWithCopyWarning: \n",
      "A value is trying to be set on a copy of a slice from a DataFrame\n",
      "\n",
      "See the caveats in the documentation: https://pandas.pydata.org/pandas-docs/stable/user_guide/indexing.html#returning-a-view-versus-a-copy\n",
      "  trace[\"task\"][j] = Filter(trace[\"task\"][j]) # FILTEREING THE INDIVIDUAL TRACE INPUT FROM ABOVE\n"
     ]
    },
    {
     "name": "stdout",
     "output_type": "stream",
     "text": [
      "\n",
      "\n",
      "-----------------------------------------------------------------------------------------\n",
      "-----------------------------------NEXT ID OVER HERE-------------------------------------\n",
      "\n",
      "\n",
      "{'activities': 19, 'paths': 5}\n"
     ]
    },
    {
     "name": "stderr",
     "output_type": "stream",
     "text": [
      "C:\\Users\\ashis\\AppData\\Local\\Temp\\ipykernel_20096\\889640330.py:131: SettingWithCopyWarning: \n",
      "A value is trying to be set on a copy of a slice from a DataFrame\n",
      "\n",
      "See the caveats in the documentation: https://pandas.pydata.org/pandas-docs/stable/user_guide/indexing.html#returning-a-view-versus-a-copy\n",
      "  trace[\"task\"][j] = Filter(trace[\"task\"][j]) # FILTEREING THE INDIVIDUAL TRACE INPUT FROM ABOVE\n"
     ]
    },
    {
     "name": "stdout",
     "output_type": "stream",
     "text": [
      "\n",
      "\n",
      "-----------------------------------------------------------------------------------------\n",
      "-----------------------------------NEXT ID OVER HERE-------------------------------------\n",
      "\n",
      "\n",
      "{'activities': 0, 'paths': 20}\n"
     ]
    },
    {
     "name": "stderr",
     "output_type": "stream",
     "text": [
      "C:\\Users\\ashis\\AppData\\Local\\Temp\\ipykernel_20096\\889640330.py:131: SettingWithCopyWarning: \n",
      "A value is trying to be set on a copy of a slice from a DataFrame\n",
      "\n",
      "See the caveats in the documentation: https://pandas.pydata.org/pandas-docs/stable/user_guide/indexing.html#returning-a-view-versus-a-copy\n",
      "  trace[\"task\"][j] = Filter(trace[\"task\"][j]) # FILTEREING THE INDIVIDUAL TRACE INPUT FROM ABOVE\n"
     ]
    },
    {
     "name": "stdout",
     "output_type": "stream",
     "text": [
      "\n",
      "\n",
      "-----------------------------------------------------------------------------------------\n",
      "-----------------------------------NEXT ID OVER HERE-------------------------------------\n",
      "\n",
      "\n",
      "{'activities': 1, 'paths': 20}\n"
     ]
    },
    {
     "name": "stderr",
     "output_type": "stream",
     "text": [
      "C:\\Users\\ashis\\AppData\\Local\\Temp\\ipykernel_20096\\889640330.py:131: SettingWithCopyWarning: \n",
      "A value is trying to be set on a copy of a slice from a DataFrame\n",
      "\n",
      "See the caveats in the documentation: https://pandas.pydata.org/pandas-docs/stable/user_guide/indexing.html#returning-a-view-versus-a-copy\n",
      "  trace[\"task\"][j] = Filter(trace[\"task\"][j]) # FILTEREING THE INDIVIDUAL TRACE INPUT FROM ABOVE\n"
     ]
    },
    {
     "name": "stdout",
     "output_type": "stream",
     "text": [
      "\n",
      "\n",
      "-----------------------------------------------------------------------------------------\n",
      "-----------------------------------NEXT ID OVER HERE-------------------------------------\n",
      "\n",
      "\n",
      "{'activities': 2, 'paths': 20}\n"
     ]
    },
    {
     "name": "stderr",
     "output_type": "stream",
     "text": [
      "C:\\Users\\ashis\\AppData\\Local\\Temp\\ipykernel_20096\\889640330.py:131: SettingWithCopyWarning: \n",
      "A value is trying to be set on a copy of a slice from a DataFrame\n",
      "\n",
      "See the caveats in the documentation: https://pandas.pydata.org/pandas-docs/stable/user_guide/indexing.html#returning-a-view-versus-a-copy\n",
      "  trace[\"task\"][j] = Filter(trace[\"task\"][j]) # FILTEREING THE INDIVIDUAL TRACE INPUT FROM ABOVE\n"
     ]
    },
    {
     "name": "stdout",
     "output_type": "stream",
     "text": [
      "\n",
      "\n",
      "-----------------------------------------------------------------------------------------\n",
      "-----------------------------------NEXT ID OVER HERE-------------------------------------\n",
      "\n",
      "\n",
      "{'activities': 3, 'paths': 20}\n"
     ]
    },
    {
     "name": "stderr",
     "output_type": "stream",
     "text": [
      "C:\\Users\\ashis\\AppData\\Local\\Temp\\ipykernel_20096\\889640330.py:131: SettingWithCopyWarning: \n",
      "A value is trying to be set on a copy of a slice from a DataFrame\n",
      "\n",
      "See the caveats in the documentation: https://pandas.pydata.org/pandas-docs/stable/user_guide/indexing.html#returning-a-view-versus-a-copy\n",
      "  trace[\"task\"][j] = Filter(trace[\"task\"][j]) # FILTEREING THE INDIVIDUAL TRACE INPUT FROM ABOVE\n"
     ]
    },
    {
     "name": "stdout",
     "output_type": "stream",
     "text": [
      "\n",
      "\n",
      "-----------------------------------------------------------------------------------------\n",
      "-----------------------------------NEXT ID OVER HERE-------------------------------------\n",
      "\n",
      "\n",
      "{'activities': 4, 'paths': 20}\n"
     ]
    },
    {
     "name": "stderr",
     "output_type": "stream",
     "text": [
      "C:\\Users\\ashis\\AppData\\Local\\Temp\\ipykernel_20096\\889640330.py:131: SettingWithCopyWarning: \n",
      "A value is trying to be set on a copy of a slice from a DataFrame\n",
      "\n",
      "See the caveats in the documentation: https://pandas.pydata.org/pandas-docs/stable/user_guide/indexing.html#returning-a-view-versus-a-copy\n",
      "  trace[\"task\"][j] = Filter(trace[\"task\"][j]) # FILTEREING THE INDIVIDUAL TRACE INPUT FROM ABOVE\n"
     ]
    },
    {
     "name": "stdout",
     "output_type": "stream",
     "text": [
      "\n",
      "\n",
      "-----------------------------------------------------------------------------------------\n",
      "-----------------------------------NEXT ID OVER HERE-------------------------------------\n",
      "\n",
      "\n",
      "{'activities': 5, 'paths': 20}\n"
     ]
    },
    {
     "name": "stderr",
     "output_type": "stream",
     "text": [
      "C:\\Users\\ashis\\AppData\\Local\\Temp\\ipykernel_20096\\889640330.py:131: SettingWithCopyWarning: \n",
      "A value is trying to be set on a copy of a slice from a DataFrame\n",
      "\n",
      "See the caveats in the documentation: https://pandas.pydata.org/pandas-docs/stable/user_guide/indexing.html#returning-a-view-versus-a-copy\n",
      "  trace[\"task\"][j] = Filter(trace[\"task\"][j]) # FILTEREING THE INDIVIDUAL TRACE INPUT FROM ABOVE\n"
     ]
    },
    {
     "name": "stdout",
     "output_type": "stream",
     "text": [
      "\n",
      "\n",
      "-----------------------------------------------------------------------------------------\n",
      "-----------------------------------NEXT ID OVER HERE-------------------------------------\n",
      "\n",
      "\n",
      "{'activities': 6, 'paths': 20}\n"
     ]
    },
    {
     "name": "stderr",
     "output_type": "stream",
     "text": [
      "C:\\Users\\ashis\\AppData\\Local\\Temp\\ipykernel_20096\\889640330.py:131: SettingWithCopyWarning: \n",
      "A value is trying to be set on a copy of a slice from a DataFrame\n",
      "\n",
      "See the caveats in the documentation: https://pandas.pydata.org/pandas-docs/stable/user_guide/indexing.html#returning-a-view-versus-a-copy\n",
      "  trace[\"task\"][j] = Filter(trace[\"task\"][j]) # FILTEREING THE INDIVIDUAL TRACE INPUT FROM ABOVE\n"
     ]
    },
    {
     "name": "stdout",
     "output_type": "stream",
     "text": [
      "\n",
      "\n",
      "-----------------------------------------------------------------------------------------\n",
      "-----------------------------------NEXT ID OVER HERE-------------------------------------\n",
      "\n",
      "\n",
      "{'activities': 7, 'paths': 20}\n"
     ]
    },
    {
     "name": "stderr",
     "output_type": "stream",
     "text": [
      "C:\\Users\\ashis\\AppData\\Local\\Temp\\ipykernel_20096\\889640330.py:131: SettingWithCopyWarning: \n",
      "A value is trying to be set on a copy of a slice from a DataFrame\n",
      "\n",
      "See the caveats in the documentation: https://pandas.pydata.org/pandas-docs/stable/user_guide/indexing.html#returning-a-view-versus-a-copy\n",
      "  trace[\"task\"][j] = Filter(trace[\"task\"][j]) # FILTEREING THE INDIVIDUAL TRACE INPUT FROM ABOVE\n"
     ]
    },
    {
     "name": "stdout",
     "output_type": "stream",
     "text": [
      "\n",
      "\n",
      "-----------------------------------------------------------------------------------------\n",
      "-----------------------------------NEXT ID OVER HERE-------------------------------------\n",
      "\n",
      "\n",
      "{'activities': 8, 'paths': 20}\n"
     ]
    },
    {
     "name": "stderr",
     "output_type": "stream",
     "text": [
      "C:\\Users\\ashis\\AppData\\Local\\Temp\\ipykernel_20096\\889640330.py:131: SettingWithCopyWarning: \n",
      "A value is trying to be set on a copy of a slice from a DataFrame\n",
      "\n",
      "See the caveats in the documentation: https://pandas.pydata.org/pandas-docs/stable/user_guide/indexing.html#returning-a-view-versus-a-copy\n",
      "  trace[\"task\"][j] = Filter(trace[\"task\"][j]) # FILTEREING THE INDIVIDUAL TRACE INPUT FROM ABOVE\n"
     ]
    },
    {
     "name": "stdout",
     "output_type": "stream",
     "text": [
      "\n",
      "\n",
      "-----------------------------------------------------------------------------------------\n",
      "-----------------------------------NEXT ID OVER HERE-------------------------------------\n",
      "\n",
      "\n",
      "{'activities': 9, 'paths': 20}\n"
     ]
    },
    {
     "name": "stderr",
     "output_type": "stream",
     "text": [
      "C:\\Users\\ashis\\AppData\\Local\\Temp\\ipykernel_20096\\889640330.py:131: SettingWithCopyWarning: \n",
      "A value is trying to be set on a copy of a slice from a DataFrame\n",
      "\n",
      "See the caveats in the documentation: https://pandas.pydata.org/pandas-docs/stable/user_guide/indexing.html#returning-a-view-versus-a-copy\n",
      "  trace[\"task\"][j] = Filter(trace[\"task\"][j]) # FILTEREING THE INDIVIDUAL TRACE INPUT FROM ABOVE\n"
     ]
    },
    {
     "name": "stdout",
     "output_type": "stream",
     "text": [
      "\n",
      "\n",
      "-----------------------------------------------------------------------------------------\n",
      "-----------------------------------NEXT ID OVER HERE-------------------------------------\n",
      "\n",
      "\n",
      "{'activities': 10, 'paths': 20}\n"
     ]
    },
    {
     "name": "stderr",
     "output_type": "stream",
     "text": [
      "C:\\Users\\ashis\\AppData\\Local\\Temp\\ipykernel_20096\\889640330.py:131: SettingWithCopyWarning: \n",
      "A value is trying to be set on a copy of a slice from a DataFrame\n",
      "\n",
      "See the caveats in the documentation: https://pandas.pydata.org/pandas-docs/stable/user_guide/indexing.html#returning-a-view-versus-a-copy\n",
      "  trace[\"task\"][j] = Filter(trace[\"task\"][j]) # FILTEREING THE INDIVIDUAL TRACE INPUT FROM ABOVE\n"
     ]
    },
    {
     "name": "stdout",
     "output_type": "stream",
     "text": [
      "\n",
      "\n",
      "-----------------------------------------------------------------------------------------\n",
      "-----------------------------------NEXT ID OVER HERE-------------------------------------\n",
      "\n",
      "\n",
      "{'activities': 11, 'paths': 20}\n"
     ]
    },
    {
     "name": "stderr",
     "output_type": "stream",
     "text": [
      "C:\\Users\\ashis\\AppData\\Local\\Temp\\ipykernel_20096\\889640330.py:131: SettingWithCopyWarning: \n",
      "A value is trying to be set on a copy of a slice from a DataFrame\n",
      "\n",
      "See the caveats in the documentation: https://pandas.pydata.org/pandas-docs/stable/user_guide/indexing.html#returning-a-view-versus-a-copy\n",
      "  trace[\"task\"][j] = Filter(trace[\"task\"][j]) # FILTEREING THE INDIVIDUAL TRACE INPUT FROM ABOVE\n"
     ]
    },
    {
     "name": "stdout",
     "output_type": "stream",
     "text": [
      "\n",
      "\n",
      "-----------------------------------------------------------------------------------------\n",
      "-----------------------------------NEXT ID OVER HERE-------------------------------------\n",
      "\n",
      "\n",
      "{'activities': 12, 'paths': 20}\n"
     ]
    },
    {
     "name": "stderr",
     "output_type": "stream",
     "text": [
      "C:\\Users\\ashis\\AppData\\Local\\Temp\\ipykernel_20096\\889640330.py:131: SettingWithCopyWarning: \n",
      "A value is trying to be set on a copy of a slice from a DataFrame\n",
      "\n",
      "See the caveats in the documentation: https://pandas.pydata.org/pandas-docs/stable/user_guide/indexing.html#returning-a-view-versus-a-copy\n",
      "  trace[\"task\"][j] = Filter(trace[\"task\"][j]) # FILTEREING THE INDIVIDUAL TRACE INPUT FROM ABOVE\n"
     ]
    },
    {
     "name": "stdout",
     "output_type": "stream",
     "text": [
      "\n",
      "\n",
      "-----------------------------------------------------------------------------------------\n",
      "-----------------------------------NEXT ID OVER HERE-------------------------------------\n",
      "\n",
      "\n",
      "{'activities': 13, 'paths': 20}\n"
     ]
    },
    {
     "name": "stderr",
     "output_type": "stream",
     "text": [
      "C:\\Users\\ashis\\AppData\\Local\\Temp\\ipykernel_20096\\889640330.py:131: SettingWithCopyWarning: \n",
      "A value is trying to be set on a copy of a slice from a DataFrame\n",
      "\n",
      "See the caveats in the documentation: https://pandas.pydata.org/pandas-docs/stable/user_guide/indexing.html#returning-a-view-versus-a-copy\n",
      "  trace[\"task\"][j] = Filter(trace[\"task\"][j]) # FILTEREING THE INDIVIDUAL TRACE INPUT FROM ABOVE\n"
     ]
    },
    {
     "name": "stdout",
     "output_type": "stream",
     "text": [
      "\n",
      "\n",
      "-----------------------------------------------------------------------------------------\n",
      "-----------------------------------NEXT ID OVER HERE-------------------------------------\n",
      "\n",
      "\n",
      "{'activities': 14, 'paths': 20}\n"
     ]
    },
    {
     "name": "stderr",
     "output_type": "stream",
     "text": [
      "C:\\Users\\ashis\\AppData\\Local\\Temp\\ipykernel_20096\\889640330.py:131: SettingWithCopyWarning: \n",
      "A value is trying to be set on a copy of a slice from a DataFrame\n",
      "\n",
      "See the caveats in the documentation: https://pandas.pydata.org/pandas-docs/stable/user_guide/indexing.html#returning-a-view-versus-a-copy\n",
      "  trace[\"task\"][j] = Filter(trace[\"task\"][j]) # FILTEREING THE INDIVIDUAL TRACE INPUT FROM ABOVE\n"
     ]
    },
    {
     "name": "stdout",
     "output_type": "stream",
     "text": [
      "\n",
      "\n",
      "-----------------------------------------------------------------------------------------\n",
      "-----------------------------------NEXT ID OVER HERE-------------------------------------\n",
      "\n",
      "\n",
      "{'activities': 15, 'paths': 20}\n"
     ]
    },
    {
     "name": "stderr",
     "output_type": "stream",
     "text": [
      "C:\\Users\\ashis\\AppData\\Local\\Temp\\ipykernel_20096\\889640330.py:131: SettingWithCopyWarning: \n",
      "A value is trying to be set on a copy of a slice from a DataFrame\n",
      "\n",
      "See the caveats in the documentation: https://pandas.pydata.org/pandas-docs/stable/user_guide/indexing.html#returning-a-view-versus-a-copy\n",
      "  trace[\"task\"][j] = Filter(trace[\"task\"][j]) # FILTEREING THE INDIVIDUAL TRACE INPUT FROM ABOVE\n"
     ]
    },
    {
     "name": "stdout",
     "output_type": "stream",
     "text": [
      "\n",
      "\n",
      "-----------------------------------------------------------------------------------------\n",
      "-----------------------------------NEXT ID OVER HERE-------------------------------------\n",
      "\n",
      "\n",
      "{'activities': 16, 'paths': 20}\n"
     ]
    },
    {
     "name": "stderr",
     "output_type": "stream",
     "text": [
      "C:\\Users\\ashis\\AppData\\Local\\Temp\\ipykernel_20096\\889640330.py:131: SettingWithCopyWarning: \n",
      "A value is trying to be set on a copy of a slice from a DataFrame\n",
      "\n",
      "See the caveats in the documentation: https://pandas.pydata.org/pandas-docs/stable/user_guide/indexing.html#returning-a-view-versus-a-copy\n",
      "  trace[\"task\"][j] = Filter(trace[\"task\"][j]) # FILTEREING THE INDIVIDUAL TRACE INPUT FROM ABOVE\n"
     ]
    },
    {
     "name": "stdout",
     "output_type": "stream",
     "text": [
      "\n",
      "\n",
      "-----------------------------------------------------------------------------------------\n",
      "-----------------------------------NEXT ID OVER HERE-------------------------------------\n",
      "\n",
      "\n",
      "{'activities': 17, 'paths': 20}\n"
     ]
    },
    {
     "name": "stderr",
     "output_type": "stream",
     "text": [
      "C:\\Users\\ashis\\AppData\\Local\\Temp\\ipykernel_20096\\889640330.py:131: SettingWithCopyWarning: \n",
      "A value is trying to be set on a copy of a slice from a DataFrame\n",
      "\n",
      "See the caveats in the documentation: https://pandas.pydata.org/pandas-docs/stable/user_guide/indexing.html#returning-a-view-versus-a-copy\n",
      "  trace[\"task\"][j] = Filter(trace[\"task\"][j]) # FILTEREING THE INDIVIDUAL TRACE INPUT FROM ABOVE\n"
     ]
    },
    {
     "name": "stdout",
     "output_type": "stream",
     "text": [
      "\n",
      "\n",
      "-----------------------------------------------------------------------------------------\n",
      "-----------------------------------NEXT ID OVER HERE-------------------------------------\n",
      "\n",
      "\n",
      "{'activities': 18, 'paths': 20}\n"
     ]
    },
    {
     "name": "stderr",
     "output_type": "stream",
     "text": [
      "C:\\Users\\ashis\\AppData\\Local\\Temp\\ipykernel_20096\\889640330.py:131: SettingWithCopyWarning: \n",
      "A value is trying to be set on a copy of a slice from a DataFrame\n",
      "\n",
      "See the caveats in the documentation: https://pandas.pydata.org/pandas-docs/stable/user_guide/indexing.html#returning-a-view-versus-a-copy\n",
      "  trace[\"task\"][j] = Filter(trace[\"task\"][j]) # FILTEREING THE INDIVIDUAL TRACE INPUT FROM ABOVE\n"
     ]
    },
    {
     "name": "stdout",
     "output_type": "stream",
     "text": [
      "\n",
      "\n",
      "-----------------------------------------------------------------------------------------\n",
      "-----------------------------------NEXT ID OVER HERE-------------------------------------\n",
      "\n",
      "\n",
      "{'activities': 19, 'paths': 20}\n"
     ]
    },
    {
     "name": "stderr",
     "output_type": "stream",
     "text": [
      "C:\\Users\\ashis\\AppData\\Local\\Temp\\ipykernel_20096\\889640330.py:131: SettingWithCopyWarning: \n",
      "A value is trying to be set on a copy of a slice from a DataFrame\n",
      "\n",
      "See the caveats in the documentation: https://pandas.pydata.org/pandas-docs/stable/user_guide/indexing.html#returning-a-view-versus-a-copy\n",
      "  trace[\"task\"][j] = Filter(trace[\"task\"][j]) # FILTEREING THE INDIVIDUAL TRACE INPUT FROM ABOVE\n"
     ]
    },
    {
     "name": "stdout",
     "output_type": "stream",
     "text": [
      "\n",
      "\n",
      "-----------------------------------------------------------------------------------------\n",
      "-----------------------------------NEXT ID OVER HERE-------------------------------------\n",
      "\n",
      "\n",
      "{'activities': 0, 'paths': 40}\n"
     ]
    },
    {
     "name": "stderr",
     "output_type": "stream",
     "text": [
      "C:\\Users\\ashis\\AppData\\Local\\Temp\\ipykernel_20096\\889640330.py:131: SettingWithCopyWarning: \n",
      "A value is trying to be set on a copy of a slice from a DataFrame\n",
      "\n",
      "See the caveats in the documentation: https://pandas.pydata.org/pandas-docs/stable/user_guide/indexing.html#returning-a-view-versus-a-copy\n",
      "  trace[\"task\"][j] = Filter(trace[\"task\"][j]) # FILTEREING THE INDIVIDUAL TRACE INPUT FROM ABOVE\n"
     ]
    },
    {
     "name": "stdout",
     "output_type": "stream",
     "text": [
      "\n",
      "\n",
      "-----------------------------------------------------------------------------------------\n",
      "-----------------------------------NEXT ID OVER HERE-------------------------------------\n",
      "\n",
      "\n",
      "{'activities': 1, 'paths': 40}\n"
     ]
    },
    {
     "name": "stderr",
     "output_type": "stream",
     "text": [
      "C:\\Users\\ashis\\AppData\\Local\\Temp\\ipykernel_20096\\889640330.py:131: SettingWithCopyWarning: \n",
      "A value is trying to be set on a copy of a slice from a DataFrame\n",
      "\n",
      "See the caveats in the documentation: https://pandas.pydata.org/pandas-docs/stable/user_guide/indexing.html#returning-a-view-versus-a-copy\n",
      "  trace[\"task\"][j] = Filter(trace[\"task\"][j]) # FILTEREING THE INDIVIDUAL TRACE INPUT FROM ABOVE\n"
     ]
    },
    {
     "name": "stdout",
     "output_type": "stream",
     "text": [
      "\n",
      "\n",
      "-----------------------------------------------------------------------------------------\n",
      "-----------------------------------NEXT ID OVER HERE-------------------------------------\n",
      "\n",
      "\n",
      "{'activities': 2, 'paths': 40}\n"
     ]
    },
    {
     "name": "stderr",
     "output_type": "stream",
     "text": [
      "C:\\Users\\ashis\\AppData\\Local\\Temp\\ipykernel_20096\\889640330.py:131: SettingWithCopyWarning: \n",
      "A value is trying to be set on a copy of a slice from a DataFrame\n",
      "\n",
      "See the caveats in the documentation: https://pandas.pydata.org/pandas-docs/stable/user_guide/indexing.html#returning-a-view-versus-a-copy\n",
      "  trace[\"task\"][j] = Filter(trace[\"task\"][j]) # FILTEREING THE INDIVIDUAL TRACE INPUT FROM ABOVE\n"
     ]
    },
    {
     "name": "stdout",
     "output_type": "stream",
     "text": [
      "\n",
      "\n",
      "-----------------------------------------------------------------------------------------\n",
      "-----------------------------------NEXT ID OVER HERE-------------------------------------\n",
      "\n",
      "\n",
      "{'activities': 3, 'paths': 40}\n"
     ]
    },
    {
     "name": "stderr",
     "output_type": "stream",
     "text": [
      "C:\\Users\\ashis\\AppData\\Local\\Temp\\ipykernel_20096\\889640330.py:131: SettingWithCopyWarning: \n",
      "A value is trying to be set on a copy of a slice from a DataFrame\n",
      "\n",
      "See the caveats in the documentation: https://pandas.pydata.org/pandas-docs/stable/user_guide/indexing.html#returning-a-view-versus-a-copy\n",
      "  trace[\"task\"][j] = Filter(trace[\"task\"][j]) # FILTEREING THE INDIVIDUAL TRACE INPUT FROM ABOVE\n"
     ]
    },
    {
     "name": "stdout",
     "output_type": "stream",
     "text": [
      "\n",
      "\n",
      "-----------------------------------------------------------------------------------------\n",
      "-----------------------------------NEXT ID OVER HERE-------------------------------------\n",
      "\n",
      "\n",
      "{'activities': 4, 'paths': 40}\n"
     ]
    },
    {
     "name": "stderr",
     "output_type": "stream",
     "text": [
      "C:\\Users\\ashis\\AppData\\Local\\Temp\\ipykernel_20096\\889640330.py:131: SettingWithCopyWarning: \n",
      "A value is trying to be set on a copy of a slice from a DataFrame\n",
      "\n",
      "See the caveats in the documentation: https://pandas.pydata.org/pandas-docs/stable/user_guide/indexing.html#returning-a-view-versus-a-copy\n",
      "  trace[\"task\"][j] = Filter(trace[\"task\"][j]) # FILTEREING THE INDIVIDUAL TRACE INPUT FROM ABOVE\n"
     ]
    },
    {
     "name": "stdout",
     "output_type": "stream",
     "text": [
      "\n",
      "\n",
      "-----------------------------------------------------------------------------------------\n",
      "-----------------------------------NEXT ID OVER HERE-------------------------------------\n",
      "\n",
      "\n",
      "{'activities': 5, 'paths': 40}\n"
     ]
    },
    {
     "name": "stderr",
     "output_type": "stream",
     "text": [
      "C:\\Users\\ashis\\AppData\\Local\\Temp\\ipykernel_20096\\889640330.py:131: SettingWithCopyWarning: \n",
      "A value is trying to be set on a copy of a slice from a DataFrame\n",
      "\n",
      "See the caveats in the documentation: https://pandas.pydata.org/pandas-docs/stable/user_guide/indexing.html#returning-a-view-versus-a-copy\n",
      "  trace[\"task\"][j] = Filter(trace[\"task\"][j]) # FILTEREING THE INDIVIDUAL TRACE INPUT FROM ABOVE\n"
     ]
    },
    {
     "name": "stdout",
     "output_type": "stream",
     "text": [
      "\n",
      "\n",
      "-----------------------------------------------------------------------------------------\n",
      "-----------------------------------NEXT ID OVER HERE-------------------------------------\n",
      "\n",
      "\n",
      "{'activities': 6, 'paths': 40}\n"
     ]
    },
    {
     "name": "stderr",
     "output_type": "stream",
     "text": [
      "C:\\Users\\ashis\\AppData\\Local\\Temp\\ipykernel_20096\\889640330.py:131: SettingWithCopyWarning: \n",
      "A value is trying to be set on a copy of a slice from a DataFrame\n",
      "\n",
      "See the caveats in the documentation: https://pandas.pydata.org/pandas-docs/stable/user_guide/indexing.html#returning-a-view-versus-a-copy\n",
      "  trace[\"task\"][j] = Filter(trace[\"task\"][j]) # FILTEREING THE INDIVIDUAL TRACE INPUT FROM ABOVE\n"
     ]
    },
    {
     "name": "stdout",
     "output_type": "stream",
     "text": [
      "\n",
      "\n",
      "-----------------------------------------------------------------------------------------\n",
      "-----------------------------------NEXT ID OVER HERE-------------------------------------\n",
      "\n",
      "\n",
      "{'activities': 7, 'paths': 40}\n"
     ]
    },
    {
     "name": "stderr",
     "output_type": "stream",
     "text": [
      "C:\\Users\\ashis\\AppData\\Local\\Temp\\ipykernel_20096\\889640330.py:131: SettingWithCopyWarning: \n",
      "A value is trying to be set on a copy of a slice from a DataFrame\n",
      "\n",
      "See the caveats in the documentation: https://pandas.pydata.org/pandas-docs/stable/user_guide/indexing.html#returning-a-view-versus-a-copy\n",
      "  trace[\"task\"][j] = Filter(trace[\"task\"][j]) # FILTEREING THE INDIVIDUAL TRACE INPUT FROM ABOVE\n"
     ]
    },
    {
     "name": "stdout",
     "output_type": "stream",
     "text": [
      "\n",
      "\n",
      "-----------------------------------------------------------------------------------------\n",
      "-----------------------------------NEXT ID OVER HERE-------------------------------------\n",
      "\n",
      "\n",
      "{'activities': 8, 'paths': 40}\n"
     ]
    },
    {
     "name": "stderr",
     "output_type": "stream",
     "text": [
      "C:\\Users\\ashis\\AppData\\Local\\Temp\\ipykernel_20096\\889640330.py:131: SettingWithCopyWarning: \n",
      "A value is trying to be set on a copy of a slice from a DataFrame\n",
      "\n",
      "See the caveats in the documentation: https://pandas.pydata.org/pandas-docs/stable/user_guide/indexing.html#returning-a-view-versus-a-copy\n",
      "  trace[\"task\"][j] = Filter(trace[\"task\"][j]) # FILTEREING THE INDIVIDUAL TRACE INPUT FROM ABOVE\n"
     ]
    },
    {
     "name": "stdout",
     "output_type": "stream",
     "text": [
      "\n",
      "\n",
      "-----------------------------------------------------------------------------------------\n",
      "-----------------------------------NEXT ID OVER HERE-------------------------------------\n",
      "\n",
      "\n",
      "{'activities': 9, 'paths': 40}\n"
     ]
    },
    {
     "name": "stderr",
     "output_type": "stream",
     "text": [
      "C:\\Users\\ashis\\AppData\\Local\\Temp\\ipykernel_20096\\889640330.py:131: SettingWithCopyWarning: \n",
      "A value is trying to be set on a copy of a slice from a DataFrame\n",
      "\n",
      "See the caveats in the documentation: https://pandas.pydata.org/pandas-docs/stable/user_guide/indexing.html#returning-a-view-versus-a-copy\n",
      "  trace[\"task\"][j] = Filter(trace[\"task\"][j]) # FILTEREING THE INDIVIDUAL TRACE INPUT FROM ABOVE\n"
     ]
    },
    {
     "name": "stdout",
     "output_type": "stream",
     "text": [
      "\n",
      "\n",
      "-----------------------------------------------------------------------------------------\n",
      "-----------------------------------NEXT ID OVER HERE-------------------------------------\n",
      "\n",
      "\n",
      "{'activities': 10, 'paths': 40}\n"
     ]
    },
    {
     "name": "stderr",
     "output_type": "stream",
     "text": [
      "C:\\Users\\ashis\\AppData\\Local\\Temp\\ipykernel_20096\\889640330.py:131: SettingWithCopyWarning: \n",
      "A value is trying to be set on a copy of a slice from a DataFrame\n",
      "\n",
      "See the caveats in the documentation: https://pandas.pydata.org/pandas-docs/stable/user_guide/indexing.html#returning-a-view-versus-a-copy\n",
      "  trace[\"task\"][j] = Filter(trace[\"task\"][j]) # FILTEREING THE INDIVIDUAL TRACE INPUT FROM ABOVE\n"
     ]
    },
    {
     "name": "stdout",
     "output_type": "stream",
     "text": [
      "\n",
      "\n",
      "-----------------------------------------------------------------------------------------\n",
      "-----------------------------------NEXT ID OVER HERE-------------------------------------\n",
      "\n",
      "\n",
      "{'activities': 11, 'paths': 40}\n"
     ]
    },
    {
     "name": "stderr",
     "output_type": "stream",
     "text": [
      "C:\\Users\\ashis\\AppData\\Local\\Temp\\ipykernel_20096\\889640330.py:131: SettingWithCopyWarning: \n",
      "A value is trying to be set on a copy of a slice from a DataFrame\n",
      "\n",
      "See the caveats in the documentation: https://pandas.pydata.org/pandas-docs/stable/user_guide/indexing.html#returning-a-view-versus-a-copy\n",
      "  trace[\"task\"][j] = Filter(trace[\"task\"][j]) # FILTEREING THE INDIVIDUAL TRACE INPUT FROM ABOVE\n"
     ]
    },
    {
     "name": "stdout",
     "output_type": "stream",
     "text": [
      "\n",
      "\n",
      "-----------------------------------------------------------------------------------------\n",
      "-----------------------------------NEXT ID OVER HERE-------------------------------------\n",
      "\n",
      "\n",
      "{'activities': 12, 'paths': 40}\n"
     ]
    },
    {
     "name": "stderr",
     "output_type": "stream",
     "text": [
      "C:\\Users\\ashis\\AppData\\Local\\Temp\\ipykernel_20096\\889640330.py:131: SettingWithCopyWarning: \n",
      "A value is trying to be set on a copy of a slice from a DataFrame\n",
      "\n",
      "See the caveats in the documentation: https://pandas.pydata.org/pandas-docs/stable/user_guide/indexing.html#returning-a-view-versus-a-copy\n",
      "  trace[\"task\"][j] = Filter(trace[\"task\"][j]) # FILTEREING THE INDIVIDUAL TRACE INPUT FROM ABOVE\n"
     ]
    },
    {
     "name": "stdout",
     "output_type": "stream",
     "text": [
      "\n",
      "\n",
      "-----------------------------------------------------------------------------------------\n",
      "-----------------------------------NEXT ID OVER HERE-------------------------------------\n",
      "\n",
      "\n",
      "{'activities': 13, 'paths': 40}\n"
     ]
    },
    {
     "name": "stderr",
     "output_type": "stream",
     "text": [
      "C:\\Users\\ashis\\AppData\\Local\\Temp\\ipykernel_20096\\889640330.py:131: SettingWithCopyWarning: \n",
      "A value is trying to be set on a copy of a slice from a DataFrame\n",
      "\n",
      "See the caveats in the documentation: https://pandas.pydata.org/pandas-docs/stable/user_guide/indexing.html#returning-a-view-versus-a-copy\n",
      "  trace[\"task\"][j] = Filter(trace[\"task\"][j]) # FILTEREING THE INDIVIDUAL TRACE INPUT FROM ABOVE\n"
     ]
    },
    {
     "name": "stdout",
     "output_type": "stream",
     "text": [
      "\n",
      "\n",
      "-----------------------------------------------------------------------------------------\n",
      "-----------------------------------NEXT ID OVER HERE-------------------------------------\n",
      "\n",
      "\n",
      "{'activities': 14, 'paths': 40}\n"
     ]
    },
    {
     "name": "stderr",
     "output_type": "stream",
     "text": [
      "C:\\Users\\ashis\\AppData\\Local\\Temp\\ipykernel_20096\\889640330.py:131: SettingWithCopyWarning: \n",
      "A value is trying to be set on a copy of a slice from a DataFrame\n",
      "\n",
      "See the caveats in the documentation: https://pandas.pydata.org/pandas-docs/stable/user_guide/indexing.html#returning-a-view-versus-a-copy\n",
      "  trace[\"task\"][j] = Filter(trace[\"task\"][j]) # FILTEREING THE INDIVIDUAL TRACE INPUT FROM ABOVE\n"
     ]
    },
    {
     "name": "stdout",
     "output_type": "stream",
     "text": [
      "\n",
      "\n",
      "-----------------------------------------------------------------------------------------\n",
      "-----------------------------------NEXT ID OVER HERE-------------------------------------\n",
      "\n",
      "\n",
      "{'activities': 15, 'paths': 40}\n"
     ]
    },
    {
     "name": "stderr",
     "output_type": "stream",
     "text": [
      "C:\\Users\\ashis\\AppData\\Local\\Temp\\ipykernel_20096\\889640330.py:131: SettingWithCopyWarning: \n",
      "A value is trying to be set on a copy of a slice from a DataFrame\n",
      "\n",
      "See the caveats in the documentation: https://pandas.pydata.org/pandas-docs/stable/user_guide/indexing.html#returning-a-view-versus-a-copy\n",
      "  trace[\"task\"][j] = Filter(trace[\"task\"][j]) # FILTEREING THE INDIVIDUAL TRACE INPUT FROM ABOVE\n"
     ]
    },
    {
     "name": "stdout",
     "output_type": "stream",
     "text": [
      "\n",
      "\n",
      "-----------------------------------------------------------------------------------------\n",
      "-----------------------------------NEXT ID OVER HERE-------------------------------------\n",
      "\n",
      "\n",
      "{'activities': 16, 'paths': 40}\n"
     ]
    },
    {
     "name": "stderr",
     "output_type": "stream",
     "text": [
      "C:\\Users\\ashis\\AppData\\Local\\Temp\\ipykernel_20096\\889640330.py:131: SettingWithCopyWarning: \n",
      "A value is trying to be set on a copy of a slice from a DataFrame\n",
      "\n",
      "See the caveats in the documentation: https://pandas.pydata.org/pandas-docs/stable/user_guide/indexing.html#returning-a-view-versus-a-copy\n",
      "  trace[\"task\"][j] = Filter(trace[\"task\"][j]) # FILTEREING THE INDIVIDUAL TRACE INPUT FROM ABOVE\n"
     ]
    },
    {
     "name": "stdout",
     "output_type": "stream",
     "text": [
      "\n",
      "\n",
      "-----------------------------------------------------------------------------------------\n",
      "-----------------------------------NEXT ID OVER HERE-------------------------------------\n",
      "\n",
      "\n",
      "{'activities': 17, 'paths': 40}\n"
     ]
    },
    {
     "name": "stderr",
     "output_type": "stream",
     "text": [
      "C:\\Users\\ashis\\AppData\\Local\\Temp\\ipykernel_20096\\889640330.py:131: SettingWithCopyWarning: \n",
      "A value is trying to be set on a copy of a slice from a DataFrame\n",
      "\n",
      "See the caveats in the documentation: https://pandas.pydata.org/pandas-docs/stable/user_guide/indexing.html#returning-a-view-versus-a-copy\n",
      "  trace[\"task\"][j] = Filter(trace[\"task\"][j]) # FILTEREING THE INDIVIDUAL TRACE INPUT FROM ABOVE\n"
     ]
    },
    {
     "name": "stdout",
     "output_type": "stream",
     "text": [
      "\n",
      "\n",
      "-----------------------------------------------------------------------------------------\n",
      "-----------------------------------NEXT ID OVER HERE-------------------------------------\n",
      "\n",
      "\n",
      "{'activities': 18, 'paths': 40}\n"
     ]
    },
    {
     "name": "stderr",
     "output_type": "stream",
     "text": [
      "C:\\Users\\ashis\\AppData\\Local\\Temp\\ipykernel_20096\\889640330.py:131: SettingWithCopyWarning: \n",
      "A value is trying to be set on a copy of a slice from a DataFrame\n",
      "\n",
      "See the caveats in the documentation: https://pandas.pydata.org/pandas-docs/stable/user_guide/indexing.html#returning-a-view-versus-a-copy\n",
      "  trace[\"task\"][j] = Filter(trace[\"task\"][j]) # FILTEREING THE INDIVIDUAL TRACE INPUT FROM ABOVE\n"
     ]
    },
    {
     "name": "stdout",
     "output_type": "stream",
     "text": [
      "\n",
      "\n",
      "-----------------------------------------------------------------------------------------\n",
      "-----------------------------------NEXT ID OVER HERE-------------------------------------\n",
      "\n",
      "\n",
      "{'activities': 19, 'paths': 40}\n"
     ]
    },
    {
     "name": "stderr",
     "output_type": "stream",
     "text": [
      "C:\\Users\\ashis\\AppData\\Local\\Temp\\ipykernel_20096\\889640330.py:131: SettingWithCopyWarning: \n",
      "A value is trying to be set on a copy of a slice from a DataFrame\n",
      "\n",
      "See the caveats in the documentation: https://pandas.pydata.org/pandas-docs/stable/user_guide/indexing.html#returning-a-view-versus-a-copy\n",
      "  trace[\"task\"][j] = Filter(trace[\"task\"][j]) # FILTEREING THE INDIVIDUAL TRACE INPUT FROM ABOVE\n"
     ]
    },
    {
     "name": "stdout",
     "output_type": "stream",
     "text": [
      "\n",
      "\n",
      "-----------------------------------------------------------------------------------------\n",
      "-----------------------------------NEXT ID OVER HERE-------------------------------------\n",
      "\n",
      "\n",
      "{'activities': 0, 'paths': 60}\n"
     ]
    },
    {
     "name": "stderr",
     "output_type": "stream",
     "text": [
      "C:\\Users\\ashis\\AppData\\Local\\Temp\\ipykernel_20096\\889640330.py:131: SettingWithCopyWarning: \n",
      "A value is trying to be set on a copy of a slice from a DataFrame\n",
      "\n",
      "See the caveats in the documentation: https://pandas.pydata.org/pandas-docs/stable/user_guide/indexing.html#returning-a-view-versus-a-copy\n",
      "  trace[\"task\"][j] = Filter(trace[\"task\"][j]) # FILTEREING THE INDIVIDUAL TRACE INPUT FROM ABOVE\n"
     ]
    },
    {
     "name": "stdout",
     "output_type": "stream",
     "text": [
      "\n",
      "\n",
      "-----------------------------------------------------------------------------------------\n",
      "-----------------------------------NEXT ID OVER HERE-------------------------------------\n",
      "\n",
      "\n",
      "{'activities': 1, 'paths': 60}\n"
     ]
    },
    {
     "name": "stderr",
     "output_type": "stream",
     "text": [
      "C:\\Users\\ashis\\AppData\\Local\\Temp\\ipykernel_20096\\889640330.py:131: SettingWithCopyWarning: \n",
      "A value is trying to be set on a copy of a slice from a DataFrame\n",
      "\n",
      "See the caveats in the documentation: https://pandas.pydata.org/pandas-docs/stable/user_guide/indexing.html#returning-a-view-versus-a-copy\n",
      "  trace[\"task\"][j] = Filter(trace[\"task\"][j]) # FILTEREING THE INDIVIDUAL TRACE INPUT FROM ABOVE\n"
     ]
    },
    {
     "name": "stdout",
     "output_type": "stream",
     "text": [
      "\n",
      "\n",
      "-----------------------------------------------------------------------------------------\n",
      "-----------------------------------NEXT ID OVER HERE-------------------------------------\n",
      "\n",
      "\n",
      "{'activities': 2, 'paths': 60}\n"
     ]
    },
    {
     "name": "stderr",
     "output_type": "stream",
     "text": [
      "C:\\Users\\ashis\\AppData\\Local\\Temp\\ipykernel_20096\\889640330.py:131: SettingWithCopyWarning: \n",
      "A value is trying to be set on a copy of a slice from a DataFrame\n",
      "\n",
      "See the caveats in the documentation: https://pandas.pydata.org/pandas-docs/stable/user_guide/indexing.html#returning-a-view-versus-a-copy\n",
      "  trace[\"task\"][j] = Filter(trace[\"task\"][j]) # FILTEREING THE INDIVIDUAL TRACE INPUT FROM ABOVE\n"
     ]
    },
    {
     "name": "stdout",
     "output_type": "stream",
     "text": [
      "\n",
      "\n",
      "-----------------------------------------------------------------------------------------\n",
      "-----------------------------------NEXT ID OVER HERE-------------------------------------\n",
      "\n",
      "\n",
      "{'activities': 3, 'paths': 60}\n"
     ]
    },
    {
     "name": "stderr",
     "output_type": "stream",
     "text": [
      "C:\\Users\\ashis\\AppData\\Local\\Temp\\ipykernel_20096\\889640330.py:131: SettingWithCopyWarning: \n",
      "A value is trying to be set on a copy of a slice from a DataFrame\n",
      "\n",
      "See the caveats in the documentation: https://pandas.pydata.org/pandas-docs/stable/user_guide/indexing.html#returning-a-view-versus-a-copy\n",
      "  trace[\"task\"][j] = Filter(trace[\"task\"][j]) # FILTEREING THE INDIVIDUAL TRACE INPUT FROM ABOVE\n"
     ]
    },
    {
     "name": "stdout",
     "output_type": "stream",
     "text": [
      "\n",
      "\n",
      "-----------------------------------------------------------------------------------------\n",
      "-----------------------------------NEXT ID OVER HERE-------------------------------------\n",
      "\n",
      "\n",
      "{'activities': 4, 'paths': 60}\n"
     ]
    },
    {
     "name": "stderr",
     "output_type": "stream",
     "text": [
      "C:\\Users\\ashis\\AppData\\Local\\Temp\\ipykernel_20096\\889640330.py:131: SettingWithCopyWarning: \n",
      "A value is trying to be set on a copy of a slice from a DataFrame\n",
      "\n",
      "See the caveats in the documentation: https://pandas.pydata.org/pandas-docs/stable/user_guide/indexing.html#returning-a-view-versus-a-copy\n",
      "  trace[\"task\"][j] = Filter(trace[\"task\"][j]) # FILTEREING THE INDIVIDUAL TRACE INPUT FROM ABOVE\n"
     ]
    },
    {
     "name": "stdout",
     "output_type": "stream",
     "text": [
      "\n",
      "\n",
      "-----------------------------------------------------------------------------------------\n",
      "-----------------------------------NEXT ID OVER HERE-------------------------------------\n",
      "\n",
      "\n",
      "{'activities': 5, 'paths': 60}\n"
     ]
    },
    {
     "name": "stderr",
     "output_type": "stream",
     "text": [
      "C:\\Users\\ashis\\AppData\\Local\\Temp\\ipykernel_20096\\889640330.py:131: SettingWithCopyWarning: \n",
      "A value is trying to be set on a copy of a slice from a DataFrame\n",
      "\n",
      "See the caveats in the documentation: https://pandas.pydata.org/pandas-docs/stable/user_guide/indexing.html#returning-a-view-versus-a-copy\n",
      "  trace[\"task\"][j] = Filter(trace[\"task\"][j]) # FILTEREING THE INDIVIDUAL TRACE INPUT FROM ABOVE\n"
     ]
    },
    {
     "name": "stdout",
     "output_type": "stream",
     "text": [
      "\n",
      "\n",
      "-----------------------------------------------------------------------------------------\n",
      "-----------------------------------NEXT ID OVER HERE-------------------------------------\n",
      "\n",
      "\n",
      "{'activities': 6, 'paths': 60}\n"
     ]
    },
    {
     "name": "stderr",
     "output_type": "stream",
     "text": [
      "C:\\Users\\ashis\\AppData\\Local\\Temp\\ipykernel_20096\\889640330.py:131: SettingWithCopyWarning: \n",
      "A value is trying to be set on a copy of a slice from a DataFrame\n",
      "\n",
      "See the caveats in the documentation: https://pandas.pydata.org/pandas-docs/stable/user_guide/indexing.html#returning-a-view-versus-a-copy\n",
      "  trace[\"task\"][j] = Filter(trace[\"task\"][j]) # FILTEREING THE INDIVIDUAL TRACE INPUT FROM ABOVE\n"
     ]
    },
    {
     "name": "stdout",
     "output_type": "stream",
     "text": [
      "\n",
      "\n",
      "-----------------------------------------------------------------------------------------\n",
      "-----------------------------------NEXT ID OVER HERE-------------------------------------\n",
      "\n",
      "\n",
      "{'activities': 7, 'paths': 60}\n"
     ]
    },
    {
     "name": "stderr",
     "output_type": "stream",
     "text": [
      "C:\\Users\\ashis\\AppData\\Local\\Temp\\ipykernel_20096\\889640330.py:131: SettingWithCopyWarning: \n",
      "A value is trying to be set on a copy of a slice from a DataFrame\n",
      "\n",
      "See the caveats in the documentation: https://pandas.pydata.org/pandas-docs/stable/user_guide/indexing.html#returning-a-view-versus-a-copy\n",
      "  trace[\"task\"][j] = Filter(trace[\"task\"][j]) # FILTEREING THE INDIVIDUAL TRACE INPUT FROM ABOVE\n"
     ]
    },
    {
     "name": "stdout",
     "output_type": "stream",
     "text": [
      "\n",
      "\n",
      "-----------------------------------------------------------------------------------------\n",
      "-----------------------------------NEXT ID OVER HERE-------------------------------------\n",
      "\n",
      "\n",
      "{'activities': 8, 'paths': 60}\n"
     ]
    },
    {
     "name": "stderr",
     "output_type": "stream",
     "text": [
      "C:\\Users\\ashis\\AppData\\Local\\Temp\\ipykernel_20096\\889640330.py:131: SettingWithCopyWarning: \n",
      "A value is trying to be set on a copy of a slice from a DataFrame\n",
      "\n",
      "See the caveats in the documentation: https://pandas.pydata.org/pandas-docs/stable/user_guide/indexing.html#returning-a-view-versus-a-copy\n",
      "  trace[\"task\"][j] = Filter(trace[\"task\"][j]) # FILTEREING THE INDIVIDUAL TRACE INPUT FROM ABOVE\n"
     ]
    },
    {
     "name": "stdout",
     "output_type": "stream",
     "text": [
      "\n",
      "\n",
      "-----------------------------------------------------------------------------------------\n",
      "-----------------------------------NEXT ID OVER HERE-------------------------------------\n",
      "\n",
      "\n",
      "{'activities': 9, 'paths': 60}\n"
     ]
    },
    {
     "name": "stderr",
     "output_type": "stream",
     "text": [
      "C:\\Users\\ashis\\AppData\\Local\\Temp\\ipykernel_20096\\889640330.py:131: SettingWithCopyWarning: \n",
      "A value is trying to be set on a copy of a slice from a DataFrame\n",
      "\n",
      "See the caveats in the documentation: https://pandas.pydata.org/pandas-docs/stable/user_guide/indexing.html#returning-a-view-versus-a-copy\n",
      "  trace[\"task\"][j] = Filter(trace[\"task\"][j]) # FILTEREING THE INDIVIDUAL TRACE INPUT FROM ABOVE\n"
     ]
    },
    {
     "name": "stdout",
     "output_type": "stream",
     "text": [
      "\n",
      "\n",
      "-----------------------------------------------------------------------------------------\n",
      "-----------------------------------NEXT ID OVER HERE-------------------------------------\n",
      "\n",
      "\n",
      "{'activities': 10, 'paths': 60}\n"
     ]
    },
    {
     "name": "stderr",
     "output_type": "stream",
     "text": [
      "C:\\Users\\ashis\\AppData\\Local\\Temp\\ipykernel_20096\\889640330.py:131: SettingWithCopyWarning: \n",
      "A value is trying to be set on a copy of a slice from a DataFrame\n",
      "\n",
      "See the caveats in the documentation: https://pandas.pydata.org/pandas-docs/stable/user_guide/indexing.html#returning-a-view-versus-a-copy\n",
      "  trace[\"task\"][j] = Filter(trace[\"task\"][j]) # FILTEREING THE INDIVIDUAL TRACE INPUT FROM ABOVE\n"
     ]
    },
    {
     "name": "stdout",
     "output_type": "stream",
     "text": [
      "\n",
      "\n",
      "-----------------------------------------------------------------------------------------\n",
      "-----------------------------------NEXT ID OVER HERE-------------------------------------\n",
      "\n",
      "\n",
      "{'activities': 11, 'paths': 60}\n"
     ]
    },
    {
     "name": "stderr",
     "output_type": "stream",
     "text": [
      "C:\\Users\\ashis\\AppData\\Local\\Temp\\ipykernel_20096\\889640330.py:131: SettingWithCopyWarning: \n",
      "A value is trying to be set on a copy of a slice from a DataFrame\n",
      "\n",
      "See the caveats in the documentation: https://pandas.pydata.org/pandas-docs/stable/user_guide/indexing.html#returning-a-view-versus-a-copy\n",
      "  trace[\"task\"][j] = Filter(trace[\"task\"][j]) # FILTEREING THE INDIVIDUAL TRACE INPUT FROM ABOVE\n"
     ]
    },
    {
     "name": "stdout",
     "output_type": "stream",
     "text": [
      "\n",
      "\n",
      "-----------------------------------------------------------------------------------------\n",
      "-----------------------------------NEXT ID OVER HERE-------------------------------------\n",
      "\n",
      "\n",
      "{'activities': 12, 'paths': 60}\n"
     ]
    },
    {
     "name": "stderr",
     "output_type": "stream",
     "text": [
      "C:\\Users\\ashis\\AppData\\Local\\Temp\\ipykernel_20096\\889640330.py:131: SettingWithCopyWarning: \n",
      "A value is trying to be set on a copy of a slice from a DataFrame\n",
      "\n",
      "See the caveats in the documentation: https://pandas.pydata.org/pandas-docs/stable/user_guide/indexing.html#returning-a-view-versus-a-copy\n",
      "  trace[\"task\"][j] = Filter(trace[\"task\"][j]) # FILTEREING THE INDIVIDUAL TRACE INPUT FROM ABOVE\n"
     ]
    },
    {
     "name": "stdout",
     "output_type": "stream",
     "text": [
      "\n",
      "\n",
      "-----------------------------------------------------------------------------------------\n",
      "-----------------------------------NEXT ID OVER HERE-------------------------------------\n",
      "\n",
      "\n",
      "{'activities': 13, 'paths': 60}\n"
     ]
    },
    {
     "name": "stderr",
     "output_type": "stream",
     "text": [
      "C:\\Users\\ashis\\AppData\\Local\\Temp\\ipykernel_20096\\889640330.py:131: SettingWithCopyWarning: \n",
      "A value is trying to be set on a copy of a slice from a DataFrame\n",
      "\n",
      "See the caveats in the documentation: https://pandas.pydata.org/pandas-docs/stable/user_guide/indexing.html#returning-a-view-versus-a-copy\n",
      "  trace[\"task\"][j] = Filter(trace[\"task\"][j]) # FILTEREING THE INDIVIDUAL TRACE INPUT FROM ABOVE\n"
     ]
    },
    {
     "name": "stdout",
     "output_type": "stream",
     "text": [
      "\n",
      "\n",
      "-----------------------------------------------------------------------------------------\n",
      "-----------------------------------NEXT ID OVER HERE-------------------------------------\n",
      "\n",
      "\n",
      "{'activities': 14, 'paths': 60}\n"
     ]
    },
    {
     "name": "stderr",
     "output_type": "stream",
     "text": [
      "C:\\Users\\ashis\\AppData\\Local\\Temp\\ipykernel_20096\\889640330.py:131: SettingWithCopyWarning: \n",
      "A value is trying to be set on a copy of a slice from a DataFrame\n",
      "\n",
      "See the caveats in the documentation: https://pandas.pydata.org/pandas-docs/stable/user_guide/indexing.html#returning-a-view-versus-a-copy\n",
      "  trace[\"task\"][j] = Filter(trace[\"task\"][j]) # FILTEREING THE INDIVIDUAL TRACE INPUT FROM ABOVE\n"
     ]
    },
    {
     "name": "stdout",
     "output_type": "stream",
     "text": [
      "\n",
      "\n",
      "-----------------------------------------------------------------------------------------\n",
      "-----------------------------------NEXT ID OVER HERE-------------------------------------\n",
      "\n",
      "\n",
      "{'activities': 15, 'paths': 60}\n"
     ]
    },
    {
     "name": "stderr",
     "output_type": "stream",
     "text": [
      "C:\\Users\\ashis\\AppData\\Local\\Temp\\ipykernel_20096\\889640330.py:131: SettingWithCopyWarning: \n",
      "A value is trying to be set on a copy of a slice from a DataFrame\n",
      "\n",
      "See the caveats in the documentation: https://pandas.pydata.org/pandas-docs/stable/user_guide/indexing.html#returning-a-view-versus-a-copy\n",
      "  trace[\"task\"][j] = Filter(trace[\"task\"][j]) # FILTEREING THE INDIVIDUAL TRACE INPUT FROM ABOVE\n"
     ]
    },
    {
     "name": "stdout",
     "output_type": "stream",
     "text": [
      "\n",
      "\n",
      "-----------------------------------------------------------------------------------------\n",
      "-----------------------------------NEXT ID OVER HERE-------------------------------------\n",
      "\n",
      "\n",
      "{'activities': 16, 'paths': 60}\n"
     ]
    },
    {
     "name": "stderr",
     "output_type": "stream",
     "text": [
      "C:\\Users\\ashis\\AppData\\Local\\Temp\\ipykernel_20096\\889640330.py:131: SettingWithCopyWarning: \n",
      "A value is trying to be set on a copy of a slice from a DataFrame\n",
      "\n",
      "See the caveats in the documentation: https://pandas.pydata.org/pandas-docs/stable/user_guide/indexing.html#returning-a-view-versus-a-copy\n",
      "  trace[\"task\"][j] = Filter(trace[\"task\"][j]) # FILTEREING THE INDIVIDUAL TRACE INPUT FROM ABOVE\n"
     ]
    },
    {
     "name": "stdout",
     "output_type": "stream",
     "text": [
      "\n",
      "\n",
      "-----------------------------------------------------------------------------------------\n",
      "-----------------------------------NEXT ID OVER HERE-------------------------------------\n",
      "\n",
      "\n",
      "{'activities': 17, 'paths': 60}\n"
     ]
    },
    {
     "name": "stderr",
     "output_type": "stream",
     "text": [
      "C:\\Users\\ashis\\AppData\\Local\\Temp\\ipykernel_20096\\889640330.py:131: SettingWithCopyWarning: \n",
      "A value is trying to be set on a copy of a slice from a DataFrame\n",
      "\n",
      "See the caveats in the documentation: https://pandas.pydata.org/pandas-docs/stable/user_guide/indexing.html#returning-a-view-versus-a-copy\n",
      "  trace[\"task\"][j] = Filter(trace[\"task\"][j]) # FILTEREING THE INDIVIDUAL TRACE INPUT FROM ABOVE\n"
     ]
    },
    {
     "name": "stdout",
     "output_type": "stream",
     "text": [
      "\n",
      "\n",
      "-----------------------------------------------------------------------------------------\n",
      "-----------------------------------NEXT ID OVER HERE-------------------------------------\n",
      "\n",
      "\n",
      "{'activities': 18, 'paths': 60}\n"
     ]
    },
    {
     "name": "stderr",
     "output_type": "stream",
     "text": [
      "C:\\Users\\ashis\\AppData\\Local\\Temp\\ipykernel_20096\\889640330.py:131: SettingWithCopyWarning: \n",
      "A value is trying to be set on a copy of a slice from a DataFrame\n",
      "\n",
      "See the caveats in the documentation: https://pandas.pydata.org/pandas-docs/stable/user_guide/indexing.html#returning-a-view-versus-a-copy\n",
      "  trace[\"task\"][j] = Filter(trace[\"task\"][j]) # FILTEREING THE INDIVIDUAL TRACE INPUT FROM ABOVE\n"
     ]
    },
    {
     "name": "stdout",
     "output_type": "stream",
     "text": [
      "\n",
      "\n",
      "-----------------------------------------------------------------------------------------\n",
      "-----------------------------------NEXT ID OVER HERE-------------------------------------\n",
      "\n",
      "\n",
      "{'activities': 19, 'paths': 60}\n"
     ]
    },
    {
     "name": "stderr",
     "output_type": "stream",
     "text": [
      "C:\\Users\\ashis\\AppData\\Local\\Temp\\ipykernel_20096\\889640330.py:131: SettingWithCopyWarning: \n",
      "A value is trying to be set on a copy of a slice from a DataFrame\n",
      "\n",
      "See the caveats in the documentation: https://pandas.pydata.org/pandas-docs/stable/user_guide/indexing.html#returning-a-view-versus-a-copy\n",
      "  trace[\"task\"][j] = Filter(trace[\"task\"][j]) # FILTEREING THE INDIVIDUAL TRACE INPUT FROM ABOVE\n"
     ]
    },
    {
     "name": "stdout",
     "output_type": "stream",
     "text": [
      "\n",
      "\n",
      "-----------------------------------------------------------------------------------------\n",
      "-----------------------------------NEXT ID OVER HERE-------------------------------------\n",
      "\n",
      "\n",
      "{'activities': 0, 'paths': 80}\n"
     ]
    },
    {
     "name": "stderr",
     "output_type": "stream",
     "text": [
      "C:\\Users\\ashis\\AppData\\Local\\Temp\\ipykernel_20096\\889640330.py:131: SettingWithCopyWarning: \n",
      "A value is trying to be set on a copy of a slice from a DataFrame\n",
      "\n",
      "See the caveats in the documentation: https://pandas.pydata.org/pandas-docs/stable/user_guide/indexing.html#returning-a-view-versus-a-copy\n",
      "  trace[\"task\"][j] = Filter(trace[\"task\"][j]) # FILTEREING THE INDIVIDUAL TRACE INPUT FROM ABOVE\n"
     ]
    },
    {
     "name": "stdout",
     "output_type": "stream",
     "text": [
      "\n",
      "\n",
      "-----------------------------------------------------------------------------------------\n",
      "-----------------------------------NEXT ID OVER HERE-------------------------------------\n",
      "\n",
      "\n",
      "{'activities': 1, 'paths': 80}\n"
     ]
    },
    {
     "name": "stderr",
     "output_type": "stream",
     "text": [
      "C:\\Users\\ashis\\AppData\\Local\\Temp\\ipykernel_20096\\889640330.py:131: SettingWithCopyWarning: \n",
      "A value is trying to be set on a copy of a slice from a DataFrame\n",
      "\n",
      "See the caveats in the documentation: https://pandas.pydata.org/pandas-docs/stable/user_guide/indexing.html#returning-a-view-versus-a-copy\n",
      "  trace[\"task\"][j] = Filter(trace[\"task\"][j]) # FILTEREING THE INDIVIDUAL TRACE INPUT FROM ABOVE\n"
     ]
    },
    {
     "name": "stdout",
     "output_type": "stream",
     "text": [
      "\n",
      "\n",
      "-----------------------------------------------------------------------------------------\n",
      "-----------------------------------NEXT ID OVER HERE-------------------------------------\n",
      "\n",
      "\n",
      "{'activities': 2, 'paths': 80}\n"
     ]
    },
    {
     "name": "stderr",
     "output_type": "stream",
     "text": [
      "C:\\Users\\ashis\\AppData\\Local\\Temp\\ipykernel_20096\\889640330.py:131: SettingWithCopyWarning: \n",
      "A value is trying to be set on a copy of a slice from a DataFrame\n",
      "\n",
      "See the caveats in the documentation: https://pandas.pydata.org/pandas-docs/stable/user_guide/indexing.html#returning-a-view-versus-a-copy\n",
      "  trace[\"task\"][j] = Filter(trace[\"task\"][j]) # FILTEREING THE INDIVIDUAL TRACE INPUT FROM ABOVE\n"
     ]
    },
    {
     "name": "stdout",
     "output_type": "stream",
     "text": [
      "\n",
      "\n",
      "-----------------------------------------------------------------------------------------\n",
      "-----------------------------------NEXT ID OVER HERE-------------------------------------\n",
      "\n",
      "\n",
      "{'activities': 3, 'paths': 80}\n"
     ]
    },
    {
     "name": "stderr",
     "output_type": "stream",
     "text": [
      "C:\\Users\\ashis\\AppData\\Local\\Temp\\ipykernel_20096\\889640330.py:131: SettingWithCopyWarning: \n",
      "A value is trying to be set on a copy of a slice from a DataFrame\n",
      "\n",
      "See the caveats in the documentation: https://pandas.pydata.org/pandas-docs/stable/user_guide/indexing.html#returning-a-view-versus-a-copy\n",
      "  trace[\"task\"][j] = Filter(trace[\"task\"][j]) # FILTEREING THE INDIVIDUAL TRACE INPUT FROM ABOVE\n"
     ]
    },
    {
     "name": "stdout",
     "output_type": "stream",
     "text": [
      "\n",
      "\n",
      "-----------------------------------------------------------------------------------------\n",
      "-----------------------------------NEXT ID OVER HERE-------------------------------------\n",
      "\n",
      "\n",
      "{'activities': 4, 'paths': 80}\n"
     ]
    },
    {
     "name": "stderr",
     "output_type": "stream",
     "text": [
      "C:\\Users\\ashis\\AppData\\Local\\Temp\\ipykernel_20096\\889640330.py:131: SettingWithCopyWarning: \n",
      "A value is trying to be set on a copy of a slice from a DataFrame\n",
      "\n",
      "See the caveats in the documentation: https://pandas.pydata.org/pandas-docs/stable/user_guide/indexing.html#returning-a-view-versus-a-copy\n",
      "  trace[\"task\"][j] = Filter(trace[\"task\"][j]) # FILTEREING THE INDIVIDUAL TRACE INPUT FROM ABOVE\n"
     ]
    },
    {
     "name": "stdout",
     "output_type": "stream",
     "text": [
      "\n",
      "\n",
      "-----------------------------------------------------------------------------------------\n",
      "-----------------------------------NEXT ID OVER HERE-------------------------------------\n",
      "\n",
      "\n",
      "{'activities': 5, 'paths': 80}\n"
     ]
    },
    {
     "name": "stderr",
     "output_type": "stream",
     "text": [
      "C:\\Users\\ashis\\AppData\\Local\\Temp\\ipykernel_20096\\889640330.py:131: SettingWithCopyWarning: \n",
      "A value is trying to be set on a copy of a slice from a DataFrame\n",
      "\n",
      "See the caveats in the documentation: https://pandas.pydata.org/pandas-docs/stable/user_guide/indexing.html#returning-a-view-versus-a-copy\n",
      "  trace[\"task\"][j] = Filter(trace[\"task\"][j]) # FILTEREING THE INDIVIDUAL TRACE INPUT FROM ABOVE\n"
     ]
    },
    {
     "name": "stdout",
     "output_type": "stream",
     "text": [
      "\n",
      "\n",
      "-----------------------------------------------------------------------------------------\n",
      "-----------------------------------NEXT ID OVER HERE-------------------------------------\n",
      "\n",
      "\n",
      "{'activities': 6, 'paths': 80}\n"
     ]
    },
    {
     "name": "stderr",
     "output_type": "stream",
     "text": [
      "C:\\Users\\ashis\\AppData\\Local\\Temp\\ipykernel_20096\\889640330.py:131: SettingWithCopyWarning: \n",
      "A value is trying to be set on a copy of a slice from a DataFrame\n",
      "\n",
      "See the caveats in the documentation: https://pandas.pydata.org/pandas-docs/stable/user_guide/indexing.html#returning-a-view-versus-a-copy\n",
      "  trace[\"task\"][j] = Filter(trace[\"task\"][j]) # FILTEREING THE INDIVIDUAL TRACE INPUT FROM ABOVE\n"
     ]
    },
    {
     "name": "stdout",
     "output_type": "stream",
     "text": [
      "\n",
      "\n",
      "-----------------------------------------------------------------------------------------\n",
      "-----------------------------------NEXT ID OVER HERE-------------------------------------\n",
      "\n",
      "\n",
      "{'activities': 7, 'paths': 80}\n"
     ]
    },
    {
     "name": "stderr",
     "output_type": "stream",
     "text": [
      "C:\\Users\\ashis\\AppData\\Local\\Temp\\ipykernel_20096\\889640330.py:131: SettingWithCopyWarning: \n",
      "A value is trying to be set on a copy of a slice from a DataFrame\n",
      "\n",
      "See the caveats in the documentation: https://pandas.pydata.org/pandas-docs/stable/user_guide/indexing.html#returning-a-view-versus-a-copy\n",
      "  trace[\"task\"][j] = Filter(trace[\"task\"][j]) # FILTEREING THE INDIVIDUAL TRACE INPUT FROM ABOVE\n"
     ]
    },
    {
     "name": "stdout",
     "output_type": "stream",
     "text": [
      "\n",
      "\n",
      "-----------------------------------------------------------------------------------------\n",
      "-----------------------------------NEXT ID OVER HERE-------------------------------------\n",
      "\n",
      "\n",
      "{'activities': 8, 'paths': 80}\n"
     ]
    },
    {
     "name": "stderr",
     "output_type": "stream",
     "text": [
      "C:\\Users\\ashis\\AppData\\Local\\Temp\\ipykernel_20096\\889640330.py:131: SettingWithCopyWarning: \n",
      "A value is trying to be set on a copy of a slice from a DataFrame\n",
      "\n",
      "See the caveats in the documentation: https://pandas.pydata.org/pandas-docs/stable/user_guide/indexing.html#returning-a-view-versus-a-copy\n",
      "  trace[\"task\"][j] = Filter(trace[\"task\"][j]) # FILTEREING THE INDIVIDUAL TRACE INPUT FROM ABOVE\n"
     ]
    },
    {
     "name": "stdout",
     "output_type": "stream",
     "text": [
      "\n",
      "\n",
      "-----------------------------------------------------------------------------------------\n",
      "-----------------------------------NEXT ID OVER HERE-------------------------------------\n",
      "\n",
      "\n",
      "{'activities': 9, 'paths': 80}\n"
     ]
    },
    {
     "name": "stderr",
     "output_type": "stream",
     "text": [
      "C:\\Users\\ashis\\AppData\\Local\\Temp\\ipykernel_20096\\889640330.py:131: SettingWithCopyWarning: \n",
      "A value is trying to be set on a copy of a slice from a DataFrame\n",
      "\n",
      "See the caveats in the documentation: https://pandas.pydata.org/pandas-docs/stable/user_guide/indexing.html#returning-a-view-versus-a-copy\n",
      "  trace[\"task\"][j] = Filter(trace[\"task\"][j]) # FILTEREING THE INDIVIDUAL TRACE INPUT FROM ABOVE\n"
     ]
    },
    {
     "name": "stdout",
     "output_type": "stream",
     "text": [
      "\n",
      "\n",
      "-----------------------------------------------------------------------------------------\n",
      "-----------------------------------NEXT ID OVER HERE-------------------------------------\n",
      "\n",
      "\n",
      "{'activities': 10, 'paths': 80}\n"
     ]
    },
    {
     "name": "stderr",
     "output_type": "stream",
     "text": [
      "C:\\Users\\ashis\\AppData\\Local\\Temp\\ipykernel_20096\\889640330.py:131: SettingWithCopyWarning: \n",
      "A value is trying to be set on a copy of a slice from a DataFrame\n",
      "\n",
      "See the caveats in the documentation: https://pandas.pydata.org/pandas-docs/stable/user_guide/indexing.html#returning-a-view-versus-a-copy\n",
      "  trace[\"task\"][j] = Filter(trace[\"task\"][j]) # FILTEREING THE INDIVIDUAL TRACE INPUT FROM ABOVE\n"
     ]
    },
    {
     "name": "stdout",
     "output_type": "stream",
     "text": [
      "\n",
      "\n",
      "-----------------------------------------------------------------------------------------\n",
      "-----------------------------------NEXT ID OVER HERE-------------------------------------\n",
      "\n",
      "\n",
      "{'activities': 11, 'paths': 80}\n"
     ]
    },
    {
     "name": "stderr",
     "output_type": "stream",
     "text": [
      "C:\\Users\\ashis\\AppData\\Local\\Temp\\ipykernel_20096\\889640330.py:131: SettingWithCopyWarning: \n",
      "A value is trying to be set on a copy of a slice from a DataFrame\n",
      "\n",
      "See the caveats in the documentation: https://pandas.pydata.org/pandas-docs/stable/user_guide/indexing.html#returning-a-view-versus-a-copy\n",
      "  trace[\"task\"][j] = Filter(trace[\"task\"][j]) # FILTEREING THE INDIVIDUAL TRACE INPUT FROM ABOVE\n"
     ]
    },
    {
     "name": "stdout",
     "output_type": "stream",
     "text": [
      "\n",
      "\n",
      "-----------------------------------------------------------------------------------------\n",
      "-----------------------------------NEXT ID OVER HERE-------------------------------------\n",
      "\n",
      "\n",
      "{'activities': 12, 'paths': 80}\n"
     ]
    },
    {
     "name": "stderr",
     "output_type": "stream",
     "text": [
      "C:\\Users\\ashis\\AppData\\Local\\Temp\\ipykernel_20096\\889640330.py:131: SettingWithCopyWarning: \n",
      "A value is trying to be set on a copy of a slice from a DataFrame\n",
      "\n",
      "See the caveats in the documentation: https://pandas.pydata.org/pandas-docs/stable/user_guide/indexing.html#returning-a-view-versus-a-copy\n",
      "  trace[\"task\"][j] = Filter(trace[\"task\"][j]) # FILTEREING THE INDIVIDUAL TRACE INPUT FROM ABOVE\n"
     ]
    },
    {
     "name": "stdout",
     "output_type": "stream",
     "text": [
      "\n",
      "\n",
      "-----------------------------------------------------------------------------------------\n",
      "-----------------------------------NEXT ID OVER HERE-------------------------------------\n",
      "\n",
      "\n",
      "{'activities': 13, 'paths': 80}\n"
     ]
    },
    {
     "name": "stderr",
     "output_type": "stream",
     "text": [
      "C:\\Users\\ashis\\AppData\\Local\\Temp\\ipykernel_20096\\889640330.py:131: SettingWithCopyWarning: \n",
      "A value is trying to be set on a copy of a slice from a DataFrame\n",
      "\n",
      "See the caveats in the documentation: https://pandas.pydata.org/pandas-docs/stable/user_guide/indexing.html#returning-a-view-versus-a-copy\n",
      "  trace[\"task\"][j] = Filter(trace[\"task\"][j]) # FILTEREING THE INDIVIDUAL TRACE INPUT FROM ABOVE\n"
     ]
    },
    {
     "name": "stdout",
     "output_type": "stream",
     "text": [
      "\n",
      "\n",
      "-----------------------------------------------------------------------------------------\n",
      "-----------------------------------NEXT ID OVER HERE-------------------------------------\n",
      "\n",
      "\n",
      "{'activities': 14, 'paths': 80}\n"
     ]
    },
    {
     "name": "stderr",
     "output_type": "stream",
     "text": [
      "C:\\Users\\ashis\\AppData\\Local\\Temp\\ipykernel_20096\\889640330.py:131: SettingWithCopyWarning: \n",
      "A value is trying to be set on a copy of a slice from a DataFrame\n",
      "\n",
      "See the caveats in the documentation: https://pandas.pydata.org/pandas-docs/stable/user_guide/indexing.html#returning-a-view-versus-a-copy\n",
      "  trace[\"task\"][j] = Filter(trace[\"task\"][j]) # FILTEREING THE INDIVIDUAL TRACE INPUT FROM ABOVE\n"
     ]
    },
    {
     "name": "stdout",
     "output_type": "stream",
     "text": [
      "\n",
      "\n",
      "-----------------------------------------------------------------------------------------\n",
      "-----------------------------------NEXT ID OVER HERE-------------------------------------\n",
      "\n",
      "\n",
      "{'activities': 15, 'paths': 80}\n"
     ]
    },
    {
     "name": "stderr",
     "output_type": "stream",
     "text": [
      "C:\\Users\\ashis\\AppData\\Local\\Temp\\ipykernel_20096\\889640330.py:131: SettingWithCopyWarning: \n",
      "A value is trying to be set on a copy of a slice from a DataFrame\n",
      "\n",
      "See the caveats in the documentation: https://pandas.pydata.org/pandas-docs/stable/user_guide/indexing.html#returning-a-view-versus-a-copy\n",
      "  trace[\"task\"][j] = Filter(trace[\"task\"][j]) # FILTEREING THE INDIVIDUAL TRACE INPUT FROM ABOVE\n"
     ]
    },
    {
     "name": "stdout",
     "output_type": "stream",
     "text": [
      "\n",
      "\n",
      "-----------------------------------------------------------------------------------------\n",
      "-----------------------------------NEXT ID OVER HERE-------------------------------------\n",
      "\n",
      "\n",
      "{'activities': 16, 'paths': 80}\n"
     ]
    },
    {
     "name": "stderr",
     "output_type": "stream",
     "text": [
      "C:\\Users\\ashis\\AppData\\Local\\Temp\\ipykernel_20096\\889640330.py:131: SettingWithCopyWarning: \n",
      "A value is trying to be set on a copy of a slice from a DataFrame\n",
      "\n",
      "See the caveats in the documentation: https://pandas.pydata.org/pandas-docs/stable/user_guide/indexing.html#returning-a-view-versus-a-copy\n",
      "  trace[\"task\"][j] = Filter(trace[\"task\"][j]) # FILTEREING THE INDIVIDUAL TRACE INPUT FROM ABOVE\n"
     ]
    },
    {
     "name": "stdout",
     "output_type": "stream",
     "text": [
      "\n",
      "\n",
      "-----------------------------------------------------------------------------------------\n",
      "-----------------------------------NEXT ID OVER HERE-------------------------------------\n",
      "\n",
      "\n",
      "{'activities': 17, 'paths': 80}\n"
     ]
    },
    {
     "name": "stderr",
     "output_type": "stream",
     "text": [
      "C:\\Users\\ashis\\AppData\\Local\\Temp\\ipykernel_20096\\889640330.py:131: SettingWithCopyWarning: \n",
      "A value is trying to be set on a copy of a slice from a DataFrame\n",
      "\n",
      "See the caveats in the documentation: https://pandas.pydata.org/pandas-docs/stable/user_guide/indexing.html#returning-a-view-versus-a-copy\n",
      "  trace[\"task\"][j] = Filter(trace[\"task\"][j]) # FILTEREING THE INDIVIDUAL TRACE INPUT FROM ABOVE\n"
     ]
    },
    {
     "name": "stdout",
     "output_type": "stream",
     "text": [
      "\n",
      "\n",
      "-----------------------------------------------------------------------------------------\n",
      "-----------------------------------NEXT ID OVER HERE-------------------------------------\n",
      "\n",
      "\n",
      "{'activities': 18, 'paths': 80}\n"
     ]
    },
    {
     "name": "stderr",
     "output_type": "stream",
     "text": [
      "C:\\Users\\ashis\\AppData\\Local\\Temp\\ipykernel_20096\\889640330.py:131: SettingWithCopyWarning: \n",
      "A value is trying to be set on a copy of a slice from a DataFrame\n",
      "\n",
      "See the caveats in the documentation: https://pandas.pydata.org/pandas-docs/stable/user_guide/indexing.html#returning-a-view-versus-a-copy\n",
      "  trace[\"task\"][j] = Filter(trace[\"task\"][j]) # FILTEREING THE INDIVIDUAL TRACE INPUT FROM ABOVE\n"
     ]
    },
    {
     "name": "stdout",
     "output_type": "stream",
     "text": [
      "\n",
      "\n",
      "-----------------------------------------------------------------------------------------\n",
      "-----------------------------------NEXT ID OVER HERE-------------------------------------\n",
      "\n",
      "\n",
      "{'activities': 19, 'paths': 80}\n"
     ]
    },
    {
     "name": "stderr",
     "output_type": "stream",
     "text": [
      "C:\\Users\\ashis\\AppData\\Local\\Temp\\ipykernel_20096\\889640330.py:131: SettingWithCopyWarning: \n",
      "A value is trying to be set on a copy of a slice from a DataFrame\n",
      "\n",
      "See the caveats in the documentation: https://pandas.pydata.org/pandas-docs/stable/user_guide/indexing.html#returning-a-view-versus-a-copy\n",
      "  trace[\"task\"][j] = Filter(trace[\"task\"][j]) # FILTEREING THE INDIVIDUAL TRACE INPUT FROM ABOVE\n"
     ]
    },
    {
     "name": "stdout",
     "output_type": "stream",
     "text": [
      "\n",
      "\n",
      "-----------------------------------------------------------------------------------------\n",
      "-----------------------------------NEXT ID OVER HERE-------------------------------------\n",
      "\n",
      "\n",
      "{'activities': 0, 'paths': 100}\n"
     ]
    },
    {
     "name": "stderr",
     "output_type": "stream",
     "text": [
      "C:\\Users\\ashis\\AppData\\Local\\Temp\\ipykernel_20096\\889640330.py:131: SettingWithCopyWarning: \n",
      "A value is trying to be set on a copy of a slice from a DataFrame\n",
      "\n",
      "See the caveats in the documentation: https://pandas.pydata.org/pandas-docs/stable/user_guide/indexing.html#returning-a-view-versus-a-copy\n",
      "  trace[\"task\"][j] = Filter(trace[\"task\"][j]) # FILTEREING THE INDIVIDUAL TRACE INPUT FROM ABOVE\n"
     ]
    },
    {
     "name": "stdout",
     "output_type": "stream",
     "text": [
      "\n",
      "\n",
      "-----------------------------------------------------------------------------------------\n",
      "-----------------------------------NEXT ID OVER HERE-------------------------------------\n",
      "\n",
      "\n",
      "{'activities': 1, 'paths': 100}\n"
     ]
    },
    {
     "name": "stderr",
     "output_type": "stream",
     "text": [
      "C:\\Users\\ashis\\AppData\\Local\\Temp\\ipykernel_20096\\889640330.py:131: SettingWithCopyWarning: \n",
      "A value is trying to be set on a copy of a slice from a DataFrame\n",
      "\n",
      "See the caveats in the documentation: https://pandas.pydata.org/pandas-docs/stable/user_guide/indexing.html#returning-a-view-versus-a-copy\n",
      "  trace[\"task\"][j] = Filter(trace[\"task\"][j]) # FILTEREING THE INDIVIDUAL TRACE INPUT FROM ABOVE\n"
     ]
    },
    {
     "name": "stdout",
     "output_type": "stream",
     "text": [
      "\n",
      "\n",
      "-----------------------------------------------------------------------------------------\n",
      "-----------------------------------NEXT ID OVER HERE-------------------------------------\n",
      "\n",
      "\n",
      "{'activities': 2, 'paths': 100}\n"
     ]
    },
    {
     "name": "stderr",
     "output_type": "stream",
     "text": [
      "C:\\Users\\ashis\\AppData\\Local\\Temp\\ipykernel_20096\\889640330.py:131: SettingWithCopyWarning: \n",
      "A value is trying to be set on a copy of a slice from a DataFrame\n",
      "\n",
      "See the caveats in the documentation: https://pandas.pydata.org/pandas-docs/stable/user_guide/indexing.html#returning-a-view-versus-a-copy\n",
      "  trace[\"task\"][j] = Filter(trace[\"task\"][j]) # FILTEREING THE INDIVIDUAL TRACE INPUT FROM ABOVE\n"
     ]
    },
    {
     "name": "stdout",
     "output_type": "stream",
     "text": [
      "\n",
      "\n",
      "-----------------------------------------------------------------------------------------\n",
      "-----------------------------------NEXT ID OVER HERE-------------------------------------\n",
      "\n",
      "\n",
      "{'activities': 3, 'paths': 100}\n"
     ]
    },
    {
     "name": "stderr",
     "output_type": "stream",
     "text": [
      "C:\\Users\\ashis\\AppData\\Local\\Temp\\ipykernel_20096\\889640330.py:131: SettingWithCopyWarning: \n",
      "A value is trying to be set on a copy of a slice from a DataFrame\n",
      "\n",
      "See the caveats in the documentation: https://pandas.pydata.org/pandas-docs/stable/user_guide/indexing.html#returning-a-view-versus-a-copy\n",
      "  trace[\"task\"][j] = Filter(trace[\"task\"][j]) # FILTEREING THE INDIVIDUAL TRACE INPUT FROM ABOVE\n"
     ]
    },
    {
     "name": "stdout",
     "output_type": "stream",
     "text": [
      "\n",
      "\n",
      "-----------------------------------------------------------------------------------------\n",
      "-----------------------------------NEXT ID OVER HERE-------------------------------------\n",
      "\n",
      "\n",
      "{'activities': 4, 'paths': 100}\n"
     ]
    },
    {
     "name": "stderr",
     "output_type": "stream",
     "text": [
      "C:\\Users\\ashis\\AppData\\Local\\Temp\\ipykernel_20096\\889640330.py:131: SettingWithCopyWarning: \n",
      "A value is trying to be set on a copy of a slice from a DataFrame\n",
      "\n",
      "See the caveats in the documentation: https://pandas.pydata.org/pandas-docs/stable/user_guide/indexing.html#returning-a-view-versus-a-copy\n",
      "  trace[\"task\"][j] = Filter(trace[\"task\"][j]) # FILTEREING THE INDIVIDUAL TRACE INPUT FROM ABOVE\n"
     ]
    },
    {
     "name": "stdout",
     "output_type": "stream",
     "text": [
      "\n",
      "\n",
      "-----------------------------------------------------------------------------------------\n",
      "-----------------------------------NEXT ID OVER HERE-------------------------------------\n",
      "\n",
      "\n",
      "{'activities': 5, 'paths': 100}\n"
     ]
    },
    {
     "name": "stderr",
     "output_type": "stream",
     "text": [
      "C:\\Users\\ashis\\AppData\\Local\\Temp\\ipykernel_20096\\889640330.py:131: SettingWithCopyWarning: \n",
      "A value is trying to be set on a copy of a slice from a DataFrame\n",
      "\n",
      "See the caveats in the documentation: https://pandas.pydata.org/pandas-docs/stable/user_guide/indexing.html#returning-a-view-versus-a-copy\n",
      "  trace[\"task\"][j] = Filter(trace[\"task\"][j]) # FILTEREING THE INDIVIDUAL TRACE INPUT FROM ABOVE\n"
     ]
    },
    {
     "name": "stdout",
     "output_type": "stream",
     "text": [
      "\n",
      "\n",
      "-----------------------------------------------------------------------------------------\n",
      "-----------------------------------NEXT ID OVER HERE-------------------------------------\n",
      "\n",
      "\n",
      "{'activities': 6, 'paths': 100}\n"
     ]
    },
    {
     "name": "stderr",
     "output_type": "stream",
     "text": [
      "C:\\Users\\ashis\\AppData\\Local\\Temp\\ipykernel_20096\\889640330.py:131: SettingWithCopyWarning: \n",
      "A value is trying to be set on a copy of a slice from a DataFrame\n",
      "\n",
      "See the caveats in the documentation: https://pandas.pydata.org/pandas-docs/stable/user_guide/indexing.html#returning-a-view-versus-a-copy\n",
      "  trace[\"task\"][j] = Filter(trace[\"task\"][j]) # FILTEREING THE INDIVIDUAL TRACE INPUT FROM ABOVE\n"
     ]
    },
    {
     "name": "stdout",
     "output_type": "stream",
     "text": [
      "\n",
      "\n",
      "-----------------------------------------------------------------------------------------\n",
      "-----------------------------------NEXT ID OVER HERE-------------------------------------\n",
      "\n",
      "\n",
      "{'activities': 7, 'paths': 100}\n"
     ]
    },
    {
     "name": "stderr",
     "output_type": "stream",
     "text": [
      "C:\\Users\\ashis\\AppData\\Local\\Temp\\ipykernel_20096\\889640330.py:131: SettingWithCopyWarning: \n",
      "A value is trying to be set on a copy of a slice from a DataFrame\n",
      "\n",
      "See the caveats in the documentation: https://pandas.pydata.org/pandas-docs/stable/user_guide/indexing.html#returning-a-view-versus-a-copy\n",
      "  trace[\"task\"][j] = Filter(trace[\"task\"][j]) # FILTEREING THE INDIVIDUAL TRACE INPUT FROM ABOVE\n"
     ]
    },
    {
     "name": "stdout",
     "output_type": "stream",
     "text": [
      "\n",
      "\n",
      "-----------------------------------------------------------------------------------------\n",
      "-----------------------------------NEXT ID OVER HERE-------------------------------------\n",
      "\n",
      "\n",
      "{'activities': 8, 'paths': 100}\n"
     ]
    },
    {
     "name": "stderr",
     "output_type": "stream",
     "text": [
      "C:\\Users\\ashis\\AppData\\Local\\Temp\\ipykernel_20096\\889640330.py:131: SettingWithCopyWarning: \n",
      "A value is trying to be set on a copy of a slice from a DataFrame\n",
      "\n",
      "See the caveats in the documentation: https://pandas.pydata.org/pandas-docs/stable/user_guide/indexing.html#returning-a-view-versus-a-copy\n",
      "  trace[\"task\"][j] = Filter(trace[\"task\"][j]) # FILTEREING THE INDIVIDUAL TRACE INPUT FROM ABOVE\n"
     ]
    },
    {
     "name": "stdout",
     "output_type": "stream",
     "text": [
      "\n",
      "\n",
      "-----------------------------------------------------------------------------------------\n",
      "-----------------------------------NEXT ID OVER HERE-------------------------------------\n",
      "\n",
      "\n",
      "{'activities': 9, 'paths': 100}\n"
     ]
    },
    {
     "name": "stderr",
     "output_type": "stream",
     "text": [
      "C:\\Users\\ashis\\AppData\\Local\\Temp\\ipykernel_20096\\889640330.py:131: SettingWithCopyWarning: \n",
      "A value is trying to be set on a copy of a slice from a DataFrame\n",
      "\n",
      "See the caveats in the documentation: https://pandas.pydata.org/pandas-docs/stable/user_guide/indexing.html#returning-a-view-versus-a-copy\n",
      "  trace[\"task\"][j] = Filter(trace[\"task\"][j]) # FILTEREING THE INDIVIDUAL TRACE INPUT FROM ABOVE\n"
     ]
    },
    {
     "name": "stdout",
     "output_type": "stream",
     "text": [
      "\n",
      "\n",
      "-----------------------------------------------------------------------------------------\n",
      "-----------------------------------NEXT ID OVER HERE-------------------------------------\n",
      "\n",
      "\n",
      "{'activities': 10, 'paths': 100}\n"
     ]
    },
    {
     "name": "stderr",
     "output_type": "stream",
     "text": [
      "C:\\Users\\ashis\\AppData\\Local\\Temp\\ipykernel_20096\\889640330.py:131: SettingWithCopyWarning: \n",
      "A value is trying to be set on a copy of a slice from a DataFrame\n",
      "\n",
      "See the caveats in the documentation: https://pandas.pydata.org/pandas-docs/stable/user_guide/indexing.html#returning-a-view-versus-a-copy\n",
      "  trace[\"task\"][j] = Filter(trace[\"task\"][j]) # FILTEREING THE INDIVIDUAL TRACE INPUT FROM ABOVE\n"
     ]
    },
    {
     "name": "stdout",
     "output_type": "stream",
     "text": [
      "\n",
      "\n",
      "-----------------------------------------------------------------------------------------\n",
      "-----------------------------------NEXT ID OVER HERE-------------------------------------\n",
      "\n",
      "\n",
      "{'activities': 11, 'paths': 100}\n"
     ]
    },
    {
     "name": "stderr",
     "output_type": "stream",
     "text": [
      "C:\\Users\\ashis\\AppData\\Local\\Temp\\ipykernel_20096\\889640330.py:131: SettingWithCopyWarning: \n",
      "A value is trying to be set on a copy of a slice from a DataFrame\n",
      "\n",
      "See the caveats in the documentation: https://pandas.pydata.org/pandas-docs/stable/user_guide/indexing.html#returning-a-view-versus-a-copy\n",
      "  trace[\"task\"][j] = Filter(trace[\"task\"][j]) # FILTEREING THE INDIVIDUAL TRACE INPUT FROM ABOVE\n"
     ]
    },
    {
     "name": "stdout",
     "output_type": "stream",
     "text": [
      "\n",
      "\n",
      "-----------------------------------------------------------------------------------------\n",
      "-----------------------------------NEXT ID OVER HERE-------------------------------------\n",
      "\n",
      "\n",
      "{'activities': 12, 'paths': 100}\n"
     ]
    },
    {
     "name": "stderr",
     "output_type": "stream",
     "text": [
      "C:\\Users\\ashis\\AppData\\Local\\Temp\\ipykernel_20096\\889640330.py:131: SettingWithCopyWarning: \n",
      "A value is trying to be set on a copy of a slice from a DataFrame\n",
      "\n",
      "See the caveats in the documentation: https://pandas.pydata.org/pandas-docs/stable/user_guide/indexing.html#returning-a-view-versus-a-copy\n",
      "  trace[\"task\"][j] = Filter(trace[\"task\"][j]) # FILTEREING THE INDIVIDUAL TRACE INPUT FROM ABOVE\n"
     ]
    },
    {
     "name": "stdout",
     "output_type": "stream",
     "text": [
      "\n",
      "\n",
      "-----------------------------------------------------------------------------------------\n",
      "-----------------------------------NEXT ID OVER HERE-------------------------------------\n",
      "\n",
      "\n",
      "{'activities': 13, 'paths': 100}\n"
     ]
    },
    {
     "name": "stderr",
     "output_type": "stream",
     "text": [
      "C:\\Users\\ashis\\AppData\\Local\\Temp\\ipykernel_20096\\889640330.py:131: SettingWithCopyWarning: \n",
      "A value is trying to be set on a copy of a slice from a DataFrame\n",
      "\n",
      "See the caveats in the documentation: https://pandas.pydata.org/pandas-docs/stable/user_guide/indexing.html#returning-a-view-versus-a-copy\n",
      "  trace[\"task\"][j] = Filter(trace[\"task\"][j]) # FILTEREING THE INDIVIDUAL TRACE INPUT FROM ABOVE\n"
     ]
    },
    {
     "name": "stdout",
     "output_type": "stream",
     "text": [
      "\n",
      "\n",
      "-----------------------------------------------------------------------------------------\n",
      "-----------------------------------NEXT ID OVER HERE-------------------------------------\n",
      "\n",
      "\n",
      "{'activities': 14, 'paths': 100}\n"
     ]
    },
    {
     "name": "stderr",
     "output_type": "stream",
     "text": [
      "C:\\Users\\ashis\\AppData\\Local\\Temp\\ipykernel_20096\\889640330.py:131: SettingWithCopyWarning: \n",
      "A value is trying to be set on a copy of a slice from a DataFrame\n",
      "\n",
      "See the caveats in the documentation: https://pandas.pydata.org/pandas-docs/stable/user_guide/indexing.html#returning-a-view-versus-a-copy\n",
      "  trace[\"task\"][j] = Filter(trace[\"task\"][j]) # FILTEREING THE INDIVIDUAL TRACE INPUT FROM ABOVE\n"
     ]
    },
    {
     "name": "stdout",
     "output_type": "stream",
     "text": [
      "\n",
      "\n",
      "-----------------------------------------------------------------------------------------\n",
      "-----------------------------------NEXT ID OVER HERE-------------------------------------\n",
      "\n",
      "\n",
      "{'activities': 15, 'paths': 100}\n"
     ]
    },
    {
     "name": "stderr",
     "output_type": "stream",
     "text": [
      "C:\\Users\\ashis\\AppData\\Local\\Temp\\ipykernel_20096\\889640330.py:131: SettingWithCopyWarning: \n",
      "A value is trying to be set on a copy of a slice from a DataFrame\n",
      "\n",
      "See the caveats in the documentation: https://pandas.pydata.org/pandas-docs/stable/user_guide/indexing.html#returning-a-view-versus-a-copy\n",
      "  trace[\"task\"][j] = Filter(trace[\"task\"][j]) # FILTEREING THE INDIVIDUAL TRACE INPUT FROM ABOVE\n"
     ]
    },
    {
     "name": "stdout",
     "output_type": "stream",
     "text": [
      "\n",
      "\n",
      "-----------------------------------------------------------------------------------------\n",
      "-----------------------------------NEXT ID OVER HERE-------------------------------------\n",
      "\n",
      "\n",
      "{'activities': 16, 'paths': 100}\n"
     ]
    },
    {
     "name": "stderr",
     "output_type": "stream",
     "text": [
      "C:\\Users\\ashis\\AppData\\Local\\Temp\\ipykernel_20096\\889640330.py:131: SettingWithCopyWarning: \n",
      "A value is trying to be set on a copy of a slice from a DataFrame\n",
      "\n",
      "See the caveats in the documentation: https://pandas.pydata.org/pandas-docs/stable/user_guide/indexing.html#returning-a-view-versus-a-copy\n",
      "  trace[\"task\"][j] = Filter(trace[\"task\"][j]) # FILTEREING THE INDIVIDUAL TRACE INPUT FROM ABOVE\n"
     ]
    },
    {
     "name": "stdout",
     "output_type": "stream",
     "text": [
      "\n",
      "\n",
      "-----------------------------------------------------------------------------------------\n",
      "-----------------------------------NEXT ID OVER HERE-------------------------------------\n",
      "\n",
      "\n",
      "{'activities': 17, 'paths': 100}\n"
     ]
    },
    {
     "name": "stderr",
     "output_type": "stream",
     "text": [
      "C:\\Users\\ashis\\AppData\\Local\\Temp\\ipykernel_20096\\889640330.py:131: SettingWithCopyWarning: \n",
      "A value is trying to be set on a copy of a slice from a DataFrame\n",
      "\n",
      "See the caveats in the documentation: https://pandas.pydata.org/pandas-docs/stable/user_guide/indexing.html#returning-a-view-versus-a-copy\n",
      "  trace[\"task\"][j] = Filter(trace[\"task\"][j]) # FILTEREING THE INDIVIDUAL TRACE INPUT FROM ABOVE\n"
     ]
    },
    {
     "name": "stdout",
     "output_type": "stream",
     "text": [
      "\n",
      "\n",
      "-----------------------------------------------------------------------------------------\n",
      "-----------------------------------NEXT ID OVER HERE-------------------------------------\n",
      "\n",
      "\n",
      "{'activities': 18, 'paths': 100}\n"
     ]
    },
    {
     "name": "stderr",
     "output_type": "stream",
     "text": [
      "C:\\Users\\ashis\\AppData\\Local\\Temp\\ipykernel_20096\\889640330.py:131: SettingWithCopyWarning: \n",
      "A value is trying to be set on a copy of a slice from a DataFrame\n",
      "\n",
      "See the caveats in the documentation: https://pandas.pydata.org/pandas-docs/stable/user_guide/indexing.html#returning-a-view-versus-a-copy\n",
      "  trace[\"task\"][j] = Filter(trace[\"task\"][j]) # FILTEREING THE INDIVIDUAL TRACE INPUT FROM ABOVE\n"
     ]
    },
    {
     "name": "stdout",
     "output_type": "stream",
     "text": [
      "\n",
      "\n",
      "-----------------------------------------------------------------------------------------\n",
      "-----------------------------------NEXT ID OVER HERE-------------------------------------\n",
      "\n",
      "\n",
      "{'activities': 19, 'paths': 100}\n"
     ]
    },
    {
     "name": "stderr",
     "output_type": "stream",
     "text": [
      "C:\\Users\\ashis\\AppData\\Local\\Temp\\ipykernel_20096\\889640330.py:131: SettingWithCopyWarning: \n",
      "A value is trying to be set on a copy of a slice from a DataFrame\n",
      "\n",
      "See the caveats in the documentation: https://pandas.pydata.org/pandas-docs/stable/user_guide/indexing.html#returning-a-view-versus-a-copy\n",
      "  trace[\"task\"][j] = Filter(trace[\"task\"][j]) # FILTEREING THE INDIVIDUAL TRACE INPUT FROM ABOVE\n"
     ]
    },
    {
     "name": "stdout",
     "output_type": "stream",
     "text": [
      "\n",
      "\n",
      "-----------------------------------------------------------------------------------------\n",
      "-----------------------------------NEXT ID OVER HERE-------------------------------------\n",
      "\n",
      "\n"
     ]
    },
    {
     "name": "stderr",
     "output_type": "stream",
     "text": [
      "C:\\Users\\ashis\\AppData\\Local\\Temp\\ipykernel_20096\\889640330.py:233: FutureWarning: Passing 'suffixes' which cause duplicate columns {'Fitness_x'} in the result is deprecated and will raise a MergeError in a future version.\n",
      "  ACT_FULL = ACT_FULL.merge(res_SA3, on='Path_Rate', how='right')\n",
      "C:\\Users\\ashis\\AppData\\Local\\Temp\\ipykernel_20096\\889640330.py:235: FutureWarning: Passing 'suffixes' which cause duplicate columns {'Fitness_x'} in the result is deprecated and will raise a MergeError in a future version.\n",
      "  ACT_FULL = ACT_FULL.merge(res_SA5, on='Path_Rate', how='right')\n"
     ]
    },
    {
     "data": {
      "text/html": [
       "<div>\n",
       "<style scoped>\n",
       "    .dataframe tbody tr th:only-of-type {\n",
       "        vertical-align: middle;\n",
       "    }\n",
       "\n",
       "    .dataframe tbody tr th {\n",
       "        vertical-align: top;\n",
       "    }\n",
       "\n",
       "    .dataframe thead th {\n",
       "        text-align: right;\n",
       "    }\n",
       "</style>\n",
       "<table border=\"1\" class=\"dataframe\">\n",
       "  <thead>\n",
       "    <tr style=\"text-align: right;\">\n",
       "      <th></th>\n",
       "      <th>Activity_Rate</th>\n",
       "      <th>Path = 5</th>\n",
       "      <th>Path = 20</th>\n",
       "      <th>Path = 40</th>\n",
       "      <th>Path = 60</th>\n",
       "      <th>Path = 80</th>\n",
       "      <th>Path = 100</th>\n",
       "    </tr>\n",
       "  </thead>\n",
       "  <tbody>\n",
       "    <tr>\n",
       "      <th>0</th>\n",
       "      <td>0</td>\n",
       "      <td>0.000000</td>\n",
       "      <td>0.000000</td>\n",
       "      <td>0.000000</td>\n",
       "      <td>0.000000</td>\n",
       "      <td>0.000000</td>\n",
       "      <td>0.000000</td>\n",
       "    </tr>\n",
       "    <tr>\n",
       "      <th>1</th>\n",
       "      <td>1</td>\n",
       "      <td>0.000000</td>\n",
       "      <td>0.000000</td>\n",
       "      <td>0.000000</td>\n",
       "      <td>0.000000</td>\n",
       "      <td>0.000000</td>\n",
       "      <td>0.000000</td>\n",
       "    </tr>\n",
       "    <tr>\n",
       "      <th>2</th>\n",
       "      <td>2</td>\n",
       "      <td>0.000000</td>\n",
       "      <td>0.000000</td>\n",
       "      <td>0.000000</td>\n",
       "      <td>0.000000</td>\n",
       "      <td>0.000000</td>\n",
       "      <td>0.000000</td>\n",
       "    </tr>\n",
       "    <tr>\n",
       "      <th>3</th>\n",
       "      <td>3</td>\n",
       "      <td>0.000000</td>\n",
       "      <td>0.000000</td>\n",
       "      <td>0.000000</td>\n",
       "      <td>0.000000</td>\n",
       "      <td>0.000000</td>\n",
       "      <td>0.000000</td>\n",
       "    </tr>\n",
       "    <tr>\n",
       "      <th>4</th>\n",
       "      <td>4</td>\n",
       "      <td>1.102941</td>\n",
       "      <td>1.102941</td>\n",
       "      <td>1.102941</td>\n",
       "      <td>1.102941</td>\n",
       "      <td>1.102941</td>\n",
       "      <td>1.470588</td>\n",
       "    </tr>\n",
       "    <tr>\n",
       "      <th>5</th>\n",
       "      <td>5</td>\n",
       "      <td>1.102941</td>\n",
       "      <td>1.102941</td>\n",
       "      <td>1.102941</td>\n",
       "      <td>1.102941</td>\n",
       "      <td>1.102941</td>\n",
       "      <td>1.470588</td>\n",
       "    </tr>\n",
       "    <tr>\n",
       "      <th>6</th>\n",
       "      <td>6</td>\n",
       "      <td>1.102941</td>\n",
       "      <td>1.102941</td>\n",
       "      <td>1.102941</td>\n",
       "      <td>1.102941</td>\n",
       "      <td>1.102941</td>\n",
       "      <td>1.470588</td>\n",
       "    </tr>\n",
       "    <tr>\n",
       "      <th>7</th>\n",
       "      <td>7</td>\n",
       "      <td>1.102941</td>\n",
       "      <td>1.102941</td>\n",
       "      <td>1.102941</td>\n",
       "      <td>1.102941</td>\n",
       "      <td>1.102941</td>\n",
       "      <td>1.470588</td>\n",
       "    </tr>\n",
       "    <tr>\n",
       "      <th>8</th>\n",
       "      <td>8</td>\n",
       "      <td>1.102941</td>\n",
       "      <td>1.102941</td>\n",
       "      <td>1.102941</td>\n",
       "      <td>1.102941</td>\n",
       "      <td>1.102941</td>\n",
       "      <td>1.470588</td>\n",
       "    </tr>\n",
       "    <tr>\n",
       "      <th>9</th>\n",
       "      <td>9</td>\n",
       "      <td>1.102941</td>\n",
       "      <td>1.102941</td>\n",
       "      <td>1.102941</td>\n",
       "      <td>1.102941</td>\n",
       "      <td>1.102941</td>\n",
       "      <td>1.470588</td>\n",
       "    </tr>\n",
       "    <tr>\n",
       "      <th>10</th>\n",
       "      <td>10</td>\n",
       "      <td>1.102941</td>\n",
       "      <td>1.102941</td>\n",
       "      <td>1.102941</td>\n",
       "      <td>1.102941</td>\n",
       "      <td>1.102941</td>\n",
       "      <td>1.470588</td>\n",
       "    </tr>\n",
       "    <tr>\n",
       "      <th>11</th>\n",
       "      <td>11</td>\n",
       "      <td>1.102941</td>\n",
       "      <td>1.102941</td>\n",
       "      <td>1.102941</td>\n",
       "      <td>1.102941</td>\n",
       "      <td>1.102941</td>\n",
       "      <td>1.470588</td>\n",
       "    </tr>\n",
       "    <tr>\n",
       "      <th>12</th>\n",
       "      <td>12</td>\n",
       "      <td>1.102941</td>\n",
       "      <td>1.102941</td>\n",
       "      <td>1.102941</td>\n",
       "      <td>1.102941</td>\n",
       "      <td>1.102941</td>\n",
       "      <td>1.470588</td>\n",
       "    </tr>\n",
       "    <tr>\n",
       "      <th>13</th>\n",
       "      <td>13</td>\n",
       "      <td>1.102941</td>\n",
       "      <td>1.102941</td>\n",
       "      <td>1.102941</td>\n",
       "      <td>1.102941</td>\n",
       "      <td>1.102941</td>\n",
       "      <td>1.470588</td>\n",
       "    </tr>\n",
       "    <tr>\n",
       "      <th>14</th>\n",
       "      <td>14</td>\n",
       "      <td>1.470588</td>\n",
       "      <td>1.470588</td>\n",
       "      <td>2.573529</td>\n",
       "      <td>3.676471</td>\n",
       "      <td>4.044118</td>\n",
       "      <td>5.514706</td>\n",
       "    </tr>\n",
       "    <tr>\n",
       "      <th>15</th>\n",
       "      <td>15</td>\n",
       "      <td>1.470588</td>\n",
       "      <td>1.470588</td>\n",
       "      <td>2.573529</td>\n",
       "      <td>3.676471</td>\n",
       "      <td>4.044118</td>\n",
       "      <td>5.514706</td>\n",
       "    </tr>\n",
       "    <tr>\n",
       "      <th>16</th>\n",
       "      <td>16</td>\n",
       "      <td>1.470588</td>\n",
       "      <td>1.470588</td>\n",
       "      <td>2.573529</td>\n",
       "      <td>3.676471</td>\n",
       "      <td>4.044118</td>\n",
       "      <td>5.514706</td>\n",
       "    </tr>\n",
       "    <tr>\n",
       "      <th>17</th>\n",
       "      <td>17</td>\n",
       "      <td>1.470588</td>\n",
       "      <td>1.470588</td>\n",
       "      <td>2.573529</td>\n",
       "      <td>3.676471</td>\n",
       "      <td>4.044118</td>\n",
       "      <td>5.514706</td>\n",
       "    </tr>\n",
       "    <tr>\n",
       "      <th>18</th>\n",
       "      <td>18</td>\n",
       "      <td>2.573529</td>\n",
       "      <td>3.308824</td>\n",
       "      <td>4.779412</td>\n",
       "      <td>8.088235</td>\n",
       "      <td>10.661765</td>\n",
       "      <td>19.117647</td>\n",
       "    </tr>\n",
       "    <tr>\n",
       "      <th>19</th>\n",
       "      <td>19</td>\n",
       "      <td>2.573529</td>\n",
       "      <td>3.308824</td>\n",
       "      <td>4.779412</td>\n",
       "      <td>8.088235</td>\n",
       "      <td>10.661765</td>\n",
       "      <td>19.117647</td>\n",
       "    </tr>\n",
       "  </tbody>\n",
       "</table>\n",
       "</div>"
      ],
      "text/plain": [
       "    Activity_Rate  Path = 5  Path = 20  Path = 40  Path = 60  Path = 80  \\\n",
       "0               0  0.000000   0.000000   0.000000   0.000000   0.000000   \n",
       "1               1  0.000000   0.000000   0.000000   0.000000   0.000000   \n",
       "2               2  0.000000   0.000000   0.000000   0.000000   0.000000   \n",
       "3               3  0.000000   0.000000   0.000000   0.000000   0.000000   \n",
       "4               4  1.102941   1.102941   1.102941   1.102941   1.102941   \n",
       "5               5  1.102941   1.102941   1.102941   1.102941   1.102941   \n",
       "6               6  1.102941   1.102941   1.102941   1.102941   1.102941   \n",
       "7               7  1.102941   1.102941   1.102941   1.102941   1.102941   \n",
       "8               8  1.102941   1.102941   1.102941   1.102941   1.102941   \n",
       "9               9  1.102941   1.102941   1.102941   1.102941   1.102941   \n",
       "10             10  1.102941   1.102941   1.102941   1.102941   1.102941   \n",
       "11             11  1.102941   1.102941   1.102941   1.102941   1.102941   \n",
       "12             12  1.102941   1.102941   1.102941   1.102941   1.102941   \n",
       "13             13  1.102941   1.102941   1.102941   1.102941   1.102941   \n",
       "14             14  1.470588   1.470588   2.573529   3.676471   4.044118   \n",
       "15             15  1.470588   1.470588   2.573529   3.676471   4.044118   \n",
       "16             16  1.470588   1.470588   2.573529   3.676471   4.044118   \n",
       "17             17  1.470588   1.470588   2.573529   3.676471   4.044118   \n",
       "18             18  2.573529   3.308824   4.779412   8.088235  10.661765   \n",
       "19             19  2.573529   3.308824   4.779412   8.088235  10.661765   \n",
       "\n",
       "    Path = 100  \n",
       "0     0.000000  \n",
       "1     0.000000  \n",
       "2     0.000000  \n",
       "3     0.000000  \n",
       "4     1.470588  \n",
       "5     1.470588  \n",
       "6     1.470588  \n",
       "7     1.470588  \n",
       "8     1.470588  \n",
       "9     1.470588  \n",
       "10    1.470588  \n",
       "11    1.470588  \n",
       "12    1.470588  \n",
       "13    1.470588  \n",
       "14    5.514706  \n",
       "15    5.514706  \n",
       "16    5.514706  \n",
       "17    5.514706  \n",
       "18   19.117647  \n",
       "19   19.117647  "
      ]
     },
     "execution_count": 11,
     "metadata": {},
     "output_type": "execute_result"
    }
   ],
   "source": [
    "Act = [] # Stores the ACT Figure\n",
    "Fit = [] # Stores the State of Fitting 1 or 0 \n",
    "\n",
    "\n",
    "\n",
    "PATH_THRES = [5,20,40,60,80,100]\n",
    "\n",
    "\n",
    "for outer_j in trange(len(PATH_THRES)):\n",
    "    \n",
    "    Act = [] # Stores the ACT Figure\n",
    "    Fit = [] # Stores the State of Fitting 1 or 0 \n",
    "\n",
    "    INDI_FIT = []\n",
    "    fitter = 0\n",
    "    \n",
    "    \n",
    "    THE_FATHERLOAD = []\n",
    "    \n",
    "    COV_COV = 0\n",
    "    ID = []\n",
    "    LOG_LEN = []\n",
    "    MAP_LEN = []\n",
    "    FIT_STS = []\n",
    "    COV_MAP = []\n",
    "    \n",
    "    \n",
    "    for count in trange(0,101,1):  \n",
    "        \n",
    "        keys = [] # To store Initial keys FRoM MAP\n",
    "    \n",
    "        mainkey = [] # Source Keys\n",
    "        subkey = [] # Destination Keys \n",
    "        \n",
    "        startindex = 0 # To store START keyword index\n",
    "        endindex = 0 # To store END keyword Index\n",
    "        \n",
    "        #-------------------------------------------------------------------------------------------------------------------------\n",
    "        # Net Assignment \n",
    "        INPUT = MINER(df1, count, PATH_THRES[outer_j]) # The Process MAP that is to be compared is entered here (Dataset is entered here) # MAP HERE\n",
    "        #-------------------------------------------------------------------------------------------------------------------------\n",
    "    \n",
    "    \n",
    "        #-------------------------------------------------------------------------------------------------------------------------\n",
    "        # Assigning key to main List \n",
    "        for key in INPUT:\n",
    "            #print(key)\n",
    "            keys.append(key)\n",
    "        #-------------------------------------------------------------------------------------------------------------------------\n",
    "        \n",
    "    \n",
    "        #-------------------------------------------------------------------------------------------------------------------------\n",
    "        # Key Segregation \n",
    "        for i in range(len(keys)):\n",
    "            T1 = keys[i]\n",
    "            T2 = Filter(T1)\n",
    "            T3 = T2.split(' ')\n",
    "            mainkey.append(T3[0])\n",
    "            subkey.append(T3[1])  \n",
    "        #-------------------------------------------------------------------------------------------------------------------------\n",
    "    \n",
    "        \n",
    "        #-------------------------------------------------------------------------------------------------------------------------    \n",
    "        \n",
    "        # DELETION of START & END Keyword\n",
    "        \n",
    "        mainkey, subkey = START_END_DEL(mainkey,subkey)\n",
    "                        \n",
    "    #-------------------------------------------------------------------------------------------------------------------------\n",
    "    \n",
    "    \n",
    "    #-------------------------------------------------------------------------------------------------------------------------\n",
    "        t_i = mainkey[0]\n",
    "        k=0\n",
    "        a = collections.defaultdict(list)\n",
    "        \n",
    "        while k < len(mainkey):\n",
    "            # dynamically create key\n",
    "            if k == 0:\n",
    "                key = mainkey[k]\n",
    "                \n",
    "            if t_i == mainkey[k]:\n",
    "                value = subkey[k]\n",
    "                a[key].append(value)\n",
    "                k+=1\n",
    "            else:\n",
    "                if t_i != mainkey[k]:\n",
    "                    t_i = mainkey[k]\n",
    "                    key = mainkey[k]\n",
    "                    value = subkey[k]\n",
    "                    a[key].append(value)\n",
    "                    k+=1\n",
    "    #-------------------------------------------------------------------------------------------------------------------------\n",
    "    \n",
    "        #THE_FATHERLOAD.append(a)\n",
    "        \n",
    "        \n",
    "        #COMPARISON PHASE\n",
    "    #-------------------------------------------------------------------------------------------------------------------------\n",
    "\n",
    "        final_state = 0 # SHOULD BE REFRESHED FOR EVERY ITERATION OF THE PROCESS MODEL (i.e. every new process map & not every ID)\n",
    "    #-------------------------------------------------------------------------------------------------------------------------    \n",
    "        for i in range(len(ids)): # INDIVIDUAL LOOPING OF EACH ID\n",
    "            \n",
    "            df3 = df1[df1[\"case_id\"]== ids[i]].reset_index(drop = True) # THE ID for each Dataset is mentioned here\n",
    "        \n",
    "            trace = df3.copy() # ID CARRYING VARIABLE\n",
    "    \n",
    "    #-------------------------------------------------------------------------------------------------------------------------\n",
    "    \n",
    "            for j in range(len(trace)):\n",
    "                trace[\"task\"][j] = Filter(trace[\"task\"][j]) # FILTEREING THE INDIVIDUAL TRACE INPUT FROM ABOVE\n",
    "    \n",
    "    #-------------------------------------------------------------------------------------------------------------------------\n",
    "    # MODULE TO SELECT THE STARTING POINT & CHECK IF IT CAN BE REPLICATED IN THE PROCESS MAP\n",
    "        #F_in = trace[\"task\"][0] # initial state\n",
    "        \n",
    "            #for k in range(len(a.keys())):\n",
    "                #if F_in == list(a.keys())[k]:\n",
    "                    #print(\"true\", k)\n",
    "        \n",
    "    #-------------------------------------------------------------------------------------------------------------------------\n",
    "            flag_s1 = 0 # OUTER FLAG (START POINT FLAG)\n",
    "            flag_s2 = 0 # INNER FLAG (END POINT FLAG)\n",
    "        \n",
    "            decider = [] # Resets for Every ID\n",
    "            \n",
    "            for m in range(0,len(trace)-1,1):\n",
    "            #print(trace[\"task\"][i])\n",
    "            \n",
    "                flag_s1 = 0\n",
    "                flag_s2 = 0\n",
    "            \n",
    "                state1 = trace[\"task\"][m]\n",
    "                state2 = trace[\"task\"][m+1]\n",
    "                    \n",
    "                for n in range(len(a.keys())):\n",
    "                    if state1 == list(a.keys())[n]:\n",
    "                        flag_s1 = 1\n",
    "                        var_s1 = state1 # Starting point of the line (INTIAL POINT)\n",
    "                        \n",
    "                        for s in range(len(a[var_s1])):\n",
    "                            if state2 == a[var_s1][s]:\n",
    "                                flag_s2 = 1\n",
    "                                decider.append(1) # (ONLY AFTER THE CONNECTION IS VERIFIED THAT THE CONDITION IS CONVERETED TO 1)\n",
    "                \n",
    "                \n",
    "            #print(\"\\n\\t\\tID = \", ids[i])\n",
    "            ID.append(ids[i])\n",
    "            \n",
    "            #print(\"\\n\\t\\tLength of trace = \", len(trace))\n",
    "            LOG_LEN.append(len(trace))\n",
    "            \n",
    "            #print(\"\\t\\tTotal paths covered  = \", sum(decider)+1)\n",
    "            MAP_LEN.append(sum(decider)+1)\n",
    "        \n",
    "            COV_COV = ((sum(decider)+1)/len(trace)*100)\n",
    "            \n",
    "            #print(\"\\t\\tCOVERAGE = \", COV_COV)\n",
    "            COV_MAP.append(COV_COV)\n",
    "            \n",
    "            \n",
    "            if len(trace) == (sum(decider)+1):\n",
    "                final_state+=1\n",
    "                #print(\"\\t\\tThis ID Is FIT\")\n",
    "                FIT_STS.append(1)\n",
    "                fitter+=1\n",
    "            else:\n",
    "                #print(\"\\t\\tNot Fit\")\n",
    "                FIT_STS.append(0)\n",
    "            \n",
    "            #print(\"\\n\\t\\t PATH RATE:\", count)\n",
    "            \n",
    "            #print(\"\\t\\tModel Fitness %:\", final_state/len(ids)*100)\n",
    "            #print(\"\\t\\t--------------------------------NEXT ID---------------------------------------\")                   \n",
    "            #Path.append(count)\n",
    "            #Fit.append((final_state/len(ids))*100)\n",
    "            \n",
    "            if i == len(ids)-1:\n",
    "                INDI_FIT.append((fitter/len(ids))*100) # 272 = len of ids\n",
    "                fitter=0\n",
    "        \n",
    "        Act.append(count)\n",
    "            \n",
    "        if outer_j == 0:\n",
    "            res_SA0 = pd.DataFrame({\"Path_Rate\":Act,\"Fitness\":INDI_FIT})\n",
    "                #res_af1\n",
    "        \n",
    "        elif outer_j == 1:\n",
    "            res_SA1 = pd.DataFrame({\"Path_Rate\":Act,\"Fitness\":INDI_FIT})\n",
    "                #res_af1\n",
    "    \n",
    "        elif outer_j == 2:\n",
    "            res_SA2 = pd.DataFrame({\"Path_Rate\":Act,\"Fitness\":INDI_FIT})\n",
    "    \n",
    "        elif outer_j == 3:\n",
    "            res_SA3 = pd.DataFrame({\"Path_Rate\":Act,\"Fitness\":INDI_FIT})\n",
    "    \n",
    "        elif outer_j == 4:\n",
    "            res_SA4 = pd.DataFrame({\"Path_Rate\":Act,\"Fitness\":INDI_FIT})\n",
    "    \n",
    "        elif outer_j == 5:\n",
    "            res_SA5 = pd.DataFrame({\"Path_Rate\":Act,\"Fitness\":INDI_FIT})\n",
    "        \n",
    "        print(\"Fitness = \", (fitter/len(ids))*100)\n",
    "        print(\"\\n\\n-----------------------------------------------------------------------------------------\")                   \n",
    "        print(\"-----------------------------------NEXT ID OVER HERE-------------------------------------\\n\\n\")                   \n",
    "    \n",
    "    #print(\"\\n\\n Total Number of FIT executions are \", final_state, \"out of a Total of\", len(ids), \"IDs\")\n",
    "    #print(\"Fitness Rating = :\", (final_state/len(ids))*100)\n",
    "    \n",
    "ACT_FULL = res_SA0.copy()\n",
    "ACT_FULL = ACT_FULL.merge(res_SA1, on='Path_Rate', how='right')\n",
    "ACT_FULL = ACT_FULL.merge(res_SA2, on='Path_Rate', how='right')\n",
    "ACT_FULL = ACT_FULL.merge(res_SA3, on='Path_Rate', how='right')\n",
    "ACT_FULL = ACT_FULL.merge(res_SA4, on='Path_Rate', how='right')\n",
    "ACT_FULL = ACT_FULL.merge(res_SA5, on='Path_Rate', how='right')\n",
    "\n",
    "ACT_FULL.columns = ['Activity_Rate', 'Path = 5', 'Path = 20' ,'Path = 40', 'Path = 60','Path = 80','Path = 100']\n",
    "\n",
    "ACT_FULL"
   ]
  },
  {
   "cell_type": "code",
   "execution_count": null,
   "id": "68e6d305",
   "metadata": {},
   "outputs": [],
   "source": [
    "ACT_FULL.to_csv(\"Sample_5_Fitness_ACT.csv\")"
   ]
  },
  {
   "cell_type": "code",
   "execution_count": null,
   "id": "e234632f",
   "metadata": {},
   "outputs": [],
   "source": [
    "figure(figsize=(12, 8), dpi=100)\n",
    "sns.lineplot(x='Activity_Rate', y='value', hue='variable', data=pd.melt(ACT_FULL, ['Activity_Rate']), lw = 2)\n",
    "plt.xlabel(\"Activity (0-100%)\")\n",
    "plt.ylabel(\"Fitness Rating\")\n",
    "plt.title(\"Fitness - When Activity is Varied b/w (0 - 100 )& Path is kept Constant\")\n",
    "plt.show()"
   ]
  },
  {
   "cell_type": "markdown",
   "id": "00ec781e",
   "metadata": {},
   "source": [
    "## When Activites is Constant [0,20,40,60,80,100], & path is varied between (0-100)"
   ]
  },
  {
   "cell_type": "code",
   "execution_count": 29,
   "id": "a67a75a7",
   "metadata": {
    "scrolled": true
   },
   "outputs": [
    {
     "name": "stdout",
     "output_type": "stream",
     "text": [
      "{'activities': 0, 'paths': 5}\n"
     ]
    },
    {
     "name": "stderr",
     "output_type": "stream",
     "text": [
      "C:\\Users\\ashis\\AppData\\Local\\Temp\\ipykernel_15232\\1190309556.py:131: SettingWithCopyWarning: \n",
      "A value is trying to be set on a copy of a slice from a DataFrame\n",
      "\n",
      "See the caveats in the documentation: https://pandas.pydata.org/pandas-docs/stable/user_guide/indexing.html#returning-a-view-versus-a-copy\n",
      "  trace[\"task\"][j] = Filter(trace[\"task\"][j]) # FILTEREING THE INDIVIDUAL TRACE INPUT FROM ABOVE\n"
     ]
    },
    {
     "name": "stdout",
     "output_type": "stream",
     "text": [
      "\n",
      "\n",
      "-----------------------------------------------------------------------------------------\n",
      "-----------------------------------NEXT ID OVER HERE-------------------------------------\n",
      "\n",
      "\n",
      "{'activities': 1, 'paths': 5}\n"
     ]
    },
    {
     "name": "stderr",
     "output_type": "stream",
     "text": [
      "C:\\Users\\ashis\\AppData\\Local\\Temp\\ipykernel_15232\\1190309556.py:131: SettingWithCopyWarning: \n",
      "A value is trying to be set on a copy of a slice from a DataFrame\n",
      "\n",
      "See the caveats in the documentation: https://pandas.pydata.org/pandas-docs/stable/user_guide/indexing.html#returning-a-view-versus-a-copy\n",
      "  trace[\"task\"][j] = Filter(trace[\"task\"][j]) # FILTEREING THE INDIVIDUAL TRACE INPUT FROM ABOVE\n"
     ]
    },
    {
     "ename": "KeyboardInterrupt",
     "evalue": "",
     "output_type": "error",
     "traceback": [
      "\u001b[1;31m---------------------------------------------------------------------------\u001b[0m",
      "\u001b[1;31mKeyboardInterrupt\u001b[0m                         Traceback (most recent call last)",
      "\u001b[1;32m~\\AppData\\Local\\Temp\\ipykernel_15232\\1190309556.py\u001b[0m in \u001b[0;36m<module>\u001b[1;34m\u001b[0m\n\u001b[0;32m    122\u001b[0m         \u001b[1;32mfor\u001b[0m \u001b[0mi\u001b[0m \u001b[1;32min\u001b[0m \u001b[0mrange\u001b[0m\u001b[1;33m(\u001b[0m\u001b[0mlen\u001b[0m\u001b[1;33m(\u001b[0m\u001b[0mids\u001b[0m\u001b[1;33m)\u001b[0m\u001b[1;33m)\u001b[0m\u001b[1;33m:\u001b[0m \u001b[1;31m# INDIVIDUAL LOOPING OF EACH ID\u001b[0m\u001b[1;33m\u001b[0m\u001b[1;33m\u001b[0m\u001b[0m\n\u001b[0;32m    123\u001b[0m \u001b[1;33m\u001b[0m\u001b[0m\n\u001b[1;32m--> 124\u001b[1;33m             \u001b[0mdf3\u001b[0m \u001b[1;33m=\u001b[0m \u001b[0mdf1\u001b[0m\u001b[1;33m[\u001b[0m\u001b[0mdf1\u001b[0m\u001b[1;33m[\u001b[0m\u001b[1;34m\"case_id\"\u001b[0m\u001b[1;33m]\u001b[0m\u001b[1;33m==\u001b[0m \u001b[0mids\u001b[0m\u001b[1;33m[\u001b[0m\u001b[0mi\u001b[0m\u001b[1;33m]\u001b[0m\u001b[1;33m]\u001b[0m\u001b[1;33m.\u001b[0m\u001b[0mreset_index\u001b[0m\u001b[1;33m(\u001b[0m\u001b[0mdrop\u001b[0m \u001b[1;33m=\u001b[0m \u001b[1;32mTrue\u001b[0m\u001b[1;33m)\u001b[0m \u001b[1;31m# THE ID for each Dataset is mentioned here\u001b[0m\u001b[1;33m\u001b[0m\u001b[1;33m\u001b[0m\u001b[0m\n\u001b[0m\u001b[0;32m    125\u001b[0m \u001b[1;33m\u001b[0m\u001b[0m\n\u001b[0;32m    126\u001b[0m             \u001b[0mtrace\u001b[0m \u001b[1;33m=\u001b[0m \u001b[0mdf3\u001b[0m\u001b[1;33m.\u001b[0m\u001b[0mcopy\u001b[0m\u001b[1;33m(\u001b[0m\u001b[1;33m)\u001b[0m \u001b[1;31m# ID CARRYING VARIABLE\u001b[0m\u001b[1;33m\u001b[0m\u001b[1;33m\u001b[0m\u001b[0m\n",
      "\u001b[1;32m~\\anaconda3\\lib\\site-packages\\pandas\\core\\ops\\common.py\u001b[0m in \u001b[0;36mnew_method\u001b[1;34m(self, other)\u001b[0m\n\u001b[0;32m     68\u001b[0m         \u001b[0mother\u001b[0m \u001b[1;33m=\u001b[0m \u001b[0mitem_from_zerodim\u001b[0m\u001b[1;33m(\u001b[0m\u001b[0mother\u001b[0m\u001b[1;33m)\u001b[0m\u001b[1;33m\u001b[0m\u001b[1;33m\u001b[0m\u001b[0m\n\u001b[0;32m     69\u001b[0m \u001b[1;33m\u001b[0m\u001b[0m\n\u001b[1;32m---> 70\u001b[1;33m         \u001b[1;32mreturn\u001b[0m \u001b[0mmethod\u001b[0m\u001b[1;33m(\u001b[0m\u001b[0mself\u001b[0m\u001b[1;33m,\u001b[0m \u001b[0mother\u001b[0m\u001b[1;33m)\u001b[0m\u001b[1;33m\u001b[0m\u001b[1;33m\u001b[0m\u001b[0m\n\u001b[0m\u001b[0;32m     71\u001b[0m \u001b[1;33m\u001b[0m\u001b[0m\n\u001b[0;32m     72\u001b[0m     \u001b[1;32mreturn\u001b[0m \u001b[0mnew_method\u001b[0m\u001b[1;33m\u001b[0m\u001b[1;33m\u001b[0m\u001b[0m\n",
      "\u001b[1;32m~\\anaconda3\\lib\\site-packages\\pandas\\core\\arraylike.py\u001b[0m in \u001b[0;36m__eq__\u001b[1;34m(self, other)\u001b[0m\n\u001b[0;32m     38\u001b[0m     \u001b[1;33m@\u001b[0m\u001b[0munpack_zerodim_and_defer\u001b[0m\u001b[1;33m(\u001b[0m\u001b[1;34m\"__eq__\"\u001b[0m\u001b[1;33m)\u001b[0m\u001b[1;33m\u001b[0m\u001b[1;33m\u001b[0m\u001b[0m\n\u001b[0;32m     39\u001b[0m     \u001b[1;32mdef\u001b[0m \u001b[0m__eq__\u001b[0m\u001b[1;33m(\u001b[0m\u001b[0mself\u001b[0m\u001b[1;33m,\u001b[0m \u001b[0mother\u001b[0m\u001b[1;33m)\u001b[0m\u001b[1;33m:\u001b[0m\u001b[1;33m\u001b[0m\u001b[1;33m\u001b[0m\u001b[0m\n\u001b[1;32m---> 40\u001b[1;33m         \u001b[1;32mreturn\u001b[0m \u001b[0mself\u001b[0m\u001b[1;33m.\u001b[0m\u001b[0m_cmp_method\u001b[0m\u001b[1;33m(\u001b[0m\u001b[0mother\u001b[0m\u001b[1;33m,\u001b[0m \u001b[0moperator\u001b[0m\u001b[1;33m.\u001b[0m\u001b[0meq\u001b[0m\u001b[1;33m)\u001b[0m\u001b[1;33m\u001b[0m\u001b[1;33m\u001b[0m\u001b[0m\n\u001b[0m\u001b[0;32m     41\u001b[0m \u001b[1;33m\u001b[0m\u001b[0m\n\u001b[0;32m     42\u001b[0m     \u001b[1;33m@\u001b[0m\u001b[0munpack_zerodim_and_defer\u001b[0m\u001b[1;33m(\u001b[0m\u001b[1;34m\"__ne__\"\u001b[0m\u001b[1;33m)\u001b[0m\u001b[1;33m\u001b[0m\u001b[1;33m\u001b[0m\u001b[0m\n",
      "\u001b[1;32m~\\anaconda3\\lib\\site-packages\\pandas\\core\\series.py\u001b[0m in \u001b[0;36m_cmp_method\u001b[1;34m(self, other, op)\u001b[0m\n\u001b[0;32m   5621\u001b[0m \u001b[1;33m\u001b[0m\u001b[0m\n\u001b[0;32m   5622\u001b[0m         \u001b[1;32mwith\u001b[0m \u001b[0mnp\u001b[0m\u001b[1;33m.\u001b[0m\u001b[0merrstate\u001b[0m\u001b[1;33m(\u001b[0m\u001b[0mall\u001b[0m\u001b[1;33m=\u001b[0m\u001b[1;34m\"ignore\"\u001b[0m\u001b[1;33m)\u001b[0m\u001b[1;33m:\u001b[0m\u001b[1;33m\u001b[0m\u001b[1;33m\u001b[0m\u001b[0m\n\u001b[1;32m-> 5623\u001b[1;33m             \u001b[0mres_values\u001b[0m \u001b[1;33m=\u001b[0m \u001b[0mops\u001b[0m\u001b[1;33m.\u001b[0m\u001b[0mcomparison_op\u001b[0m\u001b[1;33m(\u001b[0m\u001b[0mlvalues\u001b[0m\u001b[1;33m,\u001b[0m \u001b[0mrvalues\u001b[0m\u001b[1;33m,\u001b[0m \u001b[0mop\u001b[0m\u001b[1;33m)\u001b[0m\u001b[1;33m\u001b[0m\u001b[1;33m\u001b[0m\u001b[0m\n\u001b[0m\u001b[0;32m   5624\u001b[0m \u001b[1;33m\u001b[0m\u001b[0m\n\u001b[0;32m   5625\u001b[0m         \u001b[1;32mreturn\u001b[0m \u001b[0mself\u001b[0m\u001b[1;33m.\u001b[0m\u001b[0m_construct_result\u001b[0m\u001b[1;33m(\u001b[0m\u001b[0mres_values\u001b[0m\u001b[1;33m,\u001b[0m \u001b[0mname\u001b[0m\u001b[1;33m=\u001b[0m\u001b[0mres_name\u001b[0m\u001b[1;33m)\u001b[0m\u001b[1;33m\u001b[0m\u001b[1;33m\u001b[0m\u001b[0m\n",
      "\u001b[1;32m~\\anaconda3\\lib\\site-packages\\pandas\\core\\ops\\array_ops.py\u001b[0m in \u001b[0;36mcomparison_op\u001b[1;34m(left, right, op)\u001b[0m\n\u001b[0;32m    284\u001b[0m \u001b[1;33m\u001b[0m\u001b[0m\n\u001b[0;32m    285\u001b[0m     \u001b[1;32melse\u001b[0m\u001b[1;33m:\u001b[0m\u001b[1;33m\u001b[0m\u001b[1;33m\u001b[0m\u001b[0m\n\u001b[1;32m--> 286\u001b[1;33m         \u001b[0mres_values\u001b[0m \u001b[1;33m=\u001b[0m \u001b[0m_na_arithmetic_op\u001b[0m\u001b[1;33m(\u001b[0m\u001b[0mlvalues\u001b[0m\u001b[1;33m,\u001b[0m \u001b[0mrvalues\u001b[0m\u001b[1;33m,\u001b[0m \u001b[0mop\u001b[0m\u001b[1;33m,\u001b[0m \u001b[0mis_cmp\u001b[0m\u001b[1;33m=\u001b[0m\u001b[1;32mTrue\u001b[0m\u001b[1;33m)\u001b[0m\u001b[1;33m\u001b[0m\u001b[1;33m\u001b[0m\u001b[0m\n\u001b[0m\u001b[0;32m    287\u001b[0m \u001b[1;33m\u001b[0m\u001b[0m\n\u001b[0;32m    288\u001b[0m     \u001b[1;32mreturn\u001b[0m \u001b[0mres_values\u001b[0m\u001b[1;33m\u001b[0m\u001b[1;33m\u001b[0m\u001b[0m\n",
      "\u001b[1;32m~\\anaconda3\\lib\\site-packages\\pandas\\core\\ops\\array_ops.py\u001b[0m in \u001b[0;36m_na_arithmetic_op\u001b[1;34m(left, right, op, is_cmp)\u001b[0m\n\u001b[0;32m    161\u001b[0m \u001b[1;33m\u001b[0m\u001b[0m\n\u001b[0;32m    162\u001b[0m     \u001b[1;32mtry\u001b[0m\u001b[1;33m:\u001b[0m\u001b[1;33m\u001b[0m\u001b[1;33m\u001b[0m\u001b[0m\n\u001b[1;32m--> 163\u001b[1;33m         \u001b[0mresult\u001b[0m \u001b[1;33m=\u001b[0m \u001b[0mfunc\u001b[0m\u001b[1;33m(\u001b[0m\u001b[0mleft\u001b[0m\u001b[1;33m,\u001b[0m \u001b[0mright\u001b[0m\u001b[1;33m)\u001b[0m\u001b[1;33m\u001b[0m\u001b[1;33m\u001b[0m\u001b[0m\n\u001b[0m\u001b[0;32m    164\u001b[0m     \u001b[1;32mexcept\u001b[0m \u001b[0mTypeError\u001b[0m\u001b[1;33m:\u001b[0m\u001b[1;33m\u001b[0m\u001b[1;33m\u001b[0m\u001b[0m\n\u001b[0;32m    165\u001b[0m         \u001b[1;32mif\u001b[0m \u001b[1;32mnot\u001b[0m \u001b[0mis_cmp\u001b[0m \u001b[1;32mand\u001b[0m \u001b[1;33m(\u001b[0m\u001b[0mis_object_dtype\u001b[0m\u001b[1;33m(\u001b[0m\u001b[0mleft\u001b[0m\u001b[1;33m.\u001b[0m\u001b[0mdtype\u001b[0m\u001b[1;33m)\u001b[0m \u001b[1;32mor\u001b[0m \u001b[0mis_object_dtype\u001b[0m\u001b[1;33m(\u001b[0m\u001b[0mright\u001b[0m\u001b[1;33m)\u001b[0m\u001b[1;33m)\u001b[0m\u001b[1;33m:\u001b[0m\u001b[1;33m\u001b[0m\u001b[1;33m\u001b[0m\u001b[0m\n",
      "\u001b[1;32m~\\anaconda3\\lib\\site-packages\\pandas\\core\\computation\\expressions.py\u001b[0m in \u001b[0;36mevaluate\u001b[1;34m(op, a, b, use_numexpr)\u001b[0m\n\u001b[0;32m    237\u001b[0m         \u001b[1;32mif\u001b[0m \u001b[0muse_numexpr\u001b[0m\u001b[1;33m:\u001b[0m\u001b[1;33m\u001b[0m\u001b[1;33m\u001b[0m\u001b[0m\n\u001b[0;32m    238\u001b[0m             \u001b[1;31m# error: \"None\" not callable\u001b[0m\u001b[1;33m\u001b[0m\u001b[1;33m\u001b[0m\u001b[0m\n\u001b[1;32m--> 239\u001b[1;33m             \u001b[1;32mreturn\u001b[0m \u001b[0m_evaluate\u001b[0m\u001b[1;33m(\u001b[0m\u001b[0mop\u001b[0m\u001b[1;33m,\u001b[0m \u001b[0mop_str\u001b[0m\u001b[1;33m,\u001b[0m \u001b[0ma\u001b[0m\u001b[1;33m,\u001b[0m \u001b[0mb\u001b[0m\u001b[1;33m)\u001b[0m  \u001b[1;31m# type: ignore[misc]\u001b[0m\u001b[1;33m\u001b[0m\u001b[1;33m\u001b[0m\u001b[0m\n\u001b[0m\u001b[0;32m    240\u001b[0m     \u001b[1;32mreturn\u001b[0m \u001b[0m_evaluate_standard\u001b[0m\u001b[1;33m(\u001b[0m\u001b[0mop\u001b[0m\u001b[1;33m,\u001b[0m \u001b[0mop_str\u001b[0m\u001b[1;33m,\u001b[0m \u001b[0ma\u001b[0m\u001b[1;33m,\u001b[0m \u001b[0mb\u001b[0m\u001b[1;33m)\u001b[0m\u001b[1;33m\u001b[0m\u001b[1;33m\u001b[0m\u001b[0m\n\u001b[0;32m    241\u001b[0m \u001b[1;33m\u001b[0m\u001b[0m\n",
      "\u001b[1;32m~\\anaconda3\\lib\\site-packages\\pandas\\core\\computation\\expressions.py\u001b[0m in \u001b[0;36m_evaluate_numexpr\u001b[1;34m(op, op_str, a, b)\u001b[0m\n\u001b[0;32m    126\u001b[0m \u001b[1;33m\u001b[0m\u001b[0m\n\u001b[0;32m    127\u001b[0m     \u001b[1;32mif\u001b[0m \u001b[0mresult\u001b[0m \u001b[1;32mis\u001b[0m \u001b[1;32mNone\u001b[0m\u001b[1;33m:\u001b[0m\u001b[1;33m\u001b[0m\u001b[1;33m\u001b[0m\u001b[0m\n\u001b[1;32m--> 128\u001b[1;33m         \u001b[0mresult\u001b[0m \u001b[1;33m=\u001b[0m \u001b[0m_evaluate_standard\u001b[0m\u001b[1;33m(\u001b[0m\u001b[0mop\u001b[0m\u001b[1;33m,\u001b[0m \u001b[0mop_str\u001b[0m\u001b[1;33m,\u001b[0m \u001b[0ma\u001b[0m\u001b[1;33m,\u001b[0m \u001b[0mb\u001b[0m\u001b[1;33m)\u001b[0m\u001b[1;33m\u001b[0m\u001b[1;33m\u001b[0m\u001b[0m\n\u001b[0m\u001b[0;32m    129\u001b[0m \u001b[1;33m\u001b[0m\u001b[0m\n\u001b[0;32m    130\u001b[0m     \u001b[1;32mreturn\u001b[0m \u001b[0mresult\u001b[0m\u001b[1;33m\u001b[0m\u001b[1;33m\u001b[0m\u001b[0m\n",
      "\u001b[1;32m~\\anaconda3\\lib\\site-packages\\pandas\\core\\computation\\expressions.py\u001b[0m in \u001b[0;36m_evaluate_standard\u001b[1;34m(op, op_str, a, b)\u001b[0m\n\u001b[0;32m     67\u001b[0m     \u001b[1;32mif\u001b[0m \u001b[0m_TEST_MODE\u001b[0m\u001b[1;33m:\u001b[0m\u001b[1;33m\u001b[0m\u001b[1;33m\u001b[0m\u001b[0m\n\u001b[0;32m     68\u001b[0m         \u001b[0m_store_test_result\u001b[0m\u001b[1;33m(\u001b[0m\u001b[1;32mFalse\u001b[0m\u001b[1;33m)\u001b[0m\u001b[1;33m\u001b[0m\u001b[1;33m\u001b[0m\u001b[0m\n\u001b[1;32m---> 69\u001b[1;33m     \u001b[1;32mreturn\u001b[0m \u001b[0mop\u001b[0m\u001b[1;33m(\u001b[0m\u001b[0ma\u001b[0m\u001b[1;33m,\u001b[0m \u001b[0mb\u001b[0m\u001b[1;33m)\u001b[0m\u001b[1;33m\u001b[0m\u001b[1;33m\u001b[0m\u001b[0m\n\u001b[0m\u001b[0;32m     70\u001b[0m \u001b[1;33m\u001b[0m\u001b[0m\n\u001b[0;32m     71\u001b[0m \u001b[1;33m\u001b[0m\u001b[0m\n",
      "\u001b[1;31mKeyboardInterrupt\u001b[0m: "
     ]
    }
   ],
   "source": [
    "Path = [] # Stores the ACT Figure\n",
    "Fit = [] # Stores the State of Fitting 1 or 0 \n",
    "\n",
    "\n",
    "\n",
    "ACT_THRES = [5,20,40,60,80,100]\n",
    "\n",
    "\n",
    "for outer_j in trange(len(ACT_THRES)):\n",
    "    \n",
    "    Path = [] # Stores the ACT Figure\n",
    "    Fit = [] # Stores the State of Fitting 1 or 0 \n",
    "\n",
    "    INDI_FIT = []\n",
    "    fitter = 0\n",
    "    \n",
    "    \n",
    "    THE_FATHERLOAD = []\n",
    "    \n",
    "    COV_COV = 0\n",
    "    ID = []\n",
    "    LOG_LEN = []\n",
    "    MAP_LEN = []\n",
    "    FIT_STS = []\n",
    "    COV_MAP = []\n",
    "    \n",
    "    \n",
    "    for count in trange(0,101,1):  \n",
    "        \n",
    "        keys = [] # To store Initial keys FRoM MAP\n",
    "    \n",
    "        mainkey = [] # Source Keys\n",
    "        subkey = [] # Destination Keys \n",
    "        \n",
    "        startindex = 0 # To store START keyword index\n",
    "        endindex = 0 # To store END keyword Index\n",
    "        \n",
    "        #-------------------------------------------------------------------------------------------------------------------------\n",
    "        # Net Assignment \n",
    "        INPUT = MINER(df1, ACT_THRES[outer_j], count) # The Process MAP that is to be compared is entered here (Dataset is entered here) # MAP HERE\n",
    "        #-------------------------------------------------------------------------------------------------------------------------\n",
    "    \n",
    "    \n",
    "        #-------------------------------------------------------------------------------------------------------------------------\n",
    "        # Assigning key to main List \n",
    "        for key in INPUT:\n",
    "            #print(key)\n",
    "            keys.append(key)\n",
    "        #-------------------------------------------------------------------------------------------------------------------------\n",
    "        \n",
    "    \n",
    "        #-------------------------------------------------------------------------------------------------------------------------\n",
    "        # Key Segregation \n",
    "        for i in range(len(keys)):\n",
    "            T1 = keys[i]\n",
    "            T2 = Filter(T1)\n",
    "            T3 = T2.split(' ')\n",
    "            mainkey.append(T3[0])\n",
    "            subkey.append(T3[1])  \n",
    "        #-------------------------------------------------------------------------------------------------------------------------\n",
    "    \n",
    "        \n",
    "        #-------------------------------------------------------------------------------------------------------------------------    \n",
    "        \n",
    "        # DELETION of START & END Keyword\n",
    "        \n",
    "        mainkey, subkey = START_END_DEL(mainkey,subkey)\n",
    "                        \n",
    "    #-------------------------------------------------------------------------------------------------------------------------\n",
    "        \n",
    "        if mainkey != []:\n",
    "    \n",
    "    #-------------------------------------------------------------------------------------------------------------------------\n",
    "            t_i = mainkey[0]\n",
    "            k=0\n",
    "            a = collections.defaultdict(list)\n",
    "\n",
    "            while k < len(mainkey):\n",
    "                # dynamically create key\n",
    "                if k == 0:\n",
    "                    key = mainkey[k]\n",
    "\n",
    "                if t_i == mainkey[k]:\n",
    "                    value = subkey[k]\n",
    "                    a[key].append(value)\n",
    "                    k+=1\n",
    "                else:\n",
    "                    if t_i != mainkey[k]:\n",
    "                        t_i = mainkey[k]\n",
    "                        key = mainkey[k]\n",
    "                        value = subkey[k]\n",
    "                        a[key].append(value)\n",
    "                        k+=1\n",
    "        #-------------------------------------------------------------------------------------------------------------------------\n",
    "\n",
    "            #THE_FATHERLOAD.append(a)\n",
    "\n",
    "\n",
    "            #COMPARISON PHASE\n",
    "        #-------------------------------------------------------------------------------------------------------------------------\n",
    "\n",
    "            final_state = 0 # SHOULD BE REFRESHED FOR EVERY ITERATION OF THE PROCESS MODEL (i.e. every new process map & not every ID)\n",
    "        #-------------------------------------------------------------------------------------------------------------------------    \n",
    "            for i in range(len(ids)): # INDIVIDUAL LOOPING OF EACH ID\n",
    "\n",
    "                df3 = df1[df1[\"case_id\"]== ids[i]].reset_index(drop = True) # THE ID for each Dataset is mentioned here\n",
    "\n",
    "                trace = df3.copy() # ID CARRYING VARIABLE\n",
    "\n",
    "        #-------------------------------------------------------------------------------------------------------------------------\n",
    "\n",
    "                for j in range(len(trace)):\n",
    "                    trace[\"task\"][j] = Filter(trace[\"task\"][j]) # FILTEREING THE INDIVIDUAL TRACE INPUT FROM ABOVE\n",
    "\n",
    "        #-------------------------------------------------------------------------------------------------------------------------\n",
    "        # MODULE TO SELECT THE STARTING POINT & CHECK IF IT CAN BE REPLICATED IN THE PROCESS MAP\n",
    "            #F_in = trace[\"task\"][0] # initial state\n",
    "\n",
    "                #for k in range(len(a.keys())):\n",
    "                    #if F_in == list(a.keys())[k]:\n",
    "                        #print(\"true\", k)\n",
    "\n",
    "        #-------------------------------------------------------------------------------------------------------------------------\n",
    "                flag_s1 = 0 # OUTER FLAG (START POINT FLAG)\n",
    "                flag_s2 = 0 # INNER FLAG (END POINT FLAG)\n",
    "\n",
    "                decider = [] # Resets for Every ID\n",
    "\n",
    "                for m in range(0,len(trace)-1,1):\n",
    "                #print(trace[\"task\"][i])\n",
    "\n",
    "                    flag_s1 = 0\n",
    "                    flag_s2 = 0\n",
    "\n",
    "                    state1 = trace[\"task\"][m]\n",
    "                    state2 = trace[\"task\"][m+1]\n",
    "\n",
    "                    for n in range(len(a.keys())):\n",
    "                        if state1 == list(a.keys())[n]:\n",
    "                            flag_s1 = 1\n",
    "                            var_s1 = state1 # Starting point of the line (INTIAL POINT)\n",
    "\n",
    "                            for s in range(len(a[var_s1])):\n",
    "                                if state2 == a[var_s1][s]:\n",
    "                                    flag_s2 = 1\n",
    "                                    decider.append(1) # (ONLY AFTER THE CONNECTION IS VERIFIED THAT THE CONDITION IS CONVERETED TO 1)\n",
    "\n",
    "\n",
    "                #print(\"\\n\\t\\tID = \", ids[i])\n",
    "                ID.append(ids[i])\n",
    "\n",
    "                #print(\"\\n\\t\\tLength of trace = \", len(trace))\n",
    "                LOG_LEN.append(len(trace))\n",
    "\n",
    "                #print(\"\\t\\tTotal paths covered  = \", sum(decider)+1)\n",
    "                MAP_LEN.append(sum(decider)+1)\n",
    "\n",
    "                COV_COV = ((sum(decider)+1)/len(trace)*100)\n",
    "\n",
    "                #print(\"\\t\\tCOVERAGE = \", COV_COV)\n",
    "                COV_MAP.append(COV_COV)\n",
    "\n",
    "\n",
    "                if len(trace) == (sum(decider)+1):\n",
    "                    final_state+=1\n",
    "                    #print(\"\\t\\tThis ID Is FIT\")\n",
    "                    FIT_STS.append(1)\n",
    "                    fitter+=1\n",
    "                else:\n",
    "                    #print(\"\\t\\tNot Fit\")\n",
    "                    FIT_STS.append(0)\n",
    "\n",
    "                #print(\"\\n\\t\\t PATH RATE:\", count)\n",
    "\n",
    "                #print(\"\\t\\tModel Fitness %:\", final_state/len(ids)*100)\n",
    "                #print(\"\\t\\t--------------------------------NEXT ID---------------------------------------\")                   \n",
    "                #Path.append(count)\n",
    "                #Fit.append((final_state/len(ids))*100)\n",
    "\n",
    "                if i == len(ids)-1:\n",
    "                    INDI_FIT.append((fitter/len(ids))*100) # 272 = len of ids\n",
    "                    fitter=0\n",
    "                    print(\"Fitness = \", (fitter/len(ids))*100)\n",
    "\n",
    "            Path.append(count)\n",
    "        else:\n",
    "            Path.append(count)\n",
    "            INDI_FIT.append(0)\n",
    "            print(\"Fitness =  0\")\n",
    "            \n",
    "    if outer_j == 0:\n",
    "        res_FA0 = pd.DataFrame({\"Activity_Rate\":Path,\"Fitness\":INDI_FIT})\n",
    "            #res_af1\n",
    "\n",
    "    elif outer_j == 1:\n",
    "        res_FA1 = pd.DataFrame({\"Activity_Rate\":Path,\"Fitness\":INDI_FIT})\n",
    "            #res_af1\n",
    "\n",
    "    elif outer_j == 2:\n",
    "        res_FA2 = pd.DataFrame({\"Activity_Rate\":Path,\"Fitness\":INDI_FIT})\n",
    "\n",
    "    elif outer_j == 3:\n",
    "        res_FA3 = pd.DataFrame({\"Activity_Rate\":Path,\"Fitness\":INDI_FIT})\n",
    "\n",
    "    elif outer_j == 4:\n",
    "        res_FA4 = pd.DataFrame({\"Activity_Rate\":Path,\"Fitness\":INDI_FIT})\n",
    "\n",
    "    elif outer_j == 5:\n",
    "        res_FA5 = pd.DataFrame({\"Activity_Rate\":Path,\"Fitness\":INDI_FIT})\n",
    "        \n",
    "        \n",
    "        print(\"\\n\\n-----------------------------------------------------------------------------------------\")                   \n",
    "        print(\"-----------------------------------NEXT ID OVER HERE-------------------------------------\\n\\n\")                   \n",
    "    \n",
    "    #print(\"\\n\\n Total Number of FIT executions are \", final_state, \"out of a Total of\", len(ids), \"IDs\")\n",
    "    #print(\"Fitness Rating = :\", (final_state/len(ids))*100)\n",
    "    \n",
    "Path_FULL = res_FA0.copy()\n",
    "Path_FULL = Path_FULL.merge(res_FA1, on='Activity_Rate', how='right')\n",
    "Path_FULL = Path_FULL.merge(res_FA2, on='Activity_Rate', how='right')\n",
    "Path_FULL = Path_FULL.merge(res_FA3, on='Activity_Rate', how='right')\n",
    "Path_FULL = Path_FULL.merge(res_FA4, on='Activity_Rate', how='right')\n",
    "Path_FULL = Path_FULL.merge(res_FA5, on='Activity_Rate', how='right')\n",
    "\n",
    "Path_FULL.columns = ['Path_Rate', 'Activity = 5', 'Activity = 20' ,'Activity = 40', 'Activity = 60','Activity = 80','Activity = 100']\n",
    "\n",
    "Path_FULL"
   ]
  },
  {
   "cell_type": "code",
   "execution_count": null,
   "id": "656d0521",
   "metadata": {},
   "outputs": [],
   "source": [
    "PATH_FULL.to_csv(\"Sample_5_Fitness_PATH.csv\")"
   ]
  },
  {
   "cell_type": "code",
   "execution_count": null,
   "id": "6aecf434",
   "metadata": {},
   "outputs": [],
   "source": [
    "figure(figsize=(12, 8), dpi=100)\n",
    "sns.lineplot(x='Path_Rate', y='value', hue='variable', data=pd.melt(Path_FULL, ['Path_Rate']), lw = 2)\n",
    "plt.xlabel(\"Path (0-100%)\")\n",
    "plt.ylabel(\"Fitness Rating\")\n",
    "plt.title(\"Fitness - When Activity is Path is kept Constant & Varied b/w (0 - 100 )\")\n",
    "plt.show()"
   ]
  }
 ],
 "metadata": {
  "kernelspec": {
   "display_name": "Python 3 (ipykernel)",
   "language": "python",
   "name": "python3"
  },
  "language_info": {
   "codemirror_mode": {
    "name": "ipython",
    "version": 3
   },
   "file_extension": ".py",
   "mimetype": "text/x-python",
   "name": "python",
   "nbconvert_exporter": "python",
   "pygments_lexer": "ipython3",
   "version": "3.9.7"
  }
 },
 "nbformat": 4,
 "nbformat_minor": 5
}
