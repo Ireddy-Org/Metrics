{
 "cells": [
  {
   "cell_type": "markdown",
   "id": "9bb5249f",
   "metadata": {},
   "source": [
    "# Fitness - Metric"
   ]
  },
  {
   "cell_type": "markdown",
   "id": "8f49164f",
   "metadata": {},
   "source": [
    "### Replay Fitness quantifies the extent to which the model can reproduce the traces recorded in the log."
   ]
  },
  {
   "cell_type": "markdown",
   "id": "5d8d45cc",
   "metadata": {},
   "source": [
    "### The quality dimension of replay Fitness describes the fraction of the behavior in the event log that can be replayed by the process model."
   ]
  },
  {
   "cell_type": "markdown",
   "id": "14fc77c8",
   "metadata": {},
   "source": [
    "#### Importing Libraries"
   ]
  },
  {
   "cell_type": "code",
   "execution_count": 1,
   "id": "1f203438",
   "metadata": {},
   "outputs": [],
   "source": [
    "import os\n",
    "import configparser\n",
    "from datetime import date\n",
    "import pandas as pd\n",
    "import re\n",
    "import graphviz\n",
    "import math\n",
    "import seaborn as sns\n",
    "import collections\n",
    "import matplotlib.pyplot as plt\n",
    "from matplotlib.pyplot import figure\n",
    "import matplotlib as mpl\n",
    "mpl.rcParams['figure.dpi'] = 100\n",
    "sns.set(style=\"whitegrid\")\n",
    "\n",
    "from tqdm import tqdm\n",
    "from tqdm import trange\n",
    "\n",
    "#pd.set_option('display.max_columns', None)\n",
    "#pd.set_option('display.max_rows', None)"
   ]
  },
  {
   "cell_type": "markdown",
   "id": "4acec1a9",
   "metadata": {},
   "source": [
    "#### Profit Intialization"
   ]
  },
  {
   "cell_type": "code",
   "execution_count": 2,
   "id": "301220ec",
   "metadata": {},
   "outputs": [],
   "source": [
    "PATH = 'C:\\\\Users\\\\ashis\\\\Python Notebooks\\\\ProFIT'# path to ProFIT directory\n",
    "config = configparser.ConfigParser()\n",
    "config.add_section(\"packageLocation\")\n",
    "config.set(\"packageLocation\", \"workingDir\", PATH)\n",
    "config.set(\"packageLocation\", \"packageDir\", PATH+'\\\\profit')\n",
    "\n",
    "\n",
    "import sys\n",
    "sys.path.append(config[\"packageLocation\"][\"workingDir\"])\n",
    "sys.path.append(config[\"packageLocation\"][\"packageDir\"])\n",
    "\n",
    "\n",
    "from profit import ProcessMap\n",
    "pm = ProcessMap()"
   ]
  },
  {
   "cell_type": "markdown",
   "id": "4705232d",
   "metadata": {},
   "source": [
    "### Net Graph GENERATOR "
   ]
  },
  {
   "cell_type": "code",
   "execution_count": 9,
   "id": "19557d1e",
   "metadata": {},
   "outputs": [],
   "source": [
    "def Filter(net):\n",
    "        temp = str(net)\n",
    "        temp = temp.lower()\n",
    "        temp = re.sub(\"\\d\",'', temp)\n",
    "        temp = re.sub('node',' ', temp)\n",
    "        temp = re.sub('\\(', \"\", temp)\n",
    "        temp = re.sub('\\)', \"\", temp)\n",
    "        temp = re.sub('\\[', \"\", temp)\n",
    "        temp = re.sub('\\]', \"\", temp)\n",
    "        temp = re.sub('\\{', \"\", temp)\n",
    "        temp = re.sub('\\}', \"\", temp)\n",
    "        temp = re.sub('connections',' ', temp)\n",
    "        temp = re.sub('-', '', temp)\n",
    "        temp = re.sub(' ','', temp)\n",
    "        \n",
    "        temp = re.sub('\\:','', temp)\n",
    "        temp = re.sub('\\,',' ', temp)\n",
    "        temp = re.sub('\\'','', temp)\n",
    "        temp = re.sub('\\.','', temp)\n",
    "        temp = re.sub(' +', '', temp)\n",
    "        temp = re.sub('\"', '', temp)\n",
    "        return temp\n",
    "\n",
    "def inner_Filter(net):\n",
    "        temp = str(net)\n",
    "        temp = temp.lower()\n",
    "        temp = re.sub(\"\\d\",'', temp)\n",
    "        temp = re.sub('node',' ', temp)\n",
    "        temp = re.sub('\\(', \"\", temp)\n",
    "        temp = re.sub('\\)', \"\", temp)\n",
    "        temp = re.sub('\\[', \"\", temp)\n",
    "        temp = re.sub('\\]', \"\", temp)\n",
    "        temp = re.sub('\\{', \"\", temp)\n",
    "        temp = re.sub('\\}', \"\", temp)\n",
    "        temp = re.sub('connections',' ', temp)\n",
    "        temp = re.sub(' ','', temp)\n",
    "                \n",
    "        temp = re.sub('\\:',' ', temp)\n",
    "        temp = re.sub('\\,',' ', temp)\n",
    "        temp = re.sub('\\'','', temp)\n",
    "        temp = re.sub('\\.',' ', temp)\n",
    "        temp = re.sub(' +', ' ', temp)\n",
    "        temp = re.sub('\"', '', temp)\n",
    "        temp = re.sub('-', \"\",temp)\n",
    "        return temp\n",
    "    \n",
    "    \n",
    "def Final(net):\n",
    "        temp = str(net)\n",
    "        temp = temp.lower()\n",
    "        temp = re.sub(\"\\d\",'', temp)\n",
    "        temp = re.sub('node',' ', temp)\n",
    "        temp = re.sub('\\(', \"\", temp)\n",
    "        temp = re.sub('\\)', \"\", temp)\n",
    "        temp = re.sub('\\[', \"\", temp)\n",
    "        temp = re.sub('\\]', \"\", temp)\n",
    "        temp = re.sub('\\{', \"\", temp)\n",
    "        temp = re.sub('\\}', \"\", temp)\n",
    "        temp = re.sub('connections',' ', temp)\n",
    "        temp = re.sub(' ','', temp)\n",
    "        \n",
    "        temp = re.sub('\\:',' ', temp)\n",
    "        temp = re.sub('\\,',' ', temp)\n",
    "        temp = re.sub('\\'',' ', temp)\n",
    "        temp = re.sub('\\.',' ', temp)\n",
    "        temp = re.sub(' +', ' ', temp)\n",
    "        temp = re.sub('\"', ' ', temp)\n",
    "        HT = pd.DataFrame([x.split(' ') for x in temp.split('\\n')])\n",
    "        HT = HT.transpose()\n",
    "        HT = HT.drop([0]).reset_index(drop = True)\n",
    "        HT.columns = ['Task']\n",
    "        HT= HT.drop(index=HT.index[-1])\n",
    "        HT = HT.drop_duplicates(ignore_index=True)\n",
    "        HT = HT.sort_values(\"Task\").reset_index(drop = True)\n",
    "        #print(HT)\n",
    "    \n",
    "        return HT \n",
    "    \n",
    "\n",
    "    \n",
    "def MINER(in_data, act, path):\n",
    "\n",
    "    pm.set_log(data = in_data)\n",
    "          \n",
    "    # Have to change \"Optimize\" State when using Manual Path & Activity Rates\n",
    "    pm.set_params(optimize = False, aggregate = False) # Optimize = TRUE/FALSE # Agg_type = inner/outer\n",
    "        \n",
    "    # Will be activated only when \"OPTIMIZE\" from above is changed to \"False\"\n",
    "    pm.set_rates(activity_rate = act, path_rate = path ) # Rates = Activity & Path rate only \n",
    "       \n",
    "    # Logic on this (or in % , where 100% means complete utilization & 0% Vice Versa) \n",
    "    # Activity Rate = The precision/clarity of the model/graph being produced (i.e. when at 100 = all events are displayed, when at 5-10 low number of events with the most highest weightage are displayed)\n",
    "    # Path rate = the regulation of paths (i.e. aggregation of path in %)0 = high aggregation of path, 100 % super detailed paths to every case/task\n",
    "        \n",
    "    pm.update() # Updates settings\n",
    "        \n",
    "    #pm.render() # Renders the Final Process Model\n",
    "        \n",
    "    print(pm.get_rates())\n",
    "        \n",
    "    net = pm.get_graph() # Net Graph GENERATOR\n",
    "   \n",
    "    return net   # Returns the Net Graph\n",
    "\n",
    "\n",
    "def map_2_key(INPUT): # Converts the NET MAP into a Key:Dict Format \n",
    "    \n",
    "    OUTPUT = []\n",
    "    for key in INPUT:\n",
    "        OUTPUT.append(key)\n",
    "        \n",
    "    return OUTPUT\n",
    "\n",
    "\n",
    " \n",
    "def Key_SEGREGATOR(INPUT): # Seperates the Input into Source & Destination \n",
    "    \n",
    "    OUT_main = []\n",
    "    OUT_sub = []\n",
    "    for i in range(len(INPUT)):\n",
    "        OUT_main.append(inner_Filter(INPUT[i]).split(' ')[0])\n",
    "        OUT_sub.append(inner_Filter(INPUT[i]).split(' ')[1])  \n",
    "    \n",
    "    return (OUT_main, OUT_sub) # Returns 2 Variables Holding Source Events & Destination Activites according to the Process Map\n",
    "\n",
    "\n",
    "\n",
    "\n",
    "\n",
    "# This Function converts the Mainkey & Subkey into a Source & Destination Format \n",
    "# Where Each Source is aligned with its Linked Destinations under a clear Dictionary List format. \n",
    "def ONE_D_Mapper(mains, subs): \n",
    "\n",
    "    t_i = mains[0]                       # Stores the First Source Event\n",
    "    k = 0                                # While Counter\n",
    "    A = collections.defaultdict(list)    # The Empty Dictionary of Lists to store the One Dimensional Map. \n",
    "\n",
    "    while k < len(mains):         \n",
    "                                         # Dynamically create key\n",
    "        \n",
    "        if k == 0:                       # Specific to the first Iteration\n",
    "            key = mains[k] \n",
    "\n",
    "        if t_i == mains[k]:              # Specific to the First Iteration \n",
    "            value = subs[k]\n",
    "            A[key].append(value)\n",
    "            k+=1\n",
    "            \n",
    "        else:                            # All the Remaining Iterations follows this piece of code\n",
    "            \n",
    "            if t_i != mains[k]:\n",
    "                t_i = mains[k]\n",
    "                key = mains[k]\n",
    "                value = subs[k]\n",
    "                A[key].append(value)\n",
    "                k+=1\n",
    "                \n",
    "    return A # Returns a Dict List \n",
    "\n",
    "\n",
    "\n",
    "\n",
    "# Performs Validation if the Input Traces can be Traveresed throught the Process Model. \n",
    "def Wheeler(LOG, MAP):\n",
    "    \n",
    "    Flag_1 = 0 # OUTER FLAG (START POINT FLAG)\n",
    "    Flag_2 = 0 # INNER FLAG (END POINT FLAG)\n",
    "    \n",
    "    decider = [] # Resets for Every ID\n",
    "    \n",
    "    for m in range(0, len(LOG)-1, 1):\n",
    "        \n",
    "        Flag_1 = 0 # OUTER FLAG (START POINT FLAG)\n",
    "        Flag_2 = 0 # INNER FLAG (END POINT FLAG)\n",
    "        \n",
    "        State_1 = LOG[\"task\"][m]    # Present Index \n",
    "        State_2 = LOG[\"task\"][m+1]  # Present Index + 1`\n",
    "        \n",
    "        for n in range(len(MAP.keys())):\n",
    "            \n",
    "            if State_1 == list(MAP.keys())[n]:\n",
    "                Flag_1 = 1\n",
    "                Var_State = State_1 # Starting point of the line (INTIAL POINT)\n",
    "                \n",
    "                for p in range(len(MAP[Var_State])): # Checking the second state (destination)\n",
    "                    \n",
    "                    if State_2 == MAP[Var_State][p]:\n",
    "                        Flag_2 = 1\n",
    "                        decider.append(1) # 1 When it is completed \n",
    "                        \n",
    "    return decider # Return a list with 1's only when the Trace has be completely Covered by the Model (this works in realation to the size of the individual Trace)\n",
    "\n",
    "    \n",
    "# This function is created to remove the Start & End EVENTS generated when the Process Map is extracted\n",
    "def START_END_DEL(main, sub): \n",
    "    \n",
    "    SS = pd.DataFrame(sub,main).reset_index()\n",
    "    SS.columns = [\"mainkey\", \"subkey\"]\n",
    "    \n",
    "    flag = []\n",
    "\n",
    "    for i in range(len(SS)):\n",
    "        if SS[\"mainkey\"][i]=='start':\n",
    "            flag.append(i)\n",
    "        elif SS[\"subkey\"][i] == 'end':\n",
    "            flag.append(i)\n",
    "    \n",
    "    SS = SS.drop(flag).reset_index(drop = True)\n",
    "        \n",
    "    return (list(SS[\"mainkey\"]), list(SS[\"subkey\"]))\n",
    "\n"
   ]
  },
  {
   "cell_type": "markdown",
   "id": "c1f070a5",
   "metadata": {},
   "source": [
    "### Datasets"
   ]
  },
  {
   "cell_type": "code",
   "execution_count": 4,
   "id": "8611ce40",
   "metadata": {},
   "outputs": [
    {
     "data": {
      "text/html": [
       "<div>\n",
       "<style scoped>\n",
       "    .dataframe tbody tr th:only-of-type {\n",
       "        vertical-align: middle;\n",
       "    }\n",
       "\n",
       "    .dataframe tbody tr th {\n",
       "        vertical-align: top;\n",
       "    }\n",
       "\n",
       "    .dataframe thead th {\n",
       "        text-align: right;\n",
       "    }\n",
       "</style>\n",
       "<table border=\"1\" class=\"dataframe\">\n",
       "  <thead>\n",
       "    <tr style=\"text-align: right;\">\n",
       "      <th></th>\n",
       "      <th>case_id</th>\n",
       "      <th>task</th>\n",
       "      <th>timestamp</th>\n",
       "    </tr>\n",
       "  </thead>\n",
       "  <tbody>\n",
       "    <tr>\n",
       "      <th>0</th>\n",
       "      <td>4082</td>\n",
       "      <td>Red zone operator</td>\n",
       "      <td>2018-01-10 22:09:21</td>\n",
       "    </tr>\n",
       "    <tr>\n",
       "      <th>1</th>\n",
       "      <td>4082</td>\n",
       "      <td>Red zone doctor FD</td>\n",
       "      <td>2018-01-12 02:44:28</td>\n",
       "    </tr>\n",
       "    <tr>\n",
       "      <th>2</th>\n",
       "      <td>4173</td>\n",
       "      <td>Red zone operator</td>\n",
       "      <td>2018-01-12 11:16:53</td>\n",
       "    </tr>\n",
       "    <tr>\n",
       "      <th>3</th>\n",
       "      <td>4176</td>\n",
       "      <td>Red zone operator</td>\n",
       "      <td>2018-01-12 11:49:30</td>\n",
       "    </tr>\n",
       "    <tr>\n",
       "      <th>4</th>\n",
       "      <td>4176</td>\n",
       "      <td>Red zone doctor FD</td>\n",
       "      <td>2018-01-12 11:49:50</td>\n",
       "    </tr>\n",
       "    <tr>\n",
       "      <th>...</th>\n",
       "      <td>...</td>\n",
       "      <td>...</td>\n",
       "      <td>...</td>\n",
       "    </tr>\n",
       "    <tr>\n",
       "      <th>35353</th>\n",
       "      <td>9155</td>\n",
       "      <td>Notification operator</td>\n",
       "      <td>2018-12-31 09:03:14</td>\n",
       "    </tr>\n",
       "    <tr>\n",
       "      <th>35354</th>\n",
       "      <td>9362</td>\n",
       "      <td>Notification operator</td>\n",
       "      <td>2018-12-31 09:03:16</td>\n",
       "    </tr>\n",
       "    <tr>\n",
       "      <th>35355</th>\n",
       "      <td>9758</td>\n",
       "      <td>Notification operator</td>\n",
       "      <td>2018-12-31 09:03:23</td>\n",
       "    </tr>\n",
       "    <tr>\n",
       "      <th>35356</th>\n",
       "      <td>9938</td>\n",
       "      <td>Notification operator</td>\n",
       "      <td>2018-12-31 09:03:26</td>\n",
       "    </tr>\n",
       "    <tr>\n",
       "      <th>35357</th>\n",
       "      <td>10240</td>\n",
       "      <td>Notification operator</td>\n",
       "      <td>2018-12-31 09:03:31</td>\n",
       "    </tr>\n",
       "  </tbody>\n",
       "</table>\n",
       "<p>35358 rows × 3 columns</p>\n",
       "</div>"
      ],
      "text/plain": [
       "       case_id                   task            timestamp\n",
       "0         4082      Red zone operator  2018-01-10 22:09:21\n",
       "1         4082     Red zone doctor FD  2018-01-12 02:44:28\n",
       "2         4173      Red zone operator  2018-01-12 11:16:53\n",
       "3         4176      Red zone operator  2018-01-12 11:49:30\n",
       "4         4176     Red zone doctor FD  2018-01-12 11:49:50\n",
       "...        ...                    ...                  ...\n",
       "35353     9155  Notification operator  2018-12-31 09:03:14\n",
       "35354     9362  Notification operator  2018-12-31 09:03:16\n",
       "35355     9758  Notification operator  2018-12-31 09:03:23\n",
       "35356     9938  Notification operator  2018-12-31 09:03:26\n",
       "35357    10240  Notification operator  2018-12-31 09:03:31\n",
       "\n",
       "[35358 rows x 3 columns]"
      ]
     },
     "execution_count": 4,
     "metadata": {},
     "output_type": "execute_result"
    }
   ],
   "source": [
    "df = pd.read_csv(\"remote_monitoring_eng.csv\")\n",
    "\n",
    "# Removing the Rouge Event for This dataset\n",
    "df1 = df[df['task'] != 'New med program operator']\n",
    "df1 = df1.reset_index(drop = True)\n",
    "df1"
   ]
  },
  {
   "cell_type": "code",
   "execution_count": 5,
   "id": "7628e323",
   "metadata": {},
   "outputs": [
    {
     "data": {
      "text/plain": [
       "array([ 4082,  4173,  4176,  4187,  4191,  4217,  5265,  4388,  4392,\n",
       "        4422,  4454,  4401,  4476,  4553,  4494,  4545,  4521,  4539,\n",
       "        4511,  4562,  4554,  4564,  4583,  4626,  4757,  4838,  4842,\n",
       "        4837,  4844,  4914,  4868,  4960,  4982,  5079,  5095,  5159,\n",
       "        5085,  5298,  5301,  5226,  5335,  5294,  5322,  5329,  5355,\n",
       "        5361,  5389,  5372,  5376,  5441,  5443,  5424,  5457,  5534,\n",
       "        5558,  5568,  5601,  5410,  5706,  5699,  5717,  5750,  5752,\n",
       "         830,  5854,  5834,  5903,  5915,  5924,  5952,  5938,  5961,\n",
       "        6013,  6044,  6061,  6141,  6187,  6233,  6230,  6241,  6293,\n",
       "        6325,  6331,  6343,  6334,  6378,  6338,  6351,  6412,  6457,\n",
       "        6502,  6503,  6522,  6563,  6545,  6616,  6632,  6649,  6659,\n",
       "        6736,  6744,  6718,  6826,  6818,  6840,  6884,  6912,  6943,\n",
       "        7012,  7005,  7025,  7015,  7064,  7054,  7060,  7129,  7125,\n",
       "        7122,  7136,  7144,  7194,  7184,  7188,  7192,  7218,  7277,\n",
       "        7321,  7313,  7429,  7438,  7474,  7485,  7460,  7457,  7450,\n",
       "        7484,  7490,  7479,  7521,  7524,  7513,  7519,  7561,  7585,\n",
       "        7580,  7577,  7619,  7649,  7602,  7661,  7678,  7666,  7652,\n",
       "        7639,  7703,  7685,  7780,  7761,  7801,  7798,  7799,  7776,\n",
       "        7807,  7842,  7890,  7904,  7950,  7975,  7998,  8006,  8092,\n",
       "        8100,  8159,  8152,  8153,  8196,  8187,  8206,  8220,  8254,\n",
       "        8246,  8281,  8300,  8428,  8432,  8472,  8471,  8499,  8718,\n",
       "        8740,  8795,  8806,  8831,  8820,  8902,  9042,  9155,  9191,\n",
       "        9197,  9226,  9269,  9259,  9278,  9315,  9311,  9362,  9366,\n",
       "        9432,  9436,  9450,  9446,  9460,  9470,  9478,  9498,  9566,\n",
       "        9581,  9582,  9625,  9627,  9597,  9596,  9640,  9658,  9670,\n",
       "        9693,  9705,  9758,  9889,  9935,  9938, 10063, 10056, 10093,\n",
       "       10081, 10156, 10169, 10187, 10203, 10214, 10261, 10239, 10240,\n",
       "       10257, 10170, 10301, 10325, 10322, 10352, 10286, 10427, 10448,\n",
       "       10476, 10491, 10503, 10543, 10552, 10566, 10586, 10613, 10612,\n",
       "       10649, 10672, 10670, 10698, 10748, 10765, 10769, 10771, 10783,\n",
       "       10899, 10912], dtype=int64)"
      ]
     },
     "execution_count": 5,
     "metadata": {},
     "output_type": "execute_result"
    }
   ],
   "source": [
    "ids = df1[\"case_id\"].unique()\n",
    "ids"
   ]
  },
  {
   "cell_type": "markdown",
   "id": "12f2c134",
   "metadata": {},
   "source": [
    "### Prefixing"
   ]
  },
  {
   "cell_type": "code",
   "execution_count": 6,
   "id": "d3b76fb9",
   "metadata": {},
   "outputs": [
    {
     "name": "stderr",
     "output_type": "stream",
     "text": [
      "  0%|                                                                                       | 0/150291 [00:00<?, ?it/s]C:\\Users\\ashis\\AppData\\Local\\Temp\\ipykernel_1700\\2075314714.py:2: SettingWithCopyWarning: \n",
      "A value is trying to be set on a copy of a slice from a DataFrame\n",
      "\n",
      "See the caveats in the documentation: https://pandas.pydata.org/pandas-docs/stable/user_guide/indexing.html#returning-a-view-versus-a-copy\n",
      "  df1[\"task\"][j] = Filter(df1[\"task\"][j])\n",
      "100%|████████████████████████████████████████████████████████████████████████| 150291/150291 [00:22<00:00, 6750.23it/s]\n"
     ]
    }
   ],
   "source": [
    "for j in trange(len(df1)):\n",
    "    df1[\"task\"][j] = Filter(df1[\"task\"][j])"
   ]
  },
  {
   "cell_type": "code",
   "execution_count": null,
   "id": "c483af1f",
   "metadata": {},
   "outputs": [],
   "source": []
  },
  {
   "cell_type": "code",
   "execution_count": 6,
   "id": "20ae05be",
   "metadata": {},
   "outputs": [
    {
     "name": "stdout",
     "output_type": "stream",
     "text": [
      "{'activities': 20, 'paths': 20}\n"
     ]
    },
    {
     "data": {
      "text/plain": [
       "{('Yellow zone doctor', 'Yellow zone doctor FD'): (2415, 229),\n",
       " ('Red zone doctor', 'Red zone operator'): (2269, 228),\n",
       " ('Red zone doctor FD', 'Red zone operator'): (2245, 208),\n",
       " ('Yellow zone doctor FD', 'Notification operator'): (872, 153),\n",
       " ('Red zone doctor FD', 'Notification operator'): (537, 143),\n",
       " ('Red zone operator', 'Red zone doctor'): (3672, 251),\n",
       " ('Red zone doctor FD', 'Yellow zone doctor'): (976, 207),\n",
       " ('Yellow zone doctor FD', 'Yellow zone doctor'): (1073, 168),\n",
       " ('Red zone doctor', 'Red zone doctor FD'): (2305, 244),\n",
       " ('Red zone operator', 'Red zone doctor FD'): (2158, 238),\n",
       " ('Notification operator', 'end'): (131, 131),\n",
       " ('Yellow zone doctor FD', 'Red zone operator'): (642, 154),\n",
       " ('Notification operator', 'Yellow zone doctor'): (633, 133),\n",
       " ('start', 'Red zone operator'): (189, 189),\n",
       " ('Red zone doctor FD', 'Red zone doctor FD'): (1429, 184)}"
      ]
     },
     "execution_count": 6,
     "metadata": {},
     "output_type": "execute_result"
    }
   ],
   "source": [
    "MINER(df1, 20, 20) # The Process Map "
   ]
  },
  {
   "cell_type": "code",
   "execution_count": 7,
   "id": "f7d2a9ce",
   "metadata": {
    "scrolled": false
   },
   "outputs": [
    {
     "data": {
      "image/svg+xml": [
       "<?xml version=\"1.0\" encoding=\"UTF-8\" standalone=\"no\"?>\n",
       "<!DOCTYPE svg PUBLIC \"-//W3C//DTD SVG 1.1//EN\"\n",
       " \"http://www.w3.org/Graphics/SVG/1.1/DTD/svg11.dtd\">\n",
       "<!-- Generated by graphviz version 3.0.0 (20220226.1711)\n",
       " -->\n",
       "<!-- Pages: 1 -->\n",
       "<svg width=\"521pt\" height=\"506pt\"\n",
       " viewBox=\"0.00 0.00 521.40 505.80\" xmlns=\"http://www.w3.org/2000/svg\" xmlns:xlink=\"http://www.w3.org/1999/xlink\">\n",
       "<g id=\"graph0\" class=\"graph\" transform=\"scale(1 1) rotate(0) translate(4 501.8)\">\n",
       "<polygon fill=\"white\" stroke=\"transparent\" points=\"-4,4 -4,-501.8 517.4,-501.8 517.4,4 -4,4\"/>\n",
       "<!-- Yellow zone doctor FD -->\n",
       "<g id=\"node1\" class=\"node\">\n",
       "<title>Yellow zone doctor FD</title>\n",
       "<polygon fill=\"#ffffff\" stroke=\"black\" points=\"444.9,-493.4 271.9,-493.4 271.9,-455.4 444.9,-455.4 444.9,-493.4\"/>\n",
       "<text text-anchor=\"middle\" x=\"358.4\" y=\"-478.2\" font-family=\"Sans Not-Rotated 14\" font-size=\"14.00\">Yellow zone doctor FD</text>\n",
       "<text text-anchor=\"middle\" x=\"358.4\" y=\"-463.2\" font-family=\"Sans Not-Rotated 14\" font-size=\"14.00\">(3493)</text>\n",
       "</g>\n",
       "<!-- Red zone operator -->\n",
       "<g id=\"node2\" class=\"node\">\n",
       "<title>Red zone operator</title>\n",
       "<polygon fill=\"#1d2559\" stroke=\"black\" points=\"324.9,-400 179.9,-400 179.9,-362 324.9,-362 324.9,-400\"/>\n",
       "<text text-anchor=\"middle\" x=\"252.4\" y=\"-384.8\" font-family=\"Sans Not-Rotated 14\" font-size=\"14.00\" fill=\"white\">Red zone operator</text>\n",
       "<text text-anchor=\"middle\" x=\"252.4\" y=\"-369.8\" font-family=\"Sans Not-Rotated 14\" font-size=\"14.00\" fill=\"white\">(6719)</text>\n",
       "</g>\n",
       "<!-- Yellow zone doctor FD&#45;&gt;Red zone operator -->\n",
       "<g id=\"edge12\" class=\"edge\">\n",
       "<title>Yellow zone doctor FD&#45;&gt;Red zone operator</title>\n",
       "<path fill=\"none\" stroke=\"black\" stroke-width=\"1.58\" d=\"M337.46,-455.34C321.34,-441.45 298.89,-422.09 281.1,-406.75\"/>\n",
       "<polygon fill=\"black\" stroke=\"black\" stroke-width=\"1.58\" points=\"283.16,-403.9 273.3,-400.02 278.58,-409.2 283.16,-403.9\"/>\n",
       "<text text-anchor=\"middle\" x=\"322.4\" y=\"-421.8\" font-family=\"Sans Not-Rotated 14\" font-size=\"14.00\">642</text>\n",
       "</g>\n",
       "<!-- Notification operator -->\n",
       "<g id=\"node3\" class=\"node\">\n",
       "<title>Notification operator</title>\n",
       "<polygon fill=\"#a09dde\" stroke=\"black\" points=\"323.9,-133 164.9,-133 164.9,-95 323.9,-95 323.9,-133\"/>\n",
       "<text text-anchor=\"middle\" x=\"244.4\" y=\"-117.8\" font-family=\"Sans Not-Rotated 14\" font-size=\"14.00\">Notification operator</text>\n",
       "<text text-anchor=\"middle\" x=\"244.4\" y=\"-102.8\" font-family=\"Sans Not-Rotated 14\" font-size=\"14.00\">(4462)</text>\n",
       "</g>\n",
       "<!-- Yellow zone doctor FD&#45;&gt;Notification operator -->\n",
       "<g id=\"edge4\" class=\"edge\">\n",
       "<title>Yellow zone doctor FD&#45;&gt;Notification operator</title>\n",
       "<path fill=\"none\" stroke=\"black\" stroke-width=\"1.84\" d=\"M271.58,-463.23C185.51,-450.66 66.4,-425.43 66.4,-382 66.4,-382 66.4,-382 66.4,-202 66.4,-158.19 110.46,-136.44 154.74,-125.64\"/>\n",
       "<polygon fill=\"black\" stroke=\"black\" stroke-width=\"1.84\" points=\"155.79,-128.99 164.77,-123.37 154.24,-122.16 155.79,-128.99\"/>\n",
       "<text text-anchor=\"middle\" x=\"80.4\" y=\"-288.3\" font-family=\"Sans Not-Rotated 14\" font-size=\"14.00\">872</text>\n",
       "</g>\n",
       "<!-- Yellow zone doctor -->\n",
       "<g id=\"node5\" class=\"node\">\n",
       "<title>Yellow zone doctor</title>\n",
       "<polygon fill=\"#ffffff\" stroke=\"black\" points=\"462.9,-41 313.9,-41 313.9,-3 462.9,-3 462.9,-41\"/>\n",
       "<text text-anchor=\"middle\" x=\"388.4\" y=\"-25.8\" font-family=\"Sans Not-Rotated 14\" font-size=\"14.00\">Yellow zone doctor</text>\n",
       "<text text-anchor=\"middle\" x=\"388.4\" y=\"-10.8\" font-family=\"Sans Not-Rotated 14\" font-size=\"14.00\">(3359)</text>\n",
       "</g>\n",
       "<!-- Yellow zone doctor FD&#45;&gt;Yellow zone doctor -->\n",
       "<g id=\"edge8\" class=\"edge\">\n",
       "<title>Yellow zone doctor FD&#45;&gt;Yellow zone doctor</title>\n",
       "<path fill=\"none\" stroke=\"black\" stroke-width=\"2.06\" d=\"M411.53,-455.37C442.85,-441.01 476.4,-417.37 476.4,-382 476.4,-382 476.4,-382 476.4,-113 476.4,-84.81 454.05,-62.17 431.87,-46.65\"/>\n",
       "<polygon fill=\"black\" stroke=\"black\" stroke-width=\"2.06\" points=\"433.7,-43.66 423.43,-41.06 429.83,-49.5 433.7,-43.66\"/>\n",
       "<text text-anchor=\"middle\" x=\"494.9\" y=\"-243.8\" font-family=\"Sans Not-Rotated 14\" font-size=\"14.00\">1073</text>\n",
       "</g>\n",
       "<!-- Red zone doctor -->\n",
       "<g id=\"node4\" class=\"node\">\n",
       "<title>Red zone doctor</title>\n",
       "<polygon fill=\"#5661c6\" stroke=\"black\" points=\"241.9,-311 112.9,-311 112.9,-273 241.9,-273 241.9,-311\"/>\n",
       "<text text-anchor=\"middle\" x=\"177.4\" y=\"-295.8\" font-family=\"Sans Not-Rotated 14\" font-size=\"14.00\" fill=\"white\">Red zone doctor</text>\n",
       "<text text-anchor=\"middle\" x=\"177.4\" y=\"-280.8\" font-family=\"Sans Not-Rotated 14\" font-size=\"14.00\" fill=\"white\">(5275)</text>\n",
       "</g>\n",
       "<!-- Red zone operator&#45;&gt;Red zone doctor -->\n",
       "<g id=\"edge6\" class=\"edge\">\n",
       "<title>Red zone operator&#45;&gt;Red zone doctor</title>\n",
       "<path fill=\"none\" stroke=\"black\" stroke-width=\"5\" d=\"M188.41,-361.88C180.91,-357.21 174.22,-351.35 169.4,-344 164.97,-337.26 164.65,-328.95 166.09,-321.02\"/>\n",
       "<polygon fill=\"black\" stroke=\"black\" stroke-width=\"5\" points=\"170.33,-322.1 168.68,-311.31 161.87,-319.84 170.33,-322.1\"/>\n",
       "<text text-anchor=\"middle\" x=\"187.9\" y=\"-332.8\" font-family=\"Sans Not-Rotated 14\" font-size=\"14.00\">3672</text>\n",
       "</g>\n",
       "<!-- Red zone doctor FD -->\n",
       "<g id=\"node6\" class=\"node\">\n",
       "<title>Red zone doctor FD</title>\n",
       "<polygon fill=\"#1d2559\" stroke=\"black\" points=\"332.9,-222 179.9,-222 179.9,-184 332.9,-184 332.9,-222\"/>\n",
       "<text text-anchor=\"middle\" x=\"256.4\" y=\"-206.8\" font-family=\"Sans Not-Rotated 14\" font-size=\"14.00\" fill=\"white\">Red zone doctor FD</text>\n",
       "<text text-anchor=\"middle\" x=\"256.4\" y=\"-191.8\" font-family=\"Sans Not-Rotated 14\" font-size=\"14.00\" fill=\"white\">(6683)</text>\n",
       "</g>\n",
       "<!-- Red zone operator&#45;&gt;Red zone doctor FD -->\n",
       "<g id=\"edge10\" class=\"edge\">\n",
       "<title>Red zone operator&#45;&gt;Red zone doctor FD</title>\n",
       "<path fill=\"none\" stroke=\"black\" stroke-width=\"3.29\" d=\"M271.79,-361.83C284.03,-348.98 298.74,-330.59 305.4,-311 310.83,-295.01 310.53,-289.09 305.4,-273 300.39,-257.31 290.37,-242.12 280.69,-230.01\"/>\n",
       "<polygon fill=\"black\" stroke=\"black\" stroke-width=\"3.29\" points=\"283.21,-227.57 274.11,-222.15 277.84,-232.07 283.21,-227.57\"/>\n",
       "<text text-anchor=\"middle\" x=\"326.9\" y=\"-288.3\" font-family=\"Sans Not-Rotated 14\" font-size=\"14.00\">2158</text>\n",
       "</g>\n",
       "<!-- Notification operator&#45;&gt;Yellow zone doctor -->\n",
       "<g id=\"edge13\" class=\"edge\">\n",
       "<title>Notification operator&#45;&gt;Yellow zone doctor</title>\n",
       "<path fill=\"none\" stroke=\"black\" stroke-width=\"1.57\" d=\"M269.35,-94.93C283.51,-84.89 301.7,-72.37 318.4,-62 327.08,-56.6 336.55,-51.09 345.64,-45.98\"/>\n",
       "<polygon fill=\"black\" stroke=\"black\" stroke-width=\"1.57\" points=\"347.52,-48.93 354.55,-41.01 344.11,-42.82 347.52,-48.93\"/>\n",
       "<text text-anchor=\"middle\" x=\"332.4\" y=\"-65.8\" font-family=\"Sans Not-Rotated 14\" font-size=\"14.00\">633</text>\n",
       "</g>\n",
       "<!-- end -->\n",
       "<g id=\"node8\" class=\"node\">\n",
       "<title>end</title>\n",
       "<ellipse fill=\"#ea4126\" stroke=\"black\" cx=\"244.4\" cy=\"-22\" rx=\"18\" ry=\"18\"/>\n",
       "<ellipse fill=\"none\" stroke=\"black\" cx=\"244.4\" cy=\"-22\" rx=\"22\" ry=\"22\"/>\n",
       "</g>\n",
       "<!-- Notification operator&#45;&gt;end -->\n",
       "<g id=\"edge11\" class=\"edge\">\n",
       "<title>Notification operator&#45;&gt;end</title>\n",
       "<path fill=\"none\" stroke=\"black\" stroke-dasharray=\"5,2\" d=\"M244.4,-94.79C244.4,-83.2 244.4,-67.88 244.4,-54.37\"/>\n",
       "<polygon fill=\"black\" stroke=\"black\" points=\"247.9,-54.03 244.4,-44.03 240.9,-54.03 247.9,-54.03\"/>\n",
       "<text text-anchor=\"middle\" x=\"258.4\" y=\"-65.8\" font-family=\"Sans Not-Rotated 14\" font-size=\"14.00\">131</text>\n",
       "</g>\n",
       "<!-- Red zone doctor&#45;&gt;Red zone operator -->\n",
       "<g id=\"edge2\" class=\"edge\">\n",
       "<title>Red zone doctor&#45;&gt;Red zone operator</title>\n",
       "<path fill=\"none\" stroke=\"black\" stroke-width=\"3.42\" d=\"M192.92,-311C203.67,-323.48 218.16,-340.28 230.14,-354.18\"/>\n",
       "<polygon fill=\"black\" stroke=\"black\" stroke-width=\"3.42\" points=\"227.68,-356.68 236.86,-361.97 232.98,-352.11 227.68,-356.68\"/>\n",
       "<text text-anchor=\"middle\" x=\"236.9\" y=\"-332.8\" font-family=\"Sans Not-Rotated 14\" font-size=\"14.00\">2269</text>\n",
       "</g>\n",
       "<!-- Red zone doctor&#45;&gt;Red zone doctor FD -->\n",
       "<g id=\"edge9\" class=\"edge\">\n",
       "<title>Red zone doctor&#45;&gt;Red zone doctor FD</title>\n",
       "<path fill=\"none\" stroke=\"black\" stroke-width=\"3.46\" d=\"M193.77,-272.97C205.1,-260.49 220.36,-243.69 232.98,-229.79\"/>\n",
       "<polygon fill=\"black\" stroke=\"black\" stroke-width=\"3.46\" points=\"235.92,-231.76 240.05,-222 230.74,-227.05 235.92,-231.76\"/>\n",
       "<text text-anchor=\"middle\" x=\"239.9\" y=\"-243.8\" font-family=\"Sans Not-Rotated 14\" font-size=\"14.00\">2305</text>\n",
       "</g>\n",
       "<!-- Yellow zone doctor&#45;&gt;Yellow zone doctor FD -->\n",
       "<g id=\"edge1\" class=\"edge\">\n",
       "<title>Yellow zone doctor&#45;&gt;Yellow zone doctor FD</title>\n",
       "<path fill=\"none\" stroke=\"black\" stroke-width=\"3.58\" d=\"M397.57,-41.1C405.73,-58.92 416.4,-87.15 416.4,-113 416.4,-382 416.4,-382 416.4,-382 416.4,-407.1 400.61,-430.88 385.51,-447.89\"/>\n",
       "<polygon fill=\"black\" stroke=\"black\" stroke-width=\"3.58\" points=\"382.95,-445.52 378.68,-455.21 388.06,-450.29 382.95,-445.52\"/>\n",
       "<text text-anchor=\"middle\" x=\"434.9\" y=\"-243.8\" font-family=\"Sans Not-Rotated 14\" font-size=\"14.00\">2415</text>\n",
       "</g>\n",
       "<!-- Red zone doctor FD&#45;&gt;Red zone operator -->\n",
       "<g id=\"edge3\" class=\"edge\">\n",
       "<title>Red zone doctor FD&#45;&gt;Red zone operator</title>\n",
       "<path fill=\"none\" stroke=\"black\" stroke-width=\"3.39\" d=\"M260.04,-222.24C261.01,-227.91 261.92,-234.19 262.4,-240 266.21,-286.08 264.61,-298.05 259.4,-344 259.11,-346.55 258.74,-349.18 258.32,-351.82\"/>\n",
       "<polygon fill=\"black\" stroke=\"black\" stroke-width=\"3.39\" points=\"254.85,-351.31 256.52,-361.77 261.74,-352.55 254.85,-351.31\"/>\n",
       "<text text-anchor=\"middle\" x=\"282.9\" y=\"-288.3\" font-family=\"Sans Not-Rotated 14\" font-size=\"14.00\">2245</text>\n",
       "</g>\n",
       "<!-- Red zone doctor FD&#45;&gt;Notification operator -->\n",
       "<g id=\"edge5\" class=\"edge\">\n",
       "<title>Red zone doctor FD&#45;&gt;Notification operator</title>\n",
       "<path fill=\"none\" stroke=\"black\" stroke-width=\"1.46\" d=\"M253.91,-183.97C252.29,-172.19 250.13,-156.56 248.28,-143.16\"/>\n",
       "<polygon fill=\"black\" stroke=\"black\" stroke-width=\"1.46\" points=\"251.71,-142.43 246.88,-133 244.78,-143.39 251.71,-142.43\"/>\n",
       "<text text-anchor=\"middle\" x=\"264.4\" y=\"-154.8\" font-family=\"Sans Not-Rotated 14\" font-size=\"14.00\">537</text>\n",
       "</g>\n",
       "<!-- Red zone doctor FD&#45;&gt;Yellow zone doctor -->\n",
       "<g id=\"edge7\" class=\"edge\">\n",
       "<title>Red zone doctor FD&#45;&gt;Yellow zone doctor</title>\n",
       "<path fill=\"none\" stroke=\"black\" stroke-width=\"1.95\" d=\"M281.17,-183.8C297.48,-170.94 318.48,-152.55 333.4,-133 352.89,-107.46 368.48,-73.93 378.01,-50.63\"/>\n",
       "<polygon fill=\"black\" stroke=\"black\" stroke-width=\"1.95\" points=\"381.26,-51.91 381.72,-41.33 374.76,-49.32 381.26,-51.91\"/>\n",
       "<text text-anchor=\"middle\" x=\"370.4\" y=\"-110.3\" font-family=\"Sans Not-Rotated 14\" font-size=\"14.00\">976</text>\n",
       "</g>\n",
       "<!-- Red zone doctor FD&#45;&gt;Red zone doctor FD -->\n",
       "<g id=\"edge15\" class=\"edge\">\n",
       "<title>Red zone doctor FD&#45;&gt;Red zone doctor FD</title>\n",
       "<path fill=\"none\" stroke=\"black\" stroke-width=\"2.47\" d=\"M333.15,-210.36C343.79,-209.15 350.9,-206.7 350.9,-203 350.9,-200.63 347.98,-198.77 343.09,-197.43\"/>\n",
       "<polygon fill=\"black\" stroke=\"black\" stroke-width=\"2.47\" points=\"343.61,-193.97 333.15,-195.64 342.37,-200.85 343.61,-193.97\"/>\n",
       "<text text-anchor=\"middle\" x=\"369.4\" y=\"-199.3\" font-family=\"Sans Not-Rotated 14\" font-size=\"14.00\">1429</text>\n",
       "</g>\n",
       "<!-- start -->\n",
       "<g id=\"node7\" class=\"node\">\n",
       "<title>start</title>\n",
       "<ellipse fill=\"#95d600\" stroke=\"black\" cx=\"23.4\" cy=\"-474.4\" rx=\"23.3\" ry=\"23.3\"/>\n",
       "<text text-anchor=\"middle\" x=\"23.4\" y=\"-470.7\" font-family=\"Sans Not-Rotated 14\" font-size=\"14.00\">272</text>\n",
       "</g>\n",
       "<!-- start&#45;&gt;Red zone operator -->\n",
       "<g id=\"edge14\" class=\"edge\">\n",
       "<title>start&#45;&gt;Red zone operator</title>\n",
       "<path fill=\"none\" stroke=\"black\" stroke-dasharray=\"5,2\" d=\"M44.94,-464.8C79.6,-450.97 148.78,-423.35 197.71,-403.83\"/>\n",
       "<polygon fill=\"black\" stroke=\"black\" points=\"199.22,-406.99 207.21,-400.04 196.63,-400.49 199.22,-406.99\"/>\n",
       "<text text-anchor=\"middle\" x=\"172.4\" y=\"-421.8\" font-family=\"Sans Not-Rotated 14\" font-size=\"14.00\">189</text>\n",
       "</g>\n",
       "</g>\n",
       "</svg>\n"
      ],
      "text/plain": [
       "<graphviz.graphs.Digraph at 0x262d3307610>"
      ]
     },
     "execution_count": 7,
     "metadata": {},
     "output_type": "execute_result"
    }
   ],
   "source": [
    "pm.render()"
   ]
  },
  {
   "cell_type": "markdown",
   "id": "bb28d201",
   "metadata": {},
   "source": [
    "# FINAL EXECUTION HERE...!!!"
   ]
  },
  {
   "cell_type": "markdown",
   "id": "97cc8718",
   "metadata": {},
   "source": [
    "### Fitness Calculation \n",
    "\n",
    "#### Activity is Varied (0-100) \n",
    "#### Path is Constant Steps (0,20,40,60,80,100)"
   ]
  },
  {
   "cell_type": "code",
   "execution_count": 11,
   "id": "f823fd80",
   "metadata": {
    "scrolled": true
   },
   "outputs": [
    {
     "name": "stderr",
     "output_type": "stream",
     "text": [
      "  0%|                                                                                            | 0/6 [00:00<?, ?it/s]\n",
      "  0%|                                                                                          | 0/101 [00:00<?, ?it/s]\u001b[AC:\\Users\\ashis\\AppData\\Local\\Temp\\ipykernel_34424\\3913433264.py:43: SettingWithCopyWarning: \n",
      "A value is trying to be set on a copy of a slice from a DataFrame\n",
      "\n",
      "See the caveats in the documentation: https://pandas.pydata.org/pandas-docs/stable/user_guide/indexing.html#returning-a-view-versus-a-copy\n",
      "  Trace[\"task\"][j] = Filter(Trace[\"task\"][j]) # FILTEREING THE INDIVIDUAL TRACE INPUT FROM ABOVE\n"
     ]
    },
    {
     "name": "stdout",
     "output_type": "stream",
     "text": [
      "{'activities': 0, 'paths': 5}\n"
     ]
    },
    {
     "name": "stderr",
     "output_type": "stream",
     "text": [
      "\n",
      "  1%|▊                                                                                 | 1/101 [00:09<16:34,  9.95s/it]\u001b[A"
     ]
    },
    {
     "name": "stdout",
     "output_type": "stream",
     "text": [
      "Fitness =  0.0\n",
      "{'activities': 1, 'paths': 5}\n"
     ]
    },
    {
     "name": "stderr",
     "output_type": "stream",
     "text": [
      "C:\\Users\\ashis\\AppData\\Local\\Temp\\ipykernel_34424\\3913433264.py:43: SettingWithCopyWarning: \n",
      "A value is trying to be set on a copy of a slice from a DataFrame\n",
      "\n",
      "See the caveats in the documentation: https://pandas.pydata.org/pandas-docs/stable/user_guide/indexing.html#returning-a-view-versus-a-copy\n",
      "  Trace[\"task\"][j] = Filter(Trace[\"task\"][j]) # FILTEREING THE INDIVIDUAL TRACE INPUT FROM ABOVE\n",
      "\n",
      "  2%|█▌                                                                                | 2/101 [00:17<14:00,  8.48s/it]\u001b[A"
     ]
    },
    {
     "name": "stdout",
     "output_type": "stream",
     "text": [
      "Fitness =  0.0\n",
      "{'activities': 2, 'paths': 5}\n"
     ]
    },
    {
     "name": "stderr",
     "output_type": "stream",
     "text": [
      "C:\\Users\\ashis\\AppData\\Local\\Temp\\ipykernel_34424\\3913433264.py:43: SettingWithCopyWarning: \n",
      "A value is trying to be set on a copy of a slice from a DataFrame\n",
      "\n",
      "See the caveats in the documentation: https://pandas.pydata.org/pandas-docs/stable/user_guide/indexing.html#returning-a-view-versus-a-copy\n",
      "  Trace[\"task\"][j] = Filter(Trace[\"task\"][j]) # FILTEREING THE INDIVIDUAL TRACE INPUT FROM ABOVE\n",
      "\n",
      "  3%|██▍                                                                               | 3/101 [00:24<13:07,  8.03s/it]\u001b[A"
     ]
    },
    {
     "name": "stdout",
     "output_type": "stream",
     "text": [
      "Fitness =  0.0\n",
      "{'activities': 3, 'paths': 5}\n"
     ]
    },
    {
     "name": "stderr",
     "output_type": "stream",
     "text": [
      "C:\\Users\\ashis\\AppData\\Local\\Temp\\ipykernel_34424\\3913433264.py:43: SettingWithCopyWarning: \n",
      "A value is trying to be set on a copy of a slice from a DataFrame\n",
      "\n",
      "See the caveats in the documentation: https://pandas.pydata.org/pandas-docs/stable/user_guide/indexing.html#returning-a-view-versus-a-copy\n",
      "  Trace[\"task\"][j] = Filter(Trace[\"task\"][j]) # FILTEREING THE INDIVIDUAL TRACE INPUT FROM ABOVE\n",
      "\n",
      "  4%|███▏                                                                              | 4/101 [00:32<12:41,  7.85s/it]\u001b[A"
     ]
    },
    {
     "name": "stdout",
     "output_type": "stream",
     "text": [
      "Fitness =  0.0\n",
      "{'activities': 4, 'paths': 5}\n"
     ]
    },
    {
     "name": "stderr",
     "output_type": "stream",
     "text": [
      "C:\\Users\\ashis\\AppData\\Local\\Temp\\ipykernel_34424\\3913433264.py:43: SettingWithCopyWarning: \n",
      "A value is trying to be set on a copy of a slice from a DataFrame\n",
      "\n",
      "See the caveats in the documentation: https://pandas.pydata.org/pandas-docs/stable/user_guide/indexing.html#returning-a-view-versus-a-copy\n",
      "  Trace[\"task\"][j] = Filter(Trace[\"task\"][j]) # FILTEREING THE INDIVIDUAL TRACE INPUT FROM ABOVE\n",
      "\n",
      "  5%|████                                                                              | 5/101 [00:40<12:26,  7.78s/it]\u001b[A"
     ]
    },
    {
     "name": "stdout",
     "output_type": "stream",
     "text": [
      "Fitness =  1.1029411764705883\n",
      "{'activities': 5, 'paths': 5}\n"
     ]
    },
    {
     "name": "stderr",
     "output_type": "stream",
     "text": [
      "C:\\Users\\ashis\\AppData\\Local\\Temp\\ipykernel_34424\\3913433264.py:43: SettingWithCopyWarning: \n",
      "A value is trying to be set on a copy of a slice from a DataFrame\n",
      "\n",
      "See the caveats in the documentation: https://pandas.pydata.org/pandas-docs/stable/user_guide/indexing.html#returning-a-view-versus-a-copy\n",
      "  Trace[\"task\"][j] = Filter(Trace[\"task\"][j]) # FILTEREING THE INDIVIDUAL TRACE INPUT FROM ABOVE\n",
      "\n",
      "  6%|████▊                                                                             | 6/101 [00:47<12:17,  7.77s/it]\u001b[A"
     ]
    },
    {
     "name": "stdout",
     "output_type": "stream",
     "text": [
      "Fitness =  1.1029411764705883\n",
      "{'activities': 6, 'paths': 5}\n"
     ]
    },
    {
     "name": "stderr",
     "output_type": "stream",
     "text": [
      "C:\\Users\\ashis\\AppData\\Local\\Temp\\ipykernel_34424\\3913433264.py:43: SettingWithCopyWarning: \n",
      "A value is trying to be set on a copy of a slice from a DataFrame\n",
      "\n",
      "See the caveats in the documentation: https://pandas.pydata.org/pandas-docs/stable/user_guide/indexing.html#returning-a-view-versus-a-copy\n",
      "  Trace[\"task\"][j] = Filter(Trace[\"task\"][j]) # FILTEREING THE INDIVIDUAL TRACE INPUT FROM ABOVE\n",
      "\n",
      "  7%|█████▋                                                                            | 7/101 [00:55<11:55,  7.61s/it]\u001b[A"
     ]
    },
    {
     "name": "stdout",
     "output_type": "stream",
     "text": [
      "Fitness =  1.1029411764705883\n",
      "{'activities': 7, 'paths': 5}\n"
     ]
    },
    {
     "name": "stderr",
     "output_type": "stream",
     "text": [
      "C:\\Users\\ashis\\AppData\\Local\\Temp\\ipykernel_34424\\3913433264.py:43: SettingWithCopyWarning: \n",
      "A value is trying to be set on a copy of a slice from a DataFrame\n",
      "\n",
      "See the caveats in the documentation: https://pandas.pydata.org/pandas-docs/stable/user_guide/indexing.html#returning-a-view-versus-a-copy\n",
      "  Trace[\"task\"][j] = Filter(Trace[\"task\"][j]) # FILTEREING THE INDIVIDUAL TRACE INPUT FROM ABOVE\n",
      "\n",
      "  8%|██████▍                                                                           | 8/101 [01:02<11:31,  7.44s/it]\u001b[A"
     ]
    },
    {
     "name": "stdout",
     "output_type": "stream",
     "text": [
      "Fitness =  1.1029411764705883\n",
      "{'activities': 8, 'paths': 5}\n"
     ]
    },
    {
     "name": "stderr",
     "output_type": "stream",
     "text": [
      "C:\\Users\\ashis\\AppData\\Local\\Temp\\ipykernel_34424\\3913433264.py:43: SettingWithCopyWarning: \n",
      "A value is trying to be set on a copy of a slice from a DataFrame\n",
      "\n",
      "See the caveats in the documentation: https://pandas.pydata.org/pandas-docs/stable/user_guide/indexing.html#returning-a-view-versus-a-copy\n",
      "  Trace[\"task\"][j] = Filter(Trace[\"task\"][j]) # FILTEREING THE INDIVIDUAL TRACE INPUT FROM ABOVE\n",
      "\n",
      "  9%|███████▎                                                                          | 9/101 [01:09<11:17,  7.37s/it]\u001b[A"
     ]
    },
    {
     "name": "stdout",
     "output_type": "stream",
     "text": [
      "Fitness =  1.1029411764705883\n",
      "{'activities': 9, 'paths': 5}\n"
     ]
    },
    {
     "name": "stderr",
     "output_type": "stream",
     "text": [
      "C:\\Users\\ashis\\AppData\\Local\\Temp\\ipykernel_34424\\3913433264.py:43: SettingWithCopyWarning: \n",
      "A value is trying to be set on a copy of a slice from a DataFrame\n",
      "\n",
      "See the caveats in the documentation: https://pandas.pydata.org/pandas-docs/stable/user_guide/indexing.html#returning-a-view-versus-a-copy\n",
      "  Trace[\"task\"][j] = Filter(Trace[\"task\"][j]) # FILTEREING THE INDIVIDUAL TRACE INPUT FROM ABOVE\n",
      "\n",
      " 10%|████████                                                                         | 10/101 [01:16<11:05,  7.31s/it]\u001b[A"
     ]
    },
    {
     "name": "stdout",
     "output_type": "stream",
     "text": [
      "Fitness =  1.1029411764705883\n",
      "{'activities': 10, 'paths': 5}\n"
     ]
    },
    {
     "name": "stderr",
     "output_type": "stream",
     "text": [
      "C:\\Users\\ashis\\AppData\\Local\\Temp\\ipykernel_34424\\3913433264.py:43: SettingWithCopyWarning: \n",
      "A value is trying to be set on a copy of a slice from a DataFrame\n",
      "\n",
      "See the caveats in the documentation: https://pandas.pydata.org/pandas-docs/stable/user_guide/indexing.html#returning-a-view-versus-a-copy\n",
      "  Trace[\"task\"][j] = Filter(Trace[\"task\"][j]) # FILTEREING THE INDIVIDUAL TRACE INPUT FROM ABOVE\n",
      "\n",
      " 11%|████████▊                                                                        | 11/101 [01:23<10:50,  7.23s/it]\u001b[A"
     ]
    },
    {
     "name": "stdout",
     "output_type": "stream",
     "text": [
      "Fitness =  1.1029411764705883\n",
      "{'activities': 11, 'paths': 5}\n"
     ]
    },
    {
     "name": "stderr",
     "output_type": "stream",
     "text": [
      "C:\\Users\\ashis\\AppData\\Local\\Temp\\ipykernel_34424\\3913433264.py:43: SettingWithCopyWarning: \n",
      "A value is trying to be set on a copy of a slice from a DataFrame\n",
      "\n",
      "See the caveats in the documentation: https://pandas.pydata.org/pandas-docs/stable/user_guide/indexing.html#returning-a-view-versus-a-copy\n",
      "  Trace[\"task\"][j] = Filter(Trace[\"task\"][j]) # FILTEREING THE INDIVIDUAL TRACE INPUT FROM ABOVE\n",
      "\n",
      " 12%|█████████▌                                                                       | 12/101 [01:30<10:36,  7.16s/it]\u001b[A"
     ]
    },
    {
     "name": "stdout",
     "output_type": "stream",
     "text": [
      "Fitness =  1.1029411764705883\n",
      "{'activities': 12, 'paths': 5}\n"
     ]
    },
    {
     "name": "stderr",
     "output_type": "stream",
     "text": [
      "C:\\Users\\ashis\\AppData\\Local\\Temp\\ipykernel_34424\\3913433264.py:43: SettingWithCopyWarning: \n",
      "A value is trying to be set on a copy of a slice from a DataFrame\n",
      "\n",
      "See the caveats in the documentation: https://pandas.pydata.org/pandas-docs/stable/user_guide/indexing.html#returning-a-view-versus-a-copy\n",
      "  Trace[\"task\"][j] = Filter(Trace[\"task\"][j]) # FILTEREING THE INDIVIDUAL TRACE INPUT FROM ABOVE\n",
      "\n",
      " 13%|██████████▍                                                                      | 13/101 [01:37<10:25,  7.10s/it]\u001b[A"
     ]
    },
    {
     "name": "stdout",
     "output_type": "stream",
     "text": [
      "Fitness =  1.1029411764705883\n",
      "{'activities': 13, 'paths': 5}\n"
     ]
    },
    {
     "name": "stderr",
     "output_type": "stream",
     "text": [
      "C:\\Users\\ashis\\AppData\\Local\\Temp\\ipykernel_34424\\3913433264.py:43: SettingWithCopyWarning: \n",
      "A value is trying to be set on a copy of a slice from a DataFrame\n",
      "\n",
      "See the caveats in the documentation: https://pandas.pydata.org/pandas-docs/stable/user_guide/indexing.html#returning-a-view-versus-a-copy\n",
      "  Trace[\"task\"][j] = Filter(Trace[\"task\"][j]) # FILTEREING THE INDIVIDUAL TRACE INPUT FROM ABOVE\n",
      "\n",
      " 14%|███████████▏                                                                     | 14/101 [01:44<10:15,  7.07s/it]\u001b[A"
     ]
    },
    {
     "name": "stdout",
     "output_type": "stream",
     "text": [
      "Fitness =  1.1029411764705883\n",
      "{'activities': 14, 'paths': 5}\n"
     ]
    },
    {
     "name": "stderr",
     "output_type": "stream",
     "text": [
      "C:\\Users\\ashis\\AppData\\Local\\Temp\\ipykernel_34424\\3913433264.py:43: SettingWithCopyWarning: \n",
      "A value is trying to be set on a copy of a slice from a DataFrame\n",
      "\n",
      "See the caveats in the documentation: https://pandas.pydata.org/pandas-docs/stable/user_guide/indexing.html#returning-a-view-versus-a-copy\n",
      "  Trace[\"task\"][j] = Filter(Trace[\"task\"][j]) # FILTEREING THE INDIVIDUAL TRACE INPUT FROM ABOVE\n",
      "\n",
      " 15%|████████████                                                                     | 15/101 [01:51<10:07,  7.06s/it]\u001b[A"
     ]
    },
    {
     "name": "stdout",
     "output_type": "stream",
     "text": [
      "Fitness =  1.4705882352941175\n",
      "{'activities': 15, 'paths': 5}\n"
     ]
    },
    {
     "name": "stderr",
     "output_type": "stream",
     "text": [
      "C:\\Users\\ashis\\AppData\\Local\\Temp\\ipykernel_34424\\3913433264.py:43: SettingWithCopyWarning: \n",
      "A value is trying to be set on a copy of a slice from a DataFrame\n",
      "\n",
      "See the caveats in the documentation: https://pandas.pydata.org/pandas-docs/stable/user_guide/indexing.html#returning-a-view-versus-a-copy\n",
      "  Trace[\"task\"][j] = Filter(Trace[\"task\"][j]) # FILTEREING THE INDIVIDUAL TRACE INPUT FROM ABOVE\n",
      "\n",
      " 16%|████████████▊                                                                    | 16/101 [01:58<09:57,  7.03s/it]\u001b[A"
     ]
    },
    {
     "name": "stdout",
     "output_type": "stream",
     "text": [
      "Fitness =  1.4705882352941175\n",
      "{'activities': 16, 'paths': 5}\n"
     ]
    },
    {
     "name": "stderr",
     "output_type": "stream",
     "text": [
      "C:\\Users\\ashis\\AppData\\Local\\Temp\\ipykernel_34424\\3913433264.py:43: SettingWithCopyWarning: \n",
      "A value is trying to be set on a copy of a slice from a DataFrame\n",
      "\n",
      "See the caveats in the documentation: https://pandas.pydata.org/pandas-docs/stable/user_guide/indexing.html#returning-a-view-versus-a-copy\n",
      "  Trace[\"task\"][j] = Filter(Trace[\"task\"][j]) # FILTEREING THE INDIVIDUAL TRACE INPUT FROM ABOVE\n",
      "\n",
      " 17%|█████████████▋                                                                   | 17/101 [02:05<09:49,  7.01s/it]\u001b[A"
     ]
    },
    {
     "name": "stdout",
     "output_type": "stream",
     "text": [
      "Fitness =  1.4705882352941175\n",
      "{'activities': 17, 'paths': 5}\n"
     ]
    },
    {
     "name": "stderr",
     "output_type": "stream",
     "text": [
      "C:\\Users\\ashis\\AppData\\Local\\Temp\\ipykernel_34424\\3913433264.py:43: SettingWithCopyWarning: \n",
      "A value is trying to be set on a copy of a slice from a DataFrame\n",
      "\n",
      "See the caveats in the documentation: https://pandas.pydata.org/pandas-docs/stable/user_guide/indexing.html#returning-a-view-versus-a-copy\n",
      "  Trace[\"task\"][j] = Filter(Trace[\"task\"][j]) # FILTEREING THE INDIVIDUAL TRACE INPUT FROM ABOVE\n",
      "\n",
      " 18%|██████████████▍                                                                  | 18/101 [02:12<09:41,  7.00s/it]\u001b[A"
     ]
    },
    {
     "name": "stdout",
     "output_type": "stream",
     "text": [
      "Fitness =  1.4705882352941175\n",
      "{'activities': 18, 'paths': 5}\n"
     ]
    },
    {
     "name": "stderr",
     "output_type": "stream",
     "text": [
      "C:\\Users\\ashis\\AppData\\Local\\Temp\\ipykernel_34424\\3913433264.py:43: SettingWithCopyWarning: \n",
      "A value is trying to be set on a copy of a slice from a DataFrame\n",
      "\n",
      "See the caveats in the documentation: https://pandas.pydata.org/pandas-docs/stable/user_guide/indexing.html#returning-a-view-versus-a-copy\n",
      "  Trace[\"task\"][j] = Filter(Trace[\"task\"][j]) # FILTEREING THE INDIVIDUAL TRACE INPUT FROM ABOVE\n",
      "\n",
      " 19%|███████████████▏                                                                 | 19/101 [02:19<09:34,  7.00s/it]\u001b[A"
     ]
    },
    {
     "name": "stdout",
     "output_type": "stream",
     "text": [
      "Fitness =  2.5735294117647056\n",
      "{'activities': 19, 'paths': 5}\n"
     ]
    },
    {
     "name": "stderr",
     "output_type": "stream",
     "text": [
      "C:\\Users\\ashis\\AppData\\Local\\Temp\\ipykernel_34424\\3913433264.py:43: SettingWithCopyWarning: \n",
      "A value is trying to be set on a copy of a slice from a DataFrame\n",
      "\n",
      "See the caveats in the documentation: https://pandas.pydata.org/pandas-docs/stable/user_guide/indexing.html#returning-a-view-versus-a-copy\n",
      "  Trace[\"task\"][j] = Filter(Trace[\"task\"][j]) # FILTEREING THE INDIVIDUAL TRACE INPUT FROM ABOVE\n",
      "\n",
      " 20%|████████████████                                                                 | 20/101 [02:26<09:28,  7.01s/it]\u001b[A"
     ]
    },
    {
     "name": "stdout",
     "output_type": "stream",
     "text": [
      "Fitness =  2.5735294117647056\n",
      "{'activities': 20, 'paths': 5}\n"
     ]
    },
    {
     "name": "stderr",
     "output_type": "stream",
     "text": [
      "C:\\Users\\ashis\\AppData\\Local\\Temp\\ipykernel_34424\\3913433264.py:43: SettingWithCopyWarning: \n",
      "A value is trying to be set on a copy of a slice from a DataFrame\n",
      "\n",
      "See the caveats in the documentation: https://pandas.pydata.org/pandas-docs/stable/user_guide/indexing.html#returning-a-view-versus-a-copy\n",
      "  Trace[\"task\"][j] = Filter(Trace[\"task\"][j]) # FILTEREING THE INDIVIDUAL TRACE INPUT FROM ABOVE\n",
      "\n",
      " 21%|████████████████▊                                                                | 21/101 [02:33<09:20,  7.01s/it]\u001b[A"
     ]
    },
    {
     "name": "stdout",
     "output_type": "stream",
     "text": [
      "Fitness =  2.5735294117647056\n",
      "{'activities': 21, 'paths': 5}\n"
     ]
    },
    {
     "name": "stderr",
     "output_type": "stream",
     "text": [
      "C:\\Users\\ashis\\AppData\\Local\\Temp\\ipykernel_34424\\3913433264.py:43: SettingWithCopyWarning: \n",
      "A value is trying to be set on a copy of a slice from a DataFrame\n",
      "\n",
      "See the caveats in the documentation: https://pandas.pydata.org/pandas-docs/stable/user_guide/indexing.html#returning-a-view-versus-a-copy\n",
      "  Trace[\"task\"][j] = Filter(Trace[\"task\"][j]) # FILTEREING THE INDIVIDUAL TRACE INPUT FROM ABOVE\n",
      "\n",
      " 22%|█████████████████▋                                                               | 22/101 [02:40<09:13,  7.01s/it]\u001b[A"
     ]
    },
    {
     "name": "stdout",
     "output_type": "stream",
     "text": [
      "Fitness =  2.5735294117647056\n",
      "{'activities': 22, 'paths': 5}\n"
     ]
    },
    {
     "name": "stderr",
     "output_type": "stream",
     "text": [
      "C:\\Users\\ashis\\AppData\\Local\\Temp\\ipykernel_34424\\3913433264.py:43: SettingWithCopyWarning: \n",
      "A value is trying to be set on a copy of a slice from a DataFrame\n",
      "\n",
      "See the caveats in the documentation: https://pandas.pydata.org/pandas-docs/stable/user_guide/indexing.html#returning-a-view-versus-a-copy\n",
      "  Trace[\"task\"][j] = Filter(Trace[\"task\"][j]) # FILTEREING THE INDIVIDUAL TRACE INPUT FROM ABOVE\n",
      "\n",
      " 23%|██████████████████▍                                                              | 23/101 [02:47<09:08,  7.03s/it]\u001b[A"
     ]
    },
    {
     "name": "stdout",
     "output_type": "stream",
     "text": [
      "Fitness =  2.5735294117647056\n",
      "{'activities': 23, 'paths': 5}\n"
     ]
    },
    {
     "name": "stderr",
     "output_type": "stream",
     "text": [
      "C:\\Users\\ashis\\AppData\\Local\\Temp\\ipykernel_34424\\3913433264.py:43: SettingWithCopyWarning: \n",
      "A value is trying to be set on a copy of a slice from a DataFrame\n",
      "\n",
      "See the caveats in the documentation: https://pandas.pydata.org/pandas-docs/stable/user_guide/indexing.html#returning-a-view-versus-a-copy\n",
      "  Trace[\"task\"][j] = Filter(Trace[\"task\"][j]) # FILTEREING THE INDIVIDUAL TRACE INPUT FROM ABOVE\n",
      "\n",
      " 24%|███████████████████▏                                                             | 24/101 [02:54<09:00,  7.02s/it]\u001b[A"
     ]
    },
    {
     "name": "stdout",
     "output_type": "stream",
     "text": [
      "Fitness =  2.5735294117647056\n",
      "{'activities': 24, 'paths': 5}\n"
     ]
    },
    {
     "name": "stderr",
     "output_type": "stream",
     "text": [
      "C:\\Users\\ashis\\AppData\\Local\\Temp\\ipykernel_34424\\3913433264.py:43: SettingWithCopyWarning: \n",
      "A value is trying to be set on a copy of a slice from a DataFrame\n",
      "\n",
      "See the caveats in the documentation: https://pandas.pydata.org/pandas-docs/stable/user_guide/indexing.html#returning-a-view-versus-a-copy\n",
      "  Trace[\"task\"][j] = Filter(Trace[\"task\"][j]) # FILTEREING THE INDIVIDUAL TRACE INPUT FROM ABOVE\n",
      "\n",
      " 25%|████████████████████                                                             | 25/101 [03:01<08:54,  7.04s/it]\u001b[A"
     ]
    },
    {
     "name": "stdout",
     "output_type": "stream",
     "text": [
      "Fitness =  2.5735294117647056\n",
      "{'activities': 25, 'paths': 5}\n"
     ]
    },
    {
     "name": "stderr",
     "output_type": "stream",
     "text": [
      "C:\\Users\\ashis\\AppData\\Local\\Temp\\ipykernel_34424\\3913433264.py:43: SettingWithCopyWarning: \n",
      "A value is trying to be set on a copy of a slice from a DataFrame\n",
      "\n",
      "See the caveats in the documentation: https://pandas.pydata.org/pandas-docs/stable/user_guide/indexing.html#returning-a-view-versus-a-copy\n",
      "  Trace[\"task\"][j] = Filter(Trace[\"task\"][j]) # FILTEREING THE INDIVIDUAL TRACE INPUT FROM ABOVE\n",
      "\n",
      " 26%|████████████████████▊                                                            | 26/101 [03:08<08:46,  7.02s/it]\u001b[A"
     ]
    },
    {
     "name": "stdout",
     "output_type": "stream",
     "text": [
      "Fitness =  2.5735294117647056\n",
      "{'activities': 26, 'paths': 5}\n"
     ]
    },
    {
     "name": "stderr",
     "output_type": "stream",
     "text": [
      "C:\\Users\\ashis\\AppData\\Local\\Temp\\ipykernel_34424\\3913433264.py:43: SettingWithCopyWarning: \n",
      "A value is trying to be set on a copy of a slice from a DataFrame\n",
      "\n",
      "See the caveats in the documentation: https://pandas.pydata.org/pandas-docs/stable/user_guide/indexing.html#returning-a-view-versus-a-copy\n",
      "  Trace[\"task\"][j] = Filter(Trace[\"task\"][j]) # FILTEREING THE INDIVIDUAL TRACE INPUT FROM ABOVE\n",
      "\n",
      " 27%|█████████████████████▋                                                           | 27/101 [03:15<08:41,  7.05s/it]\u001b[A"
     ]
    },
    {
     "name": "stdout",
     "output_type": "stream",
     "text": [
      "Fitness =  2.5735294117647056\n",
      "{'activities': 27, 'paths': 5}\n"
     ]
    },
    {
     "name": "stderr",
     "output_type": "stream",
     "text": [
      "C:\\Users\\ashis\\AppData\\Local\\Temp\\ipykernel_34424\\3913433264.py:43: SettingWithCopyWarning: \n",
      "A value is trying to be set on a copy of a slice from a DataFrame\n",
      "\n",
      "See the caveats in the documentation: https://pandas.pydata.org/pandas-docs/stable/user_guide/indexing.html#returning-a-view-versus-a-copy\n",
      "  Trace[\"task\"][j] = Filter(Trace[\"task\"][j]) # FILTEREING THE INDIVIDUAL TRACE INPUT FROM ABOVE\n",
      "\n",
      " 28%|██████████████████████▍                                                          | 28/101 [03:22<08:33,  7.03s/it]\u001b[A"
     ]
    },
    {
     "name": "stdout",
     "output_type": "stream",
     "text": [
      "Fitness =  2.5735294117647056\n",
      "{'activities': 28, 'paths': 5}\n"
     ]
    },
    {
     "name": "stderr",
     "output_type": "stream",
     "text": [
      "C:\\Users\\ashis\\AppData\\Local\\Temp\\ipykernel_34424\\3913433264.py:43: SettingWithCopyWarning: \n",
      "A value is trying to be set on a copy of a slice from a DataFrame\n",
      "\n",
      "See the caveats in the documentation: https://pandas.pydata.org/pandas-docs/stable/user_guide/indexing.html#returning-a-view-versus-a-copy\n",
      "  Trace[\"task\"][j] = Filter(Trace[\"task\"][j]) # FILTEREING THE INDIVIDUAL TRACE INPUT FROM ABOVE\n",
      "\n",
      " 29%|███████████████████████▎                                                         | 29/101 [03:29<08:28,  7.06s/it]\u001b[A"
     ]
    },
    {
     "name": "stdout",
     "output_type": "stream",
     "text": [
      "Fitness =  2.5735294117647056\n",
      "{'activities': 29, 'paths': 5}\n"
     ]
    },
    {
     "name": "stderr",
     "output_type": "stream",
     "text": [
      "C:\\Users\\ashis\\AppData\\Local\\Temp\\ipykernel_34424\\3913433264.py:43: SettingWithCopyWarning: \n",
      "A value is trying to be set on a copy of a slice from a DataFrame\n",
      "\n",
      "See the caveats in the documentation: https://pandas.pydata.org/pandas-docs/stable/user_guide/indexing.html#returning-a-view-versus-a-copy\n",
      "  Trace[\"task\"][j] = Filter(Trace[\"task\"][j]) # FILTEREING THE INDIVIDUAL TRACE INPUT FROM ABOVE\n",
      "\n",
      " 30%|████████████████████████                                                         | 30/101 [03:36<08:18,  7.02s/it]\u001b[A"
     ]
    },
    {
     "name": "stdout",
     "output_type": "stream",
     "text": [
      "Fitness =  2.5735294117647056\n",
      "{'activities': 30, 'paths': 5}\n"
     ]
    },
    {
     "name": "stderr",
     "output_type": "stream",
     "text": [
      "C:\\Users\\ashis\\AppData\\Local\\Temp\\ipykernel_34424\\3913433264.py:43: SettingWithCopyWarning: \n",
      "A value is trying to be set on a copy of a slice from a DataFrame\n",
      "\n",
      "See the caveats in the documentation: https://pandas.pydata.org/pandas-docs/stable/user_guide/indexing.html#returning-a-view-versus-a-copy\n",
      "  Trace[\"task\"][j] = Filter(Trace[\"task\"][j]) # FILTEREING THE INDIVIDUAL TRACE INPUT FROM ABOVE\n",
      "\n",
      " 31%|████████████████████████▊                                                        | 31/101 [03:44<08:13,  7.05s/it]\u001b[A"
     ]
    },
    {
     "name": "stdout",
     "output_type": "stream",
     "text": [
      "Fitness =  2.5735294117647056\n",
      "{'activities': 31, 'paths': 5}\n"
     ]
    },
    {
     "name": "stderr",
     "output_type": "stream",
     "text": [
      "C:\\Users\\ashis\\AppData\\Local\\Temp\\ipykernel_34424\\3913433264.py:43: SettingWithCopyWarning: \n",
      "A value is trying to be set on a copy of a slice from a DataFrame\n",
      "\n",
      "See the caveats in the documentation: https://pandas.pydata.org/pandas-docs/stable/user_guide/indexing.html#returning-a-view-versus-a-copy\n",
      "  Trace[\"task\"][j] = Filter(Trace[\"task\"][j]) # FILTEREING THE INDIVIDUAL TRACE INPUT FROM ABOVE\n",
      " 31%|████████████████████████▊                                                        | 31/101 [03:48<08:35,  7.37s/it]\n",
      "  0%|                                                                                            | 0/6 [03:48<?, ?it/s]\n"
     ]
    },
    {
     "ename": "KeyboardInterrupt",
     "evalue": "",
     "output_type": "error",
     "traceback": [
      "\u001b[1;31m---------------------------------------------------------------------------\u001b[0m",
      "\u001b[1;31mKeyboardInterrupt\u001b[0m                         Traceback (most recent call last)",
      "\u001b[1;32m~\\AppData\\Local\\Temp\\ipykernel_34424\\3913433264.py\u001b[0m in \u001b[0;36m<module>\u001b[1;34m\u001b[0m\n\u001b[0;32m     36\u001b[0m             \u001b[1;32mfor\u001b[0m \u001b[0mi\u001b[0m \u001b[1;32min\u001b[0m \u001b[0mrange\u001b[0m\u001b[1;33m(\u001b[0m\u001b[0mlen\u001b[0m\u001b[1;33m(\u001b[0m\u001b[0mids\u001b[0m\u001b[1;33m)\u001b[0m\u001b[1;33m)\u001b[0m\u001b[1;33m:\u001b[0m \u001b[1;31m# INDIVIDUAL LOOPING OF EACH ID\u001b[0m\u001b[1;33m\u001b[0m\u001b[1;33m\u001b[0m\u001b[0m\n\u001b[0;32m     37\u001b[0m \u001b[1;33m\u001b[0m\u001b[0m\n\u001b[1;32m---> 38\u001b[1;33m                 \u001b[0mdf3\u001b[0m \u001b[1;33m=\u001b[0m \u001b[0mdf1\u001b[0m\u001b[1;33m[\u001b[0m\u001b[0mdf1\u001b[0m\u001b[1;33m[\u001b[0m\u001b[1;34m\"case_id\"\u001b[0m\u001b[1;33m]\u001b[0m \u001b[1;33m==\u001b[0m \u001b[0mids\u001b[0m\u001b[1;33m[\u001b[0m\u001b[0mi\u001b[0m\u001b[1;33m]\u001b[0m\u001b[1;33m]\u001b[0m\u001b[1;33m.\u001b[0m\u001b[0mreset_index\u001b[0m\u001b[1;33m(\u001b[0m\u001b[0mdrop\u001b[0m \u001b[1;33m=\u001b[0m \u001b[1;32mTrue\u001b[0m\u001b[1;33m)\u001b[0m \u001b[1;31m# THE ID for each Dataset is mentioned here\u001b[0m\u001b[1;33m\u001b[0m\u001b[1;33m\u001b[0m\u001b[0m\n\u001b[0m\u001b[0;32m     39\u001b[0m \u001b[1;33m\u001b[0m\u001b[0m\n\u001b[0;32m     40\u001b[0m                 \u001b[0mTrace\u001b[0m \u001b[1;33m=\u001b[0m \u001b[0mdf3\u001b[0m\u001b[1;33m.\u001b[0m\u001b[0mcopy\u001b[0m\u001b[1;33m(\u001b[0m\u001b[1;33m)\u001b[0m \u001b[1;31m# ID CARRYING VARIABLE\u001b[0m\u001b[1;33m\u001b[0m\u001b[1;33m\u001b[0m\u001b[0m\n",
      "\u001b[1;32m~\\anaconda3\\lib\\site-packages\\pandas\\core\\ops\\common.py\u001b[0m in \u001b[0;36mnew_method\u001b[1;34m(self, other)\u001b[0m\n\u001b[0;32m     68\u001b[0m         \u001b[0mother\u001b[0m \u001b[1;33m=\u001b[0m \u001b[0mitem_from_zerodim\u001b[0m\u001b[1;33m(\u001b[0m\u001b[0mother\u001b[0m\u001b[1;33m)\u001b[0m\u001b[1;33m\u001b[0m\u001b[1;33m\u001b[0m\u001b[0m\n\u001b[0;32m     69\u001b[0m \u001b[1;33m\u001b[0m\u001b[0m\n\u001b[1;32m---> 70\u001b[1;33m         \u001b[1;32mreturn\u001b[0m \u001b[0mmethod\u001b[0m\u001b[1;33m(\u001b[0m\u001b[0mself\u001b[0m\u001b[1;33m,\u001b[0m \u001b[0mother\u001b[0m\u001b[1;33m)\u001b[0m\u001b[1;33m\u001b[0m\u001b[1;33m\u001b[0m\u001b[0m\n\u001b[0m\u001b[0;32m     71\u001b[0m \u001b[1;33m\u001b[0m\u001b[0m\n\u001b[0;32m     72\u001b[0m     \u001b[1;32mreturn\u001b[0m \u001b[0mnew_method\u001b[0m\u001b[1;33m\u001b[0m\u001b[1;33m\u001b[0m\u001b[0m\n",
      "\u001b[1;32m~\\anaconda3\\lib\\site-packages\\pandas\\core\\arraylike.py\u001b[0m in \u001b[0;36m__eq__\u001b[1;34m(self, other)\u001b[0m\n\u001b[0;32m     38\u001b[0m     \u001b[1;33m@\u001b[0m\u001b[0munpack_zerodim_and_defer\u001b[0m\u001b[1;33m(\u001b[0m\u001b[1;34m\"__eq__\"\u001b[0m\u001b[1;33m)\u001b[0m\u001b[1;33m\u001b[0m\u001b[1;33m\u001b[0m\u001b[0m\n\u001b[0;32m     39\u001b[0m     \u001b[1;32mdef\u001b[0m \u001b[0m__eq__\u001b[0m\u001b[1;33m(\u001b[0m\u001b[0mself\u001b[0m\u001b[1;33m,\u001b[0m \u001b[0mother\u001b[0m\u001b[1;33m)\u001b[0m\u001b[1;33m:\u001b[0m\u001b[1;33m\u001b[0m\u001b[1;33m\u001b[0m\u001b[0m\n\u001b[1;32m---> 40\u001b[1;33m         \u001b[1;32mreturn\u001b[0m \u001b[0mself\u001b[0m\u001b[1;33m.\u001b[0m\u001b[0m_cmp_method\u001b[0m\u001b[1;33m(\u001b[0m\u001b[0mother\u001b[0m\u001b[1;33m,\u001b[0m \u001b[0moperator\u001b[0m\u001b[1;33m.\u001b[0m\u001b[0meq\u001b[0m\u001b[1;33m)\u001b[0m\u001b[1;33m\u001b[0m\u001b[1;33m\u001b[0m\u001b[0m\n\u001b[0m\u001b[0;32m     41\u001b[0m \u001b[1;33m\u001b[0m\u001b[0m\n\u001b[0;32m     42\u001b[0m     \u001b[1;33m@\u001b[0m\u001b[0munpack_zerodim_and_defer\u001b[0m\u001b[1;33m(\u001b[0m\u001b[1;34m\"__ne__\"\u001b[0m\u001b[1;33m)\u001b[0m\u001b[1;33m\u001b[0m\u001b[1;33m\u001b[0m\u001b[0m\n",
      "\u001b[1;32m~\\anaconda3\\lib\\site-packages\\pandas\\core\\series.py\u001b[0m in \u001b[0;36m_cmp_method\u001b[1;34m(self, other, op)\u001b[0m\n\u001b[0;32m   5621\u001b[0m \u001b[1;33m\u001b[0m\u001b[0m\n\u001b[0;32m   5622\u001b[0m         \u001b[1;32mwith\u001b[0m \u001b[0mnp\u001b[0m\u001b[1;33m.\u001b[0m\u001b[0merrstate\u001b[0m\u001b[1;33m(\u001b[0m\u001b[0mall\u001b[0m\u001b[1;33m=\u001b[0m\u001b[1;34m\"ignore\"\u001b[0m\u001b[1;33m)\u001b[0m\u001b[1;33m:\u001b[0m\u001b[1;33m\u001b[0m\u001b[1;33m\u001b[0m\u001b[0m\n\u001b[1;32m-> 5623\u001b[1;33m             \u001b[0mres_values\u001b[0m \u001b[1;33m=\u001b[0m \u001b[0mops\u001b[0m\u001b[1;33m.\u001b[0m\u001b[0mcomparison_op\u001b[0m\u001b[1;33m(\u001b[0m\u001b[0mlvalues\u001b[0m\u001b[1;33m,\u001b[0m \u001b[0mrvalues\u001b[0m\u001b[1;33m,\u001b[0m \u001b[0mop\u001b[0m\u001b[1;33m)\u001b[0m\u001b[1;33m\u001b[0m\u001b[1;33m\u001b[0m\u001b[0m\n\u001b[0m\u001b[0;32m   5624\u001b[0m \u001b[1;33m\u001b[0m\u001b[0m\n\u001b[0;32m   5625\u001b[0m         \u001b[1;32mreturn\u001b[0m \u001b[0mself\u001b[0m\u001b[1;33m.\u001b[0m\u001b[0m_construct_result\u001b[0m\u001b[1;33m(\u001b[0m\u001b[0mres_values\u001b[0m\u001b[1;33m,\u001b[0m \u001b[0mname\u001b[0m\u001b[1;33m=\u001b[0m\u001b[0mres_name\u001b[0m\u001b[1;33m)\u001b[0m\u001b[1;33m\u001b[0m\u001b[1;33m\u001b[0m\u001b[0m\n",
      "\u001b[1;32m~\\anaconda3\\lib\\site-packages\\pandas\\core\\ops\\array_ops.py\u001b[0m in \u001b[0;36mcomparison_op\u001b[1;34m(left, right, op)\u001b[0m\n\u001b[0;32m    284\u001b[0m \u001b[1;33m\u001b[0m\u001b[0m\n\u001b[0;32m    285\u001b[0m     \u001b[1;32melse\u001b[0m\u001b[1;33m:\u001b[0m\u001b[1;33m\u001b[0m\u001b[1;33m\u001b[0m\u001b[0m\n\u001b[1;32m--> 286\u001b[1;33m         \u001b[0mres_values\u001b[0m \u001b[1;33m=\u001b[0m \u001b[0m_na_arithmetic_op\u001b[0m\u001b[1;33m(\u001b[0m\u001b[0mlvalues\u001b[0m\u001b[1;33m,\u001b[0m \u001b[0mrvalues\u001b[0m\u001b[1;33m,\u001b[0m \u001b[0mop\u001b[0m\u001b[1;33m,\u001b[0m \u001b[0mis_cmp\u001b[0m\u001b[1;33m=\u001b[0m\u001b[1;32mTrue\u001b[0m\u001b[1;33m)\u001b[0m\u001b[1;33m\u001b[0m\u001b[1;33m\u001b[0m\u001b[0m\n\u001b[0m\u001b[0;32m    287\u001b[0m \u001b[1;33m\u001b[0m\u001b[0m\n\u001b[0;32m    288\u001b[0m     \u001b[1;32mreturn\u001b[0m \u001b[0mres_values\u001b[0m\u001b[1;33m\u001b[0m\u001b[1;33m\u001b[0m\u001b[0m\n",
      "\u001b[1;32m~\\anaconda3\\lib\\site-packages\\pandas\\core\\ops\\array_ops.py\u001b[0m in \u001b[0;36m_na_arithmetic_op\u001b[1;34m(left, right, op, is_cmp)\u001b[0m\n\u001b[0;32m    161\u001b[0m \u001b[1;33m\u001b[0m\u001b[0m\n\u001b[0;32m    162\u001b[0m     \u001b[1;32mtry\u001b[0m\u001b[1;33m:\u001b[0m\u001b[1;33m\u001b[0m\u001b[1;33m\u001b[0m\u001b[0m\n\u001b[1;32m--> 163\u001b[1;33m         \u001b[0mresult\u001b[0m \u001b[1;33m=\u001b[0m \u001b[0mfunc\u001b[0m\u001b[1;33m(\u001b[0m\u001b[0mleft\u001b[0m\u001b[1;33m,\u001b[0m \u001b[0mright\u001b[0m\u001b[1;33m)\u001b[0m\u001b[1;33m\u001b[0m\u001b[1;33m\u001b[0m\u001b[0m\n\u001b[0m\u001b[0;32m    164\u001b[0m     \u001b[1;32mexcept\u001b[0m \u001b[0mTypeError\u001b[0m\u001b[1;33m:\u001b[0m\u001b[1;33m\u001b[0m\u001b[1;33m\u001b[0m\u001b[0m\n\u001b[0;32m    165\u001b[0m         \u001b[1;32mif\u001b[0m \u001b[1;32mnot\u001b[0m \u001b[0mis_cmp\u001b[0m \u001b[1;32mand\u001b[0m \u001b[1;33m(\u001b[0m\u001b[0mis_object_dtype\u001b[0m\u001b[1;33m(\u001b[0m\u001b[0mleft\u001b[0m\u001b[1;33m.\u001b[0m\u001b[0mdtype\u001b[0m\u001b[1;33m)\u001b[0m \u001b[1;32mor\u001b[0m \u001b[0mis_object_dtype\u001b[0m\u001b[1;33m(\u001b[0m\u001b[0mright\u001b[0m\u001b[1;33m)\u001b[0m\u001b[1;33m)\u001b[0m\u001b[1;33m:\u001b[0m\u001b[1;33m\u001b[0m\u001b[1;33m\u001b[0m\u001b[0m\n",
      "\u001b[1;32m~\\anaconda3\\lib\\site-packages\\pandas\\core\\computation\\expressions.py\u001b[0m in \u001b[0;36mevaluate\u001b[1;34m(op, a, b, use_numexpr)\u001b[0m\n\u001b[0;32m    237\u001b[0m         \u001b[1;32mif\u001b[0m \u001b[0muse_numexpr\u001b[0m\u001b[1;33m:\u001b[0m\u001b[1;33m\u001b[0m\u001b[1;33m\u001b[0m\u001b[0m\n\u001b[0;32m    238\u001b[0m             \u001b[1;31m# error: \"None\" not callable\u001b[0m\u001b[1;33m\u001b[0m\u001b[1;33m\u001b[0m\u001b[0m\n\u001b[1;32m--> 239\u001b[1;33m             \u001b[1;32mreturn\u001b[0m \u001b[0m_evaluate\u001b[0m\u001b[1;33m(\u001b[0m\u001b[0mop\u001b[0m\u001b[1;33m,\u001b[0m \u001b[0mop_str\u001b[0m\u001b[1;33m,\u001b[0m \u001b[0ma\u001b[0m\u001b[1;33m,\u001b[0m \u001b[0mb\u001b[0m\u001b[1;33m)\u001b[0m  \u001b[1;31m# type: ignore[misc]\u001b[0m\u001b[1;33m\u001b[0m\u001b[1;33m\u001b[0m\u001b[0m\n\u001b[0m\u001b[0;32m    240\u001b[0m     \u001b[1;32mreturn\u001b[0m \u001b[0m_evaluate_standard\u001b[0m\u001b[1;33m(\u001b[0m\u001b[0mop\u001b[0m\u001b[1;33m,\u001b[0m \u001b[0mop_str\u001b[0m\u001b[1;33m,\u001b[0m \u001b[0ma\u001b[0m\u001b[1;33m,\u001b[0m \u001b[0mb\u001b[0m\u001b[1;33m)\u001b[0m\u001b[1;33m\u001b[0m\u001b[1;33m\u001b[0m\u001b[0m\n\u001b[0;32m    241\u001b[0m \u001b[1;33m\u001b[0m\u001b[0m\n",
      "\u001b[1;32m~\\anaconda3\\lib\\site-packages\\pandas\\core\\computation\\expressions.py\u001b[0m in \u001b[0;36m_evaluate_numexpr\u001b[1;34m(op, op_str, a, b)\u001b[0m\n\u001b[0;32m    126\u001b[0m \u001b[1;33m\u001b[0m\u001b[0m\n\u001b[0;32m    127\u001b[0m     \u001b[1;32mif\u001b[0m \u001b[0mresult\u001b[0m \u001b[1;32mis\u001b[0m \u001b[1;32mNone\u001b[0m\u001b[1;33m:\u001b[0m\u001b[1;33m\u001b[0m\u001b[1;33m\u001b[0m\u001b[0m\n\u001b[1;32m--> 128\u001b[1;33m         \u001b[0mresult\u001b[0m \u001b[1;33m=\u001b[0m \u001b[0m_evaluate_standard\u001b[0m\u001b[1;33m(\u001b[0m\u001b[0mop\u001b[0m\u001b[1;33m,\u001b[0m \u001b[0mop_str\u001b[0m\u001b[1;33m,\u001b[0m \u001b[0ma\u001b[0m\u001b[1;33m,\u001b[0m \u001b[0mb\u001b[0m\u001b[1;33m)\u001b[0m\u001b[1;33m\u001b[0m\u001b[1;33m\u001b[0m\u001b[0m\n\u001b[0m\u001b[0;32m    129\u001b[0m \u001b[1;33m\u001b[0m\u001b[0m\n\u001b[0;32m    130\u001b[0m     \u001b[1;32mreturn\u001b[0m \u001b[0mresult\u001b[0m\u001b[1;33m\u001b[0m\u001b[1;33m\u001b[0m\u001b[0m\n",
      "\u001b[1;32m~\\anaconda3\\lib\\site-packages\\pandas\\core\\computation\\expressions.py\u001b[0m in \u001b[0;36m_evaluate_standard\u001b[1;34m(op, op_str, a, b)\u001b[0m\n\u001b[0;32m     67\u001b[0m     \u001b[1;32mif\u001b[0m \u001b[0m_TEST_MODE\u001b[0m\u001b[1;33m:\u001b[0m\u001b[1;33m\u001b[0m\u001b[1;33m\u001b[0m\u001b[0m\n\u001b[0;32m     68\u001b[0m         \u001b[0m_store_test_result\u001b[0m\u001b[1;33m(\u001b[0m\u001b[1;32mFalse\u001b[0m\u001b[1;33m)\u001b[0m\u001b[1;33m\u001b[0m\u001b[1;33m\u001b[0m\u001b[0m\n\u001b[1;32m---> 69\u001b[1;33m     \u001b[1;32mreturn\u001b[0m \u001b[0mop\u001b[0m\u001b[1;33m(\u001b[0m\u001b[0ma\u001b[0m\u001b[1;33m,\u001b[0m \u001b[0mb\u001b[0m\u001b[1;33m)\u001b[0m\u001b[1;33m\u001b[0m\u001b[1;33m\u001b[0m\u001b[0m\n\u001b[0m\u001b[0;32m     70\u001b[0m \u001b[1;33m\u001b[0m\u001b[0m\n\u001b[0;32m     71\u001b[0m \u001b[1;33m\u001b[0m\u001b[0m\n",
      "\u001b[1;31mKeyboardInterrupt\u001b[0m: "
     ]
    }
   ],
   "source": [
    "Act = [] # Stores the ACT Figure\n",
    "PATH_THRES = [5,20,40,60,80,100]\n",
    "\n",
    "\n",
    "for outer_j in trange(len(PATH_THRES)):\n",
    "    \n",
    "    Act = [] # Stores the ACT Figure\n",
    "    \n",
    "    INDI_FIT = [] # Stores the Final State of \n",
    "    \n",
    "    fitter = 0\n",
    "        \n",
    "    ID = []\n",
    "  \n",
    "    for count in trange(0,101,1):  \n",
    "        \n",
    "        MK = [] # Source Keys\n",
    "        SK = [] # Destination Keys \n",
    "        \n",
    "        # Net Assignment \n",
    "        \n",
    "        INPUT = MINER(df1, count, PATH_THRES[outer_j]) # The Process MAP that is to be compared is entered here (Dataset is entered here) # MAP HERE\n",
    "        \n",
    "        MK = Key_SEGREGATOR(map_2_key(INPUT))[0].copy()\n",
    "        SK = Key_SEGREGATOR(map_2_key(INPUT))[1].copy()\n",
    "        \n",
    "        MK, SK = START_END_DEL(MK,SK)\n",
    "        \n",
    "        \n",
    "        \n",
    "        if MK != []:\n",
    "            \n",
    "            P_MAP = ONE_D_Mapper(MK,SK)\n",
    "\n",
    "\n",
    "            for i in range(len(ids)): # INDIVIDUAL LOOPING OF EACH ID\n",
    "\n",
    "                df3 = df1[df1[\"case_id\"] == ids[i]].reset_index(drop = True) # THE ID for each Dataset is mentioned here\n",
    "\n",
    "                Trace = df3.copy() # ID CARRYING VARIABLE\n",
    "\n",
    "                for j in range(len(Trace)):\n",
    "                    Trace[\"task\"][j] = Filter(Trace[\"task\"][j]) # FILTEREING THE INDIVIDUAL TRACE INPUT FROM ABOVE\n",
    "\n",
    "\n",
    "            # GENERATION FROM THE LOG's SIDE     \n",
    "\n",
    "                Pre_FIT = Wheeler(Trace, P_MAP)\n",
    "\n",
    "                if len(Trace) == (sum(Pre_FIT)+1):\n",
    "                    fitter+=1\n",
    "\n",
    "                if i == len(ids)-1:\n",
    "                    INDI_FIT.append((fitter/len(ids))*100) # 272 = len of ids\n",
    "                    print(\"Fitness = \", (fitter/len(ids))*100)\n",
    "                    fitter=0 # ReSETTING THE COUNTER\n",
    "\n",
    "            Act.append(count)\n",
    "        else:\n",
    "            Act.append(count)\n",
    "            INDI_FIT.append(0)\n",
    "            print(\"Fitness =  0\")\n",
    "            \n",
    "            \n",
    "    if outer_j == 0:\n",
    "        res_SA0 = pd.DataFrame({\"Path_Rate\":Act,\"Fitness\":INDI_FIT})\n",
    "\n",
    "    elif outer_j == 1:\n",
    "        res_SA1 = pd.DataFrame({\"Path_Rate\":Act,\"Fitness\":INDI_FIT})\n",
    "\n",
    "    elif outer_j == 2:\n",
    "        res_SA2 = pd.DataFrame({\"Path_Rate\":Act,\"Fitness\":INDI_FIT})\n",
    "\n",
    "    elif outer_j == 3:\n",
    "        res_SA3 = pd.DataFrame({\"Path_Rate\":Act,\"Fitness\":INDI_FIT})\n",
    "\n",
    "    elif outer_j == 4:\n",
    "        res_SA4 = pd.DataFrame({\"Path_Rate\":Act,\"Fitness\":INDI_FIT})\n",
    "\n",
    "    elif outer_j == 5:\n",
    "        res_SA5 = pd.DataFrame({\"Path_Rate\":Act,\"Fitness\":INDI_FIT})\n",
    "\n",
    "\n",
    "    print(\"\\n\\n-----------------------------------------------------------------------------------------\")                   \n",
    "    print(\"-----------------------------------NEXT ID OVER HERE-------------------------------------\\n\\n\")                   \n",
    "    \n",
    "    #print(\"\\n\\n Total Number of FIT executions are \", final_state, \"out of a Total of\", len(ids), \"IDs\")\n",
    "    #print(\"Fitness Rating = :\", (final_state/len(ids))*100)\n",
    "    \n",
    "ACT_FULL = res_SA0.copy()\n",
    "ACT_FULL = ACT_FULL.merge(res_SA1, on='Path_Rate', how='right')\n",
    "ACT_FULL = ACT_FULL.merge(res_SA2, on='Path_Rate', how='right')\n",
    "ACT_FULL = ACT_FULL.merge(res_SA3, on='Path_Rate', how='right')\n",
    "ACT_FULL = ACT_FULL.merge(res_SA4, on='Path_Rate', how='right')\n",
    "ACT_FULL = ACT_FULL.merge(res_SA5, on='Path_Rate', how='right')\n",
    "\n",
    "ACT_FULL.columns = ['Activity_Rate', 'Path = 5', 'Path = 20' ,'Path = 40', 'Path = 60','Path = 80','Path = 100']\n",
    "\n",
    "ACT_FULL"
   ]
  },
  {
   "cell_type": "code",
   "execution_count": null,
   "id": "68e6d305",
   "metadata": {},
   "outputs": [],
   "source": [
    "ACT_FULL.to_csv(\"Sample_5_Fitness_ACT.csv\")"
   ]
  },
  {
   "cell_type": "code",
   "execution_count": null,
   "id": "e234632f",
   "metadata": {},
   "outputs": [],
   "source": [
    "figure(figsize=(12, 8), dpi=100)\n",
    "sns.lineplot(x='Activity_Rate', y='value', hue='variable', data=pd.melt(ACT_FULL, ['Activity_Rate']), lw = 2)\n",
    "plt.xlabel(\"Activity (0-100%)\")\n",
    "plt.ylabel(\"Fitness Rating\")\n",
    "plt.title(\"Fitness - When Activity is Varied b/w (0 - 100 )& Path is kept Constant\")\n",
    "plt.show()"
   ]
  },
  {
   "cell_type": "markdown",
   "id": "ebb2f05e",
   "metadata": {},
   "source": [
    "-----------"
   ]
  },
  {
   "cell_type": "markdown",
   "id": "00ec781e",
   "metadata": {},
   "source": [
    "### Fitness \n",
    "#### Activites is Constant in Steps of [0,20,40,60,80,100] \n",
    "#### Path is varied between (0-100)"
   ]
  },
  {
   "cell_type": "code",
   "execution_count": 10,
   "id": "a67a75a7",
   "metadata": {
    "scrolled": true
   },
   "outputs": [
    {
     "name": "stderr",
     "output_type": "stream",
     "text": [
      "  0%|                                                                                            | 0/6 [00:00<?, ?it/s]\n",
      "  0%|                                                                                          | 0/101 [00:00<?, ?it/s]\u001b[AC:\\Users\\ashis\\AppData\\Local\\Temp\\ipykernel_34424\\1666760191.py:46: SettingWithCopyWarning: \n",
      "A value is trying to be set on a copy of a slice from a DataFrame\n",
      "\n",
      "See the caveats in the documentation: https://pandas.pydata.org/pandas-docs/stable/user_guide/indexing.html#returning-a-view-versus-a-copy\n",
      "  Trace[\"task\"][j] = Filter(Trace[\"task\"][j]) # FILTEREING THE INDIVIDUAL TRACE INPUT FROM ABOVE\n"
     ]
    },
    {
     "name": "stdout",
     "output_type": "stream",
     "text": [
      "{'activities': 5, 'paths': 0}\n"
     ]
    },
    {
     "name": "stderr",
     "output_type": "stream",
     "text": [
      "\n",
      "  1%|▊                                                                                 | 1/101 [00:09<16:27,  9.88s/it]\u001b[A"
     ]
    },
    {
     "name": "stdout",
     "output_type": "stream",
     "text": [
      "Fitness =  1.1029411764705883\n",
      "{'activities': 5, 'paths': 1}\n"
     ]
    },
    {
     "name": "stderr",
     "output_type": "stream",
     "text": [
      "C:\\Users\\ashis\\AppData\\Local\\Temp\\ipykernel_34424\\1666760191.py:46: SettingWithCopyWarning: \n",
      "A value is trying to be set on a copy of a slice from a DataFrame\n",
      "\n",
      "See the caveats in the documentation: https://pandas.pydata.org/pandas-docs/stable/user_guide/indexing.html#returning-a-view-versus-a-copy\n",
      "  Trace[\"task\"][j] = Filter(Trace[\"task\"][j]) # FILTEREING THE INDIVIDUAL TRACE INPUT FROM ABOVE\n",
      "\n",
      "  2%|█▌                                                                                | 2/101 [00:17<13:46,  8.35s/it]\u001b[A"
     ]
    },
    {
     "name": "stdout",
     "output_type": "stream",
     "text": [
      "Fitness =  1.1029411764705883\n",
      "{'activities': 5, 'paths': 2}\n"
     ]
    },
    {
     "name": "stderr",
     "output_type": "stream",
     "text": [
      "C:\\Users\\ashis\\AppData\\Local\\Temp\\ipykernel_34424\\1666760191.py:46: SettingWithCopyWarning: \n",
      "A value is trying to be set on a copy of a slice from a DataFrame\n",
      "\n",
      "See the caveats in the documentation: https://pandas.pydata.org/pandas-docs/stable/user_guide/indexing.html#returning-a-view-versus-a-copy\n",
      "  Trace[\"task\"][j] = Filter(Trace[\"task\"][j]) # FILTEREING THE INDIVIDUAL TRACE INPUT FROM ABOVE\n",
      "\n",
      "  3%|██▍                                                                               | 3/101 [00:24<12:56,  7.92s/it]\u001b[A"
     ]
    },
    {
     "name": "stdout",
     "output_type": "stream",
     "text": [
      "Fitness =  1.1029411764705883\n",
      "{'activities': 5, 'paths': 3}\n"
     ]
    },
    {
     "name": "stderr",
     "output_type": "stream",
     "text": [
      "C:\\Users\\ashis\\AppData\\Local\\Temp\\ipykernel_34424\\1666760191.py:46: SettingWithCopyWarning: \n",
      "A value is trying to be set on a copy of a slice from a DataFrame\n",
      "\n",
      "See the caveats in the documentation: https://pandas.pydata.org/pandas-docs/stable/user_guide/indexing.html#returning-a-view-versus-a-copy\n",
      "  Trace[\"task\"][j] = Filter(Trace[\"task\"][j]) # FILTEREING THE INDIVIDUAL TRACE INPUT FROM ABOVE\n",
      "\n",
      "  4%|███▏                                                                              | 4/101 [00:32<12:35,  7.78s/it]\u001b[A"
     ]
    },
    {
     "name": "stdout",
     "output_type": "stream",
     "text": [
      "Fitness =  1.1029411764705883\n",
      "{'activities': 5, 'paths': 4}\n"
     ]
    },
    {
     "name": "stderr",
     "output_type": "stream",
     "text": [
      "C:\\Users\\ashis\\AppData\\Local\\Temp\\ipykernel_34424\\1666760191.py:46: SettingWithCopyWarning: \n",
      "A value is trying to be set on a copy of a slice from a DataFrame\n",
      "\n",
      "See the caveats in the documentation: https://pandas.pydata.org/pandas-docs/stable/user_guide/indexing.html#returning-a-view-versus-a-copy\n",
      "  Trace[\"task\"][j] = Filter(Trace[\"task\"][j]) # FILTEREING THE INDIVIDUAL TRACE INPUT FROM ABOVE\n",
      "\n",
      "  5%|████                                                                              | 5/101 [00:39<12:14,  7.66s/it]\u001b[A"
     ]
    },
    {
     "name": "stdout",
     "output_type": "stream",
     "text": [
      "Fitness =  1.1029411764705883\n",
      "{'activities': 5, 'paths': 5}\n"
     ]
    },
    {
     "name": "stderr",
     "output_type": "stream",
     "text": [
      "C:\\Users\\ashis\\AppData\\Local\\Temp\\ipykernel_34424\\1666760191.py:46: SettingWithCopyWarning: \n",
      "A value is trying to be set on a copy of a slice from a DataFrame\n",
      "\n",
      "See the caveats in the documentation: https://pandas.pydata.org/pandas-docs/stable/user_guide/indexing.html#returning-a-view-versus-a-copy\n",
      "  Trace[\"task\"][j] = Filter(Trace[\"task\"][j]) # FILTEREING THE INDIVIDUAL TRACE INPUT FROM ABOVE\n",
      "  5%|████                                                                              | 5/101 [00:43<13:48,  8.63s/it]\n",
      "  0%|                                                                                            | 0/6 [00:43<?, ?it/s]\n"
     ]
    },
    {
     "ename": "KeyboardInterrupt",
     "evalue": "",
     "output_type": "error",
     "traceback": [
      "\u001b[1;31m---------------------------------------------------------------------------\u001b[0m",
      "\u001b[1;31mKeyboardInterrupt\u001b[0m                         Traceback (most recent call last)",
      "\u001b[1;32m~\\AppData\\Local\\Temp\\ipykernel_34424\\1666760191.py\u001b[0m in \u001b[0;36m<module>\u001b[1;34m\u001b[0m\n\u001b[0;32m     39\u001b[0m             \u001b[1;32mfor\u001b[0m \u001b[0mi\u001b[0m \u001b[1;32min\u001b[0m \u001b[0mrange\u001b[0m\u001b[1;33m(\u001b[0m\u001b[0mlen\u001b[0m\u001b[1;33m(\u001b[0m\u001b[0mids\u001b[0m\u001b[1;33m)\u001b[0m\u001b[1;33m)\u001b[0m\u001b[1;33m:\u001b[0m \u001b[1;31m# INDIVIDUAL LOOPING OF EACH ID\u001b[0m\u001b[1;33m\u001b[0m\u001b[1;33m\u001b[0m\u001b[0m\n\u001b[0;32m     40\u001b[0m \u001b[1;33m\u001b[0m\u001b[0m\n\u001b[1;32m---> 41\u001b[1;33m                 \u001b[0mdf3\u001b[0m \u001b[1;33m=\u001b[0m \u001b[0mdf1\u001b[0m\u001b[1;33m[\u001b[0m\u001b[0mdf1\u001b[0m\u001b[1;33m[\u001b[0m\u001b[1;34m\"case_id\"\u001b[0m\u001b[1;33m]\u001b[0m \u001b[1;33m==\u001b[0m \u001b[0mids\u001b[0m\u001b[1;33m[\u001b[0m\u001b[0mi\u001b[0m\u001b[1;33m]\u001b[0m\u001b[1;33m]\u001b[0m\u001b[1;33m.\u001b[0m\u001b[0mreset_index\u001b[0m\u001b[1;33m(\u001b[0m\u001b[0mdrop\u001b[0m \u001b[1;33m=\u001b[0m \u001b[1;32mTrue\u001b[0m\u001b[1;33m)\u001b[0m \u001b[1;31m# THE ID for each Dataset is mentioned here\u001b[0m\u001b[1;33m\u001b[0m\u001b[1;33m\u001b[0m\u001b[0m\n\u001b[0m\u001b[0;32m     42\u001b[0m \u001b[1;33m\u001b[0m\u001b[0m\n\u001b[0;32m     43\u001b[0m                 \u001b[0mTrace\u001b[0m \u001b[1;33m=\u001b[0m \u001b[0mdf3\u001b[0m\u001b[1;33m.\u001b[0m\u001b[0mcopy\u001b[0m\u001b[1;33m(\u001b[0m\u001b[1;33m)\u001b[0m \u001b[1;31m# ID CARRYING VARIABLE\u001b[0m\u001b[1;33m\u001b[0m\u001b[1;33m\u001b[0m\u001b[0m\n",
      "\u001b[1;32m~\\anaconda3\\lib\\site-packages\\pandas\\core\\ops\\common.py\u001b[0m in \u001b[0;36mnew_method\u001b[1;34m(self, other)\u001b[0m\n\u001b[0;32m     68\u001b[0m         \u001b[0mother\u001b[0m \u001b[1;33m=\u001b[0m \u001b[0mitem_from_zerodim\u001b[0m\u001b[1;33m(\u001b[0m\u001b[0mother\u001b[0m\u001b[1;33m)\u001b[0m\u001b[1;33m\u001b[0m\u001b[1;33m\u001b[0m\u001b[0m\n\u001b[0;32m     69\u001b[0m \u001b[1;33m\u001b[0m\u001b[0m\n\u001b[1;32m---> 70\u001b[1;33m         \u001b[1;32mreturn\u001b[0m \u001b[0mmethod\u001b[0m\u001b[1;33m(\u001b[0m\u001b[0mself\u001b[0m\u001b[1;33m,\u001b[0m \u001b[0mother\u001b[0m\u001b[1;33m)\u001b[0m\u001b[1;33m\u001b[0m\u001b[1;33m\u001b[0m\u001b[0m\n\u001b[0m\u001b[0;32m     71\u001b[0m \u001b[1;33m\u001b[0m\u001b[0m\n\u001b[0;32m     72\u001b[0m     \u001b[1;32mreturn\u001b[0m \u001b[0mnew_method\u001b[0m\u001b[1;33m\u001b[0m\u001b[1;33m\u001b[0m\u001b[0m\n",
      "\u001b[1;32m~\\anaconda3\\lib\\site-packages\\pandas\\core\\arraylike.py\u001b[0m in \u001b[0;36m__eq__\u001b[1;34m(self, other)\u001b[0m\n\u001b[0;32m     38\u001b[0m     \u001b[1;33m@\u001b[0m\u001b[0munpack_zerodim_and_defer\u001b[0m\u001b[1;33m(\u001b[0m\u001b[1;34m\"__eq__\"\u001b[0m\u001b[1;33m)\u001b[0m\u001b[1;33m\u001b[0m\u001b[1;33m\u001b[0m\u001b[0m\n\u001b[0;32m     39\u001b[0m     \u001b[1;32mdef\u001b[0m \u001b[0m__eq__\u001b[0m\u001b[1;33m(\u001b[0m\u001b[0mself\u001b[0m\u001b[1;33m,\u001b[0m \u001b[0mother\u001b[0m\u001b[1;33m)\u001b[0m\u001b[1;33m:\u001b[0m\u001b[1;33m\u001b[0m\u001b[1;33m\u001b[0m\u001b[0m\n\u001b[1;32m---> 40\u001b[1;33m         \u001b[1;32mreturn\u001b[0m \u001b[0mself\u001b[0m\u001b[1;33m.\u001b[0m\u001b[0m_cmp_method\u001b[0m\u001b[1;33m(\u001b[0m\u001b[0mother\u001b[0m\u001b[1;33m,\u001b[0m \u001b[0moperator\u001b[0m\u001b[1;33m.\u001b[0m\u001b[0meq\u001b[0m\u001b[1;33m)\u001b[0m\u001b[1;33m\u001b[0m\u001b[1;33m\u001b[0m\u001b[0m\n\u001b[0m\u001b[0;32m     41\u001b[0m \u001b[1;33m\u001b[0m\u001b[0m\n\u001b[0;32m     42\u001b[0m     \u001b[1;33m@\u001b[0m\u001b[0munpack_zerodim_and_defer\u001b[0m\u001b[1;33m(\u001b[0m\u001b[1;34m\"__ne__\"\u001b[0m\u001b[1;33m)\u001b[0m\u001b[1;33m\u001b[0m\u001b[1;33m\u001b[0m\u001b[0m\n",
      "\u001b[1;32m~\\anaconda3\\lib\\site-packages\\pandas\\core\\series.py\u001b[0m in \u001b[0;36m_cmp_method\u001b[1;34m(self, other, op)\u001b[0m\n\u001b[0;32m   5621\u001b[0m \u001b[1;33m\u001b[0m\u001b[0m\n\u001b[0;32m   5622\u001b[0m         \u001b[1;32mwith\u001b[0m \u001b[0mnp\u001b[0m\u001b[1;33m.\u001b[0m\u001b[0merrstate\u001b[0m\u001b[1;33m(\u001b[0m\u001b[0mall\u001b[0m\u001b[1;33m=\u001b[0m\u001b[1;34m\"ignore\"\u001b[0m\u001b[1;33m)\u001b[0m\u001b[1;33m:\u001b[0m\u001b[1;33m\u001b[0m\u001b[1;33m\u001b[0m\u001b[0m\n\u001b[1;32m-> 5623\u001b[1;33m             \u001b[0mres_values\u001b[0m \u001b[1;33m=\u001b[0m \u001b[0mops\u001b[0m\u001b[1;33m.\u001b[0m\u001b[0mcomparison_op\u001b[0m\u001b[1;33m(\u001b[0m\u001b[0mlvalues\u001b[0m\u001b[1;33m,\u001b[0m \u001b[0mrvalues\u001b[0m\u001b[1;33m,\u001b[0m \u001b[0mop\u001b[0m\u001b[1;33m)\u001b[0m\u001b[1;33m\u001b[0m\u001b[1;33m\u001b[0m\u001b[0m\n\u001b[0m\u001b[0;32m   5624\u001b[0m \u001b[1;33m\u001b[0m\u001b[0m\n\u001b[0;32m   5625\u001b[0m         \u001b[1;32mreturn\u001b[0m \u001b[0mself\u001b[0m\u001b[1;33m.\u001b[0m\u001b[0m_construct_result\u001b[0m\u001b[1;33m(\u001b[0m\u001b[0mres_values\u001b[0m\u001b[1;33m,\u001b[0m \u001b[0mname\u001b[0m\u001b[1;33m=\u001b[0m\u001b[0mres_name\u001b[0m\u001b[1;33m)\u001b[0m\u001b[1;33m\u001b[0m\u001b[1;33m\u001b[0m\u001b[0m\n",
      "\u001b[1;32m~\\anaconda3\\lib\\site-packages\\pandas\\core\\ops\\array_ops.py\u001b[0m in \u001b[0;36mcomparison_op\u001b[1;34m(left, right, op)\u001b[0m\n\u001b[0;32m    284\u001b[0m \u001b[1;33m\u001b[0m\u001b[0m\n\u001b[0;32m    285\u001b[0m     \u001b[1;32melse\u001b[0m\u001b[1;33m:\u001b[0m\u001b[1;33m\u001b[0m\u001b[1;33m\u001b[0m\u001b[0m\n\u001b[1;32m--> 286\u001b[1;33m         \u001b[0mres_values\u001b[0m \u001b[1;33m=\u001b[0m \u001b[0m_na_arithmetic_op\u001b[0m\u001b[1;33m(\u001b[0m\u001b[0mlvalues\u001b[0m\u001b[1;33m,\u001b[0m \u001b[0mrvalues\u001b[0m\u001b[1;33m,\u001b[0m \u001b[0mop\u001b[0m\u001b[1;33m,\u001b[0m \u001b[0mis_cmp\u001b[0m\u001b[1;33m=\u001b[0m\u001b[1;32mTrue\u001b[0m\u001b[1;33m)\u001b[0m\u001b[1;33m\u001b[0m\u001b[1;33m\u001b[0m\u001b[0m\n\u001b[0m\u001b[0;32m    287\u001b[0m \u001b[1;33m\u001b[0m\u001b[0m\n\u001b[0;32m    288\u001b[0m     \u001b[1;32mreturn\u001b[0m \u001b[0mres_values\u001b[0m\u001b[1;33m\u001b[0m\u001b[1;33m\u001b[0m\u001b[0m\n",
      "\u001b[1;32m~\\anaconda3\\lib\\site-packages\\pandas\\core\\ops\\array_ops.py\u001b[0m in \u001b[0;36m_na_arithmetic_op\u001b[1;34m(left, right, op, is_cmp)\u001b[0m\n\u001b[0;32m    161\u001b[0m \u001b[1;33m\u001b[0m\u001b[0m\n\u001b[0;32m    162\u001b[0m     \u001b[1;32mtry\u001b[0m\u001b[1;33m:\u001b[0m\u001b[1;33m\u001b[0m\u001b[1;33m\u001b[0m\u001b[0m\n\u001b[1;32m--> 163\u001b[1;33m         \u001b[0mresult\u001b[0m \u001b[1;33m=\u001b[0m \u001b[0mfunc\u001b[0m\u001b[1;33m(\u001b[0m\u001b[0mleft\u001b[0m\u001b[1;33m,\u001b[0m \u001b[0mright\u001b[0m\u001b[1;33m)\u001b[0m\u001b[1;33m\u001b[0m\u001b[1;33m\u001b[0m\u001b[0m\n\u001b[0m\u001b[0;32m    164\u001b[0m     \u001b[1;32mexcept\u001b[0m \u001b[0mTypeError\u001b[0m\u001b[1;33m:\u001b[0m\u001b[1;33m\u001b[0m\u001b[1;33m\u001b[0m\u001b[0m\n\u001b[0;32m    165\u001b[0m         \u001b[1;32mif\u001b[0m \u001b[1;32mnot\u001b[0m \u001b[0mis_cmp\u001b[0m \u001b[1;32mand\u001b[0m \u001b[1;33m(\u001b[0m\u001b[0mis_object_dtype\u001b[0m\u001b[1;33m(\u001b[0m\u001b[0mleft\u001b[0m\u001b[1;33m.\u001b[0m\u001b[0mdtype\u001b[0m\u001b[1;33m)\u001b[0m \u001b[1;32mor\u001b[0m \u001b[0mis_object_dtype\u001b[0m\u001b[1;33m(\u001b[0m\u001b[0mright\u001b[0m\u001b[1;33m)\u001b[0m\u001b[1;33m)\u001b[0m\u001b[1;33m:\u001b[0m\u001b[1;33m\u001b[0m\u001b[1;33m\u001b[0m\u001b[0m\n",
      "\u001b[1;32m~\\anaconda3\\lib\\site-packages\\pandas\\core\\computation\\expressions.py\u001b[0m in \u001b[0;36mevaluate\u001b[1;34m(op, a, b, use_numexpr)\u001b[0m\n\u001b[0;32m    237\u001b[0m         \u001b[1;32mif\u001b[0m \u001b[0muse_numexpr\u001b[0m\u001b[1;33m:\u001b[0m\u001b[1;33m\u001b[0m\u001b[1;33m\u001b[0m\u001b[0m\n\u001b[0;32m    238\u001b[0m             \u001b[1;31m# error: \"None\" not callable\u001b[0m\u001b[1;33m\u001b[0m\u001b[1;33m\u001b[0m\u001b[0m\n\u001b[1;32m--> 239\u001b[1;33m             \u001b[1;32mreturn\u001b[0m \u001b[0m_evaluate\u001b[0m\u001b[1;33m(\u001b[0m\u001b[0mop\u001b[0m\u001b[1;33m,\u001b[0m \u001b[0mop_str\u001b[0m\u001b[1;33m,\u001b[0m \u001b[0ma\u001b[0m\u001b[1;33m,\u001b[0m \u001b[0mb\u001b[0m\u001b[1;33m)\u001b[0m  \u001b[1;31m# type: ignore[misc]\u001b[0m\u001b[1;33m\u001b[0m\u001b[1;33m\u001b[0m\u001b[0m\n\u001b[0m\u001b[0;32m    240\u001b[0m     \u001b[1;32mreturn\u001b[0m \u001b[0m_evaluate_standard\u001b[0m\u001b[1;33m(\u001b[0m\u001b[0mop\u001b[0m\u001b[1;33m,\u001b[0m \u001b[0mop_str\u001b[0m\u001b[1;33m,\u001b[0m \u001b[0ma\u001b[0m\u001b[1;33m,\u001b[0m \u001b[0mb\u001b[0m\u001b[1;33m)\u001b[0m\u001b[1;33m\u001b[0m\u001b[1;33m\u001b[0m\u001b[0m\n\u001b[0;32m    241\u001b[0m \u001b[1;33m\u001b[0m\u001b[0m\n",
      "\u001b[1;32m~\\anaconda3\\lib\\site-packages\\pandas\\core\\computation\\expressions.py\u001b[0m in \u001b[0;36m_evaluate_numexpr\u001b[1;34m(op, op_str, a, b)\u001b[0m\n\u001b[0;32m    126\u001b[0m \u001b[1;33m\u001b[0m\u001b[0m\n\u001b[0;32m    127\u001b[0m     \u001b[1;32mif\u001b[0m \u001b[0mresult\u001b[0m \u001b[1;32mis\u001b[0m \u001b[1;32mNone\u001b[0m\u001b[1;33m:\u001b[0m\u001b[1;33m\u001b[0m\u001b[1;33m\u001b[0m\u001b[0m\n\u001b[1;32m--> 128\u001b[1;33m         \u001b[0mresult\u001b[0m \u001b[1;33m=\u001b[0m \u001b[0m_evaluate_standard\u001b[0m\u001b[1;33m(\u001b[0m\u001b[0mop\u001b[0m\u001b[1;33m,\u001b[0m \u001b[0mop_str\u001b[0m\u001b[1;33m,\u001b[0m \u001b[0ma\u001b[0m\u001b[1;33m,\u001b[0m \u001b[0mb\u001b[0m\u001b[1;33m)\u001b[0m\u001b[1;33m\u001b[0m\u001b[1;33m\u001b[0m\u001b[0m\n\u001b[0m\u001b[0;32m    129\u001b[0m \u001b[1;33m\u001b[0m\u001b[0m\n\u001b[0;32m    130\u001b[0m     \u001b[1;32mreturn\u001b[0m \u001b[0mresult\u001b[0m\u001b[1;33m\u001b[0m\u001b[1;33m\u001b[0m\u001b[0m\n",
      "\u001b[1;32m~\\anaconda3\\lib\\site-packages\\pandas\\core\\computation\\expressions.py\u001b[0m in \u001b[0;36m_evaluate_standard\u001b[1;34m(op, op_str, a, b)\u001b[0m\n\u001b[0;32m     67\u001b[0m     \u001b[1;32mif\u001b[0m \u001b[0m_TEST_MODE\u001b[0m\u001b[1;33m:\u001b[0m\u001b[1;33m\u001b[0m\u001b[1;33m\u001b[0m\u001b[0m\n\u001b[0;32m     68\u001b[0m         \u001b[0m_store_test_result\u001b[0m\u001b[1;33m(\u001b[0m\u001b[1;32mFalse\u001b[0m\u001b[1;33m)\u001b[0m\u001b[1;33m\u001b[0m\u001b[1;33m\u001b[0m\u001b[0m\n\u001b[1;32m---> 69\u001b[1;33m     \u001b[1;32mreturn\u001b[0m \u001b[0mop\u001b[0m\u001b[1;33m(\u001b[0m\u001b[0ma\u001b[0m\u001b[1;33m,\u001b[0m \u001b[0mb\u001b[0m\u001b[1;33m)\u001b[0m\u001b[1;33m\u001b[0m\u001b[1;33m\u001b[0m\u001b[0m\n\u001b[0m\u001b[0;32m     70\u001b[0m \u001b[1;33m\u001b[0m\u001b[0m\n\u001b[0;32m     71\u001b[0m \u001b[1;33m\u001b[0m\u001b[0m\n",
      "\u001b[1;31mKeyboardInterrupt\u001b[0m: "
     ]
    }
   ],
   "source": [
    "Path = [] # Stores the ACT Figure\n",
    "ACT_THRES = [5,20,40,60,80,100]\n",
    "\n",
    "\n",
    "for outer_j in trange(len(ACT_THRES)):\n",
    "    \n",
    "    Path = [] # Stores the ACT Figure\n",
    "    \n",
    "    INDI_FIT = [] # Stores the Final State of Fitness\n",
    "\n",
    "    fitter = 0\n",
    "    \n",
    "    ID = []   \n",
    "    \n",
    "    for count in trange(0,101,1):  \n",
    "        \n",
    "        MK = [] # Source Keys\n",
    "        SK = [] # Destination Keys \n",
    "        \n",
    "        # Net Assignment \n",
    "        \n",
    "        INPUT = MINER(df1, ACT_THRES[outer_j], count) # The Process MAP that is to be compared is entered here (Dataset is entered here) # MAP HERE\n",
    "            \n",
    "        MK = Key_SEGREGATOR(map_2_key(INPUT))[0].copy()\n",
    "        SK = Key_SEGREGATOR(map_2_key(INPUT))[1].copy()\n",
    "        \n",
    "        MK, SK = START_END_DEL(MK,SK)\n",
    "        \n",
    "\n",
    "    \n",
    "    #-------------------------------------------------------------------------------------------------------------------------\n",
    "        \n",
    "        if MK != []:\n",
    "            \n",
    "            \n",
    "            P_MAP = ONE_D_Mapper(MK,SK)\n",
    "            \n",
    "                    \n",
    "            for i in range(len(ids)): # INDIVIDUAL LOOPING OF EACH ID\n",
    "\n",
    "                df3 = df1[df1[\"case_id\"] == ids[i]].reset_index(drop = True) # THE ID for each Dataset is mentioned here\n",
    "\n",
    "                Trace = df3.copy() # ID CARRYING VARIABLE\n",
    "\n",
    "                for j in range(len(Trace)):\n",
    "                    Trace[\"task\"][j] = Filter(Trace[\"task\"][j]) # FILTEREING THE INDIVIDUAL TRACE INPUT FROM ABOVE\n",
    "        \n",
    "        \n",
    "                # GENERATION FROM THE LOG's SIDE\n",
    "                Pre_FIT = Wheeler(Trace, P_MAP)\n",
    "\n",
    "                if len(Trace) == (sum(Pre_FIT)+1):\n",
    "                    fitter+=1\n",
    "\n",
    "                if i == len(ids)-1:\n",
    "                    INDI_FIT.append((fitter/len(ids))*100) # 272 = len of ids\n",
    "                    print(\"Fitness = \", (fitter/len(ids))*100)\n",
    "                    fitter=0 # ReSETTING THE COUNTER\n",
    "\n",
    "            Path.append(count)\n",
    "        else:\n",
    "            Path.append(count)\n",
    "            INDI_FIT.append(0)\n",
    "            print(\"Fitness =  0\")\n",
    "            \n",
    "    if outer_j == 0:\n",
    "        res_FA0 = pd.DataFrame({\"Activity_Rate\":Path,\"Fitness\":INDI_FIT})\n",
    "\n",
    "    elif outer_j == 1:\n",
    "        res_FA1 = pd.DataFrame({\"Activity_Rate\":Path,\"Fitness\":INDI_FIT})\n",
    "\n",
    "    elif outer_j == 2:\n",
    "        res_FA2 = pd.DataFrame({\"Activity_Rate\":Path,\"Fitness\":INDI_FIT})\n",
    "\n",
    "    elif outer_j == 3:\n",
    "        res_FA3 = pd.DataFrame({\"Activity_Rate\":Path,\"Fitness\":INDI_FIT})\n",
    "\n",
    "    elif outer_j == 4:\n",
    "        res_FA4 = pd.DataFrame({\"Activity_Rate\":Path,\"Fitness\":INDI_FIT})\n",
    "\n",
    "    elif outer_j == 5:\n",
    "        res_FA5 = pd.DataFrame({\"Activity_Rate\":Path,\"Fitness\":INDI_FIT})\n",
    "        \n",
    "        \n",
    "        print(\"\\n\\n-----------------------------------------------------------------------------------------\")                   \n",
    "        print(\"-----------------------------------NEXT ID OVER HERE-------------------------------------\\n\\n\")                   \n",
    "    \n",
    "    #print(\"\\n\\n Total Number of FIT executions are \", final_state, \"out of a Total of\", len(ids), \"IDs\")\n",
    "    #print(\"Fitness Rating = :\", (final_state/len(ids))*100)\n",
    "    \n",
    "Path_FULL = res_FA0.copy()\n",
    "Path_FULL = Path_FULL.merge(res_FA1, on='Activity_Rate', how='right')\n",
    "Path_FULL = Path_FULL.merge(res_FA2, on='Activity_Rate', how='right')\n",
    "Path_FULL = Path_FULL.merge(res_FA3, on='Activity_Rate', how='right')\n",
    "Path_FULL = Path_FULL.merge(res_FA4, on='Activity_Rate', how='right')\n",
    "Path_FULL = Path_FULL.merge(res_FA5, on='Activity_Rate', how='right')\n",
    "\n",
    "Path_FULL.columns = ['Path_Rate', 'Activity = 5', 'Activity = 20' ,'Activity = 40', 'Activity = 60','Activity = 80','Activity = 100']\n",
    "\n",
    "Path_FULL"
   ]
  },
  {
   "cell_type": "code",
   "execution_count": null,
   "id": "656d0521",
   "metadata": {},
   "outputs": [],
   "source": [
    "PATH_FULL.to_csv(\"Sample_5_Fitness_PATH.csv\")"
   ]
  },
  {
   "cell_type": "code",
   "execution_count": null,
   "id": "6aecf434",
   "metadata": {},
   "outputs": [],
   "source": [
    "figure(figsize=(12, 8), dpi=100)\n",
    "sns.lineplot(x='Path_Rate', y='value', hue='variable', data=pd.melt(Path_FULL, ['Path_Rate']), lw = 2)\n",
    "plt.xlabel(\"Path (0-100%)\")\n",
    "plt.ylabel(\"Fitness Rating\")\n",
    "plt.title(\"Fitness - When Activity is Path is kept Constant & Varied b/w (0 - 100 )\")\n",
    "plt.show()"
   ]
  }
 ],
 "metadata": {
  "kernelspec": {
   "display_name": "Python 3 (ipykernel)",
   "language": "python",
   "name": "python3"
  },
  "language_info": {
   "codemirror_mode": {
    "name": "ipython",
    "version": 3
   },
   "file_extension": ".py",
   "mimetype": "text/x-python",
   "name": "python",
   "nbconvert_exporter": "python",
   "pygments_lexer": "ipython3",
   "version": "3.9.7"
  }
 },
 "nbformat": 4,
 "nbformat_minor": 5
}
